{
 "cells": [
  {
   "cell_type": "code",
   "execution_count": 1,
   "metadata": {},
   "outputs": [
    {
     "name": "stdout",
     "output_type": "stream",
     "text": [
      "in f1\n",
      "in f1\n",
      "in f1\n",
      "in f2\n",
      "after f call\n"
     ]
    }
   ],
   "source": [
    "#assign variable with functio name\n",
    "def f1():\n",
    "    print(\"in f1\")\n",
    "f1()\n",
    "f2=f1\n",
    "f2()\n",
    "def f1(f):\n",
    "    print(\"in f1\")\n",
    "    f()\n",
    "    print(\"after f call\")\n",
    "def f2():\n",
    "    print(\"in f2\")\n",
    "f1(f2)"
   ]
  },
  {
   "cell_type": "code",
   "execution_count": 4,
   "metadata": {},
   "outputs": [
    {
     "name": "stdout",
     "output_type": "stream",
     "text": [
      "12\n",
      "5.0\n"
     ]
    }
   ],
   "source": [
    "#add 3 numbers using lambda\n",
    "sum=lambda x,y,z:x+y+z\n",
    "print(sum(3,4,5))\n",
    "import math\n",
    "sqrt=lambda n:math.sqrt(n)\n",
    "print(sqrt(25))"
   ]
  },
  {
   "cell_type": "code",
   "execution_count": 15,
   "metadata": {},
   "outputs": [
    {
     "name": "stdout",
     "output_type": "stream",
     "text": [
      "False\n"
     ]
    }
   ],
   "source": [
    "#compare two numbers\n",
    "#res=lambda x,y:x if (x>y) else y\n",
    "res=lambda x,y: (x>y)\n",
    "print(res(10,20)) #False\n",
    "#print(res(10,20))#20(10,20))#20\n"
   ]
  },
  {
   "cell_type": "code",
   "execution_count": 17,
   "metadata": {},
   "outputs": [
    {
     "name": "stdout",
     "output_type": "stream",
     "text": [
      "[4, 9, 16, 25]\n"
     ]
    }
   ],
   "source": [
    "def sq(n):\n",
    "    return n*n\n",
    "L=[2,3,4,5]\n",
    "s=list(map(sq,L))\n",
    "print(s)"
   ]
  },
  {
   "cell_type": "code",
   "execution_count": 20,
   "metadata": {},
   "outputs": [
    {
     "name": "stdout",
     "output_type": "stream",
     "text": [
      "<map object at 0x760f541f2ec0>\n",
      "9\n",
      "16\n",
      "25\n",
      "36\n"
     ]
    }
   ],
   "source": [
    "L=[3,4,5,6]\n",
    "res=map(lambda x:x*x,L)\n",
    "print(res) #print(list(res))  # [9, 16, 25, 36]\n",
    "for i in res:\n",
    "    print(i)"
   ]
  },
  {
   "cell_type": "code",
   "execution_count": 21,
   "metadata": {},
   "outputs": [
    {
     "name": "stdout",
     "output_type": "stream",
     "text": [
      "[4, 9, 16, 25]\n",
      "4\n",
      "9\n",
      "16\n",
      "25\n"
     ]
    }
   ],
   "source": [
    "L=[2,3,4,5]\n",
    "r=list(map(lambda x:x*x,L))\n",
    "print(r)\n",
    "for i in r:\n",
    "    print(i)"
   ]
  },
  {
   "cell_type": "code",
   "execution_count": 22,
   "metadata": {},
   "outputs": [
    {
     "name": "stdout",
     "output_type": "stream",
     "text": [
      "['HELLO', 'PYTHON', 'CLASS']\n"
     ]
    }
   ],
   "source": [
    "#Convert all string in list into uppercase in new list.\n",
    "L=['hello','python','class']\n",
    "res=list(map(str.upper,L))\n",
    "print(res)  #['HELLO', 'PYTHON', 'CLASS']"
   ]
  },
  {
   "cell_type": "code",
   "execution_count": 23,
   "metadata": {},
   "outputs": [
    {
     "name": "stdout",
     "output_type": "stream",
     "text": [
      "['HELLO', 'PYTHON', 'CLASS']\n"
     ]
    }
   ],
   "source": [
    "L=['hello','python','class']\n",
    "res=list(map(lambda x:x.upper(),L))\n",
    "print(res)"
   ]
  },
  {
   "cell_type": "code",
   "execution_count": 24,
   "metadata": {},
   "outputs": [
    {
     "name": "stdout",
     "output_type": "stream",
     "text": [
      "[12, 9]\n"
     ]
    }
   ],
   "source": [
    "#Create list of length of all words greater than 4\n",
    "#create list of numbers, double every even number ....\n",
    "L1=[2,3,4]\n",
    "L2=[6,3]\n",
    "res=list(map(lambda x,y:x*y,L1,L2))\n",
    "print(res)"
   ]
  },
  {
   "cell_type": "code",
   "execution_count": null,
   "metadata": {},
   "outputs": [],
   "source": []
  }
 ],
 "metadata": {
  "kernelspec": {
   "display_name": "Python 3",
   "language": "python",
   "name": "python3"
  },
  "language_info": {
   "codemirror_mode": {
    "name": "ipython",
    "version": 3
   },
   "file_extension": ".py",
   "mimetype": "text/x-python",
   "name": "python",
   "nbconvert_exporter": "python",
   "pygments_lexer": "ipython3",
   "version": "3.12.7"
  }
 },
 "nbformat": 4,
 "nbformat_minor": 2
}
