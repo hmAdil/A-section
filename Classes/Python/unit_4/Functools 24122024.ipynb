{
 "cells": [
  {
   "cell_type": "code",
   "execution_count": 4,
   "metadata": {},
   "outputs": [
    {
     "name": "stdout",
     "output_type": "stream",
     "text": [
      "The factorial of 5 is:  120\n"
     ]
    }
   ],
   "source": [
    "#Example 1. TO find the facotrial of a number using reduce function.\n",
    "import functools\n",
    "n=int(input(\"Enter an integer\")); print(f\"The factorial of {n} is: \", functools.reduce(int.__mul__,range(1,n+1)))\n"
   ]
  },
  {
   "cell_type": "code",
   "execution_count": null,
   "metadata": {},
   "outputs": [
    {
     "name": "stdout",
     "output_type": "stream",
     "text": [
      "25\n"
     ]
    },
    {
     "ename": "TypeError",
     "evalue": "reduce() arg 2 must support iteration",
     "output_type": "error",
     "traceback": [
      "\u001b[0;31m---------------------------------------------------------------------------\u001b[0m",
      "\u001b[0;31mTypeError\u001b[0m                                 Traceback (most recent call last)",
      "Cell \u001b[0;32mIn[23], line 10\u001b[0m\n\u001b[1;32m      8\u001b[0m \u001b[38;5;28mprint\u001b[39m(res)\n\u001b[1;32m      9\u001b[0m \u001b[38;5;66;03m#res1=functools.reduce(lambda x,y:x+y,[2,3,4,5],10)     #10 is added at the beginning to 2, then 3 is added to sum, then 4 and then 5\u001b[39;00m\n\u001b[0;32m---> 10\u001b[0m res1\u001b[38;5;241m=\u001b[39m\u001b[43mfunctools\u001b[49m\u001b[38;5;241;43m.\u001b[39;49m\u001b[43mreduce\u001b[49m\u001b[43m(\u001b[49m\u001b[38;5;28;43;01mlambda\u001b[39;49;00m\u001b[43m \u001b[49m\u001b[43mx\u001b[49m\u001b[43m,\u001b[49m\u001b[43my\u001b[49m\u001b[43m:\u001b[49m\u001b[43mx\u001b[49m\u001b[38;5;241;43m+\u001b[39;49m\u001b[43my\u001b[49m\u001b[43m,\u001b[49m\u001b[38;5;241;43m10\u001b[39;49m\u001b[43m,\u001b[49m\u001b[43m[\u001b[49m\u001b[38;5;241;43m2\u001b[39;49m\u001b[43m,\u001b[49m\u001b[38;5;241;43m3\u001b[39;49m\u001b[43m,\u001b[49m\u001b[38;5;241;43m4\u001b[39;49m\u001b[43m,\u001b[49m\u001b[38;5;241;43m5\u001b[39;49m\u001b[43m]\u001b[49m\u001b[43m)\u001b[49m\n\u001b[1;32m     11\u001b[0m \u001b[38;5;28mprint\u001b[39m(res1)\n",
      "\u001b[0;31mTypeError\u001b[0m: reduce() arg 2 must support iteration"
     ]
    }
   ],
   "source": [
    "#Example 2. To WAP which prints 2 numbers and their sum in next line and goes on till a specified range.\n",
    "import functools\n",
    "def sum(x,y):\n",
    "    #print(x,y) #To show the execution\n",
    "    return x+y\n",
    "n=int(input(\"Enter a number\"))\n",
    "res=functools.reduce(sum,range(1,n+1),10) #10 is added at the beginning right to left\n",
    "print(res)\n",
    "#res1=functools.reduce(lambda x,y:x+y,[2,3,4,5],10) #10 is added at the beginning to 2, then 3 is added to sum, then 4 and then 5\n",
    "res1=functools.reduce(lambda x,y:x+y,10,[2,3,4,5])\n",
    "print(res1)"
   ]
  },
  {
   "cell_type": "code",
   "execution_count": 25,
   "metadata": {},
   "outputs": [
    {
     "name": "stdout",
     "output_type": "stream",
     "text": [
      "Avg Temp:  26.52\n",
      "Max Temp:  32\n"
     ]
    }
   ],
   "source": [
    "# To find the sum and the maximum temperature from a given list containing all of the temperatures\n",
    "import functools\n",
    "#temperature=[22.5,24.6,26,32,27.5]\n",
    "temperature=[]\n",
    "n=int(input(\"Enter the number of days\"))\n",
    "for i in range(n):\n",
    "    temp=float(input(\"Enter the temperature of day \"+str(i+1)+\" : \"))\n",
    "    temperature.append(temp)\n",
    "\n",
    "#using reduce to compute the sum of the temperatures\n",
    "sum=functools.reduce(lambda a,b:a+b, temperature); print(\"Avg Temp: \",sum/len(temperature))\n",
    "#using reduce to compute the max temperature\n",
    "max_temp=functools.reduce(lambda a,b:a if a>b else b, temperature); print(\"Max Temp: \",max_temp)"
   ]
  },
  {
   "cell_type": "code",
   "execution_count": 35,
   "metadata": {},
   "outputs": [
    {
     "name": "stdout",
     "output_type": "stream",
     "text": [
      "[(1, 2), (2, 3), (3, 4), (4, 5), (5, 6)]\n",
      "[(4, 9), (5, 12)]\n",
      "[(4, 9), (5, 12), (6, None)]\n"
     ]
    }
   ],
   "source": [
    "''' Start of zip() function.'''\n",
    "# z=zip()\n",
    "# print(z,type(z))\n",
    "# z1=list(zip())\n",
    "# print(z1,type(z1))\n",
    "# l1=[11,12,13]\n",
    "# l2=[21,22,22]\n",
    "# print(list(zip(l1,l2)))\n",
    "# l3=[23,34,45]\n",
    "# l4={56,67,78}\n",
    "# print(list(zip(l3,l4)))\n",
    "# print(set(zip(l3,l4,l1,l2)))\n",
    "# print(list(zip(l3,l4,l1,l2)))\n",
    "# print(set(zip(l3,l4)))\n",
    "\n",
    "l1,l2,l3,l4=[2,3,4],[5,6,7],[4,5,6],[9,12]\n",
    "\n",
    "print(list(zip(range(1,6),range(2,7))))\n",
    "print(list(zip(l3,l4)))\n",
    "# As we can see 6 hasn't been printed so if we forcefully want output with 6 so we will use itertools library which is used for functools and zip function and helps us to print output.\n",
    "import itertools\n",
    "print(list(itertools.zip_longest(l3,l4))) # It will print 6 as well\n"
   ]
  },
  {
   "cell_type": "code",
   "execution_count": 41,
   "metadata": {},
   "outputs": [
    {
     "name": "stdout",
     "output_type": "stream",
     "text": [
      "1. dict zip of d1 and d2: {1: 1, 2: 2, 3: 3}\n",
      "2. list zip of items of d1 and d2: [((1, 'one'), (1, 'red')), ((2, 'two'), (2, 'blue')), ((3, 'three'), (3, 'orange'))]\n",
      "3. list zip of keys of d1 and d2: [(1, 1), (2, 2), (3, 3)]\n",
      "4. list zip of values of d1 and d2: [('one', 'red'), ('two', 'blue'), ('three', 'orange')]\n",
      "5. list zip of key of d1 and value of d2:  [(1, 'red'), (2, 'blue'), (3, 'orange')]\n",
      "6. list zip of value of d1 and key of d2:  [('one', 1), ('two', 2), ('three', 3)]\n"
     ]
    }
   ],
   "source": [
    "d1={1:\"one\",2:\"two\",3:\"three\"}\n",
    "d2={1:\"red\",2:\"blue\",3:\"orange\"}\n",
    "print('1. dict zip of d1 and d2:',dict(zip(d1,d2)))\n",
    "print('2. list zip of items of d1 and d2:',list(zip(d1.items(),d2.items())))\n",
    "print('3. list zip of keys of d1 and d2:',list(zip(d1.keys(),d2.keys())))\n",
    "print('4. list zip of values of d1 and d2:',list(zip(d1.values(),d2.values())))\n",
    "print('5. list zip of key of d1 and value of d2: ',list(zip(d1.keys(),d2.values())))\n",
    "print('6. list zip of value of d1 and key of d2: ',list(zip(d1.values(),d2.keys())))"
   ]
  },
  {
   "cell_type": "code",
   "execution_count": 7,
   "metadata": {},
   "outputs": [
    {
     "name": "stdout",
     "output_type": "stream",
     "text": [
      "one:red\n",
      "two:blue\n",
      "three:orange\n"
     ]
    }
   ],
   "source": [
    "d1={1:\"one\",2:\"two\",3:\"three\"}\n",
    "d2={1:\"red\",2:\"blue\",3:\"orange\"}\n",
    "for i,j in zip(d1.values(),d2.values()):\n",
    "    #print(i,\":\",j)\n",
    "    print(i+\":\"+j)"
   ]
  },
  {
   "cell_type": "code",
   "execution_count": 15,
   "metadata": {},
   "outputs": [
    {
     "name": "stdout",
     "output_type": "stream",
     "text": [
      "Numbers you provided: [1, 2, 3, 4, 5]\n",
      "Cubes: [1, 8, 27, 64, 125]\n",
      "Numbers and Cubes together: [(1, 1), (2, 8), (3, 27), (4, 64), (5, 125)]\n"
     ]
    }
   ],
   "source": [
    "a=[]\n",
    "n=int(input(\"Enter number of integers for which you need cubes: \"))\n",
    "for i in range(n):\n",
    "    a.append(int(input(\"Enter integer: \")))\n",
    "b=list(map(lambda x:x*x*x,a))\n",
    "print(\"Numbers you provided:\",a); print(\"Cubes:\",b)\n",
    "print(\"Numbers and Cubes together:\",list(zip(a,b)))"
   ]
  },
  {
   "cell_type": "code",
   "execution_count": 27,
   "metadata": {},
   "outputs": [
    {
     "name": "stdout",
     "output_type": "stream",
     "text": [
      "[(1, 'a'), (2, 'b'), (3, 'c')]\n",
      "[(1, 2, 3), ('a', 'b', 'c')]\n"
     ]
    }
   ],
   "source": [
    "# a=[1,2,3]\n",
    "# b=['a','b','c']\n",
    "# # print(list(zip(a,b)))\n",
    "# zipped=zip(a,b)\n",
    "# unzipped=zip(*zipped)\n",
    "# print(list(zipped))\n",
    "# print(list(unzipped))\n",
    "\n",
    "a = [1, 2, 3]\n",
    "b = ['a', 'b', 'c']\n",
    "zipped = list(zip(a, b))  # Convert the zip object to a list immediately\n",
    "print(zipped)  # This will print [(1, 'a'), (2, 'b'), (3, 'c')]\n",
    "# Now you can use 'zipped' without worrying about exhaustion\n",
    "unzipped = zip(*zipped)  # Unzip the list\n",
    "print(list(unzipped))  # This will print [(1, 2, 3), ('a', 'b', 'c')]"
   ]
  },
  {
   "cell_type": "code",
   "execution_count": 32,
   "metadata": {},
   "outputs": [
    {
     "name": "stdout",
     "output_type": "stream",
     "text": [
      "['o', 'n', 's', 'e']\n"
     ]
    }
   ],
   "source": [
    "#print last letter of word list\n",
    "res=[word[-1] for word in ['hello','python','class','welcome']]; print(res)"
   ]
  },
  {
   "cell_type": "code",
   "execution_count": 31,
   "metadata": {},
   "outputs": [
    {
     "name": "stdout",
     "output_type": "stream",
     "text": [
      "[('Jaipur', 6), ('Bangalore', 9), ('Mumbai', 6), ('Kolkata', 7)]\n"
     ]
    }
   ],
   "source": [
    "#print name and length of each city\n",
    "res=[(x,len(x)) for x in ['Jaipur','Bangalore','Mumbai','Kolkata']]; print(res)"
   ]
  },
  {
   "cell_type": "code",
   "execution_count": 34,
   "metadata": {},
   "outputs": [
    {
     "name": "stdout",
     "output_type": "stream",
     "text": [
      "[1, 9, 25, 49, 81, 121, 169, 225, 289, 361]\n"
     ]
    }
   ],
   "source": [
    "# Print square of only odd numbers in range(1,21)\n",
    "l=[x*x for x in range(1,21) if x%2!=0]\n",
    "print(l)"
   ]
  },
  {
   "cell_type": "code",
   "execution_count": null,
   "metadata": {},
   "outputs": [],
   "source": [
    "'''In List comprehension use only one variable you can't use multiple variables separately.'''\n"
   ]
  }
 ],
 "metadata": {
  "kernelspec": {
   "display_name": "Python 3",
   "language": "python",
   "name": "python3"
  },
  "language_info": {
   "codemirror_mode": {
    "name": "ipython",
    "version": 3
   },
   "file_extension": ".py",
   "mimetype": "text/x-python",
   "name": "python",
   "nbconvert_exporter": "python",
   "pygments_lexer": "ipython3",
   "version": "3.12.7"
  }
 },
 "nbformat": 4,
 "nbformat_minor": 2
}
