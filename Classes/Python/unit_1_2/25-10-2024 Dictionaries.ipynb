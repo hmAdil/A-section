{
 "cells": [
  {
   "cell_type": "code",
   "execution_count": 1,
   "id": "41c36ad5-f66f-476e-9678-f672bde93f5d",
   "metadata": {},
   "outputs": [],
   "source": [
    "# To access values in the dictionary we use keys\n",
    "# a dictionary has a syntax like {key:value associated with a key}\n",
    "# key is of immutable type - cannot be changed"
   ]
  },
  {
   "cell_type": "code",
   "execution_count": 2,
   "id": "f3db2aa7-d290-457b-af08-962a97115c8d",
   "metadata": {
    "panel-layout": {
     "height": 837.477,
     "visible": true,
     "width": 100
    }
   },
   "outputs": [
    {
     "data": {
      "text/plain": [
       "['__class__',\n",
       " '__class_getitem__',\n",
       " '__contains__',\n",
       " '__delattr__',\n",
       " '__delitem__',\n",
       " '__dir__',\n",
       " '__doc__',\n",
       " '__eq__',\n",
       " '__format__',\n",
       " '__ge__',\n",
       " '__getattribute__',\n",
       " '__getitem__',\n",
       " '__getstate__',\n",
       " '__gt__',\n",
       " '__hash__',\n",
       " '__init__',\n",
       " '__init_subclass__',\n",
       " '__ior__',\n",
       " '__iter__',\n",
       " '__le__',\n",
       " '__len__',\n",
       " '__lt__',\n",
       " '__ne__',\n",
       " '__new__',\n",
       " '__or__',\n",
       " '__reduce__',\n",
       " '__reduce_ex__',\n",
       " '__repr__',\n",
       " '__reversed__',\n",
       " '__ror__',\n",
       " '__setattr__',\n",
       " '__setitem__',\n",
       " '__sizeof__',\n",
       " '__str__',\n",
       " '__subclasshook__',\n",
       " 'clear',\n",
       " 'copy',\n",
       " 'fromkeys',\n",
       " 'get',\n",
       " 'items',\n",
       " 'keys',\n",
       " 'pop',\n",
       " 'popitem',\n",
       " 'setdefault',\n",
       " 'update',\n",
       " 'values']"
      ]
     },
     "execution_count": 2,
     "metadata": {},
     "output_type": "execute_result"
    }
   ],
   "source": [
    "#let's access the attributes of a dictionary\n",
    "dir(dict)"
   ]
  },
  {
   "cell_type": "code",
   "execution_count": 3,
   "id": "fb80418a-7185-4abf-8a21-22ac00a5c405",
   "metadata": {},
   "outputs": [
    {
     "name": "stdout",
     "output_type": "stream",
     "text": [
      "{} <class 'dict'> 1991050053824\n",
      "{} <class 'dict'> 1991050052864\n",
      "{1: 'five', 2: 'two', 3: 'three'}\n"
     ]
    }
   ],
   "source": [
    "d1=dict() # or d1 = {}\n",
    "print(d1,type(d1),id(d1))\n",
    "d2={}; print(d2,type(d2),id(d2))\n",
    "d3={1:\"one\",2:\"two\",3:\"three\",1:\"five\"} ; print(d3)"
   ]
  },
  {
   "cell_type": "code",
   "execution_count": 4,
   "id": "3bf09d13-56ce-4bb1-96e5-ca40e5ded8c8",
   "metadata": {},
   "outputs": [
    {
     "name": "stdout",
     "output_type": "stream",
     "text": [
      "{1: 'one', 2: 'two', 34: 'three', (5, 4): 'four'}\n"
     ]
    }
   ],
   "source": [
    "#key can be a tuple but not a list because list cannot be hashed into a dictionary key set.\n",
    "#The following error will show up..\n",
    "'''\n",
    "TypeError                                 Traceback (most recent call last)\n",
    "Cell In[19], line 2\n",
    "      1 #key can be a tuple but not a list because list cannot be hashed into a dictionary key set.\n",
    "----> 2 d4 = {1:'one',2:'two',34:'three',[5,4]:'four'}\n",
    "      3 print(d4)\n",
    "\n",
    "TypeError: unhashable type: 'list' \n",
    "'''\n",
    "\n",
    "d4 = {1:'one',2:'two',34:'three',(5,4):'four'}\n",
    "print(d4)"
   ]
  },
  {
   "cell_type": "code",
   "execution_count": 5,
   "id": "4e2afae9-5fd2-4631-bdf2-cdc0822f104d",
   "metadata": {},
   "outputs": [
    {
     "name": "stdin",
     "output_type": "stream",
     "text": [
      "Enter number n till which you want a dictionary of squares:  5\n"
     ]
    },
    {
     "name": "stdout",
     "output_type": "stream",
     "text": [
      "{1: 1, 2: 4, 3: 9, 4: 16, 5: 25}\n"
     ]
    }
   ],
   "source": [
    "# Create a dictionary which prints number of key and the associated square for n numbers provided by the end-user.\n",
    "n=int(input(\"Enter number n till which you want a dictionary of squares: \"))\n",
    "d={}\n",
    "for i in range(1,n+1):\n",
    "    d[i]=i*i\n",
    "print(d)"
   ]
  },
  {
   "cell_type": "code",
   "execution_count": 6,
   "id": "a74678d2-618e-43cc-bd6f-d8bfb69d64dc",
   "metadata": {},
   "outputs": [],
   "source": [
    "#WAP to create a dictionary of students where key is name of student and the value associated to it is the total marks\n",
    "#Homework"
   ]
  },
  {
   "cell_type": "code",
   "execution_count": 7,
   "id": "232c1f70-3aea-4925-bd7a-ee9ba9997f81",
   "metadata": {},
   "outputs": [
    {
     "name": "stdout",
     "output_type": "stream",
     "text": [
      "True\n",
      "False\n",
      "3 1 3 1 3 3\n",
      "red\n",
      "blue\n"
     ]
    }
   ],
   "source": [
    "color1={1:'red',2:'green',3:'blue'} #this is an und=ordered dictionary\n",
    "color2={2:'green',1:'red',3:'blue'}\n",
    "print(color1==color2)\n",
    "#in contrast though, a list wil nto work like that and show true output\n",
    "l1=[2,3,4]\n",
    "l2=[4,2,3]\n",
    "print(l1==l2)\n",
    "\n",
    "print(max(color1), min(color1), max(color2), min(color2), len(color1), len(color2))\n",
    "print(color1.get(1)); print(color2.get(3))"
   ]
  },
  {
   "cell_type": "code",
   "execution_count": 8,
   "id": "ccb18f40-1f03-4a69-9396-6a73ee614566",
   "metadata": {},
   "outputs": [
    {
     "name": "stdout",
     "output_type": "stream",
     "text": [
      "red green blue \n",
      "1\n",
      "2\n",
      "3\n",
      "\n",
      "(1, 'red')\n",
      "(2, 'green')\n",
      "(3, 'blue')\n",
      "\n"
     ]
    }
   ],
   "source": [
    "#print dictioanry using for loop i.e. iterable\n",
    "for i in color1.values():\n",
    "    print(i,end=\" \")\n",
    "print()\n",
    "for i in color1.keys():\n",
    "    print(i)\n",
    "print()\n",
    "for i in color1.items():\n",
    "    print(i)\n",
    "print()"
   ]
  },
  {
   "cell_type": "code",
   "execution_count": 9,
   "id": "3fc9d6bc-17d4-4631-aab2-d1cb9dd44792",
   "metadata": {},
   "outputs": [
    {
     "name": "stdin",
     "output_type": "stream",
     "text": [
      "Enter name:  A\n",
      "Enter marks:  4\n",
      "Enter name:  B\n",
      "Enter marks:  5\n",
      "Enter name:  C\n",
      "Enter marks:  6\n",
      "Enter name:  D\n",
      "Enter marks:  8\n"
     ]
    },
    {
     "name": "stdout",
     "output_type": "stream",
     "text": [
      "{'A': 4, 'B': 5, 'C': 6, 'D': 8}\n",
      "5.75\n"
     ]
    }
   ],
   "source": [
    "#WAP to calculate avg marks of 4 students\n",
    "student = {}\n",
    "for i in range (1,5):\n",
    "    name=input(\"Enter name: \")\n",
    "    marks=int(input(\"Enter marks: \"))\n",
    "    student[name]=marks\n",
    "print(student)\n",
    "sum=0\n",
    "for i in student.values():\n",
    "    sum += i\n",
    "print(sum/len(student))"
   ]
  },
  {
   "cell_type": "code",
   "execution_count": 17,
   "id": "3cdaadb1-32cb-400e-9464-6260ec038036",
   "metadata": {},
   "outputs": [
    {
     "name": "stdout",
     "output_type": "stream",
     "text": [
      "567\n",
      "{'A': 234, 'C': 890}\n"
     ]
    }
   ],
   "source": [
    "student={'A':234,'B':567,'C':890}\n",
    "print(student.pop('B'))\n",
    "print(student)"
   ]
  },
  {
   "cell_type": "code",
   "execution_count": 19,
   "id": "9ec5ef37-f021-478c-af1e-e879a348df5e",
   "metadata": {},
   "outputs": [
    {
     "name": "stdout",
     "output_type": "stream",
     "text": [
      "('A', 234)\n",
      "{}\n"
     ]
    }
   ],
   "source": [
    "print(student.popitem())\n",
    "print(student)"
   ]
  },
  {
   "cell_type": "code",
   "execution_count": 22,
   "id": "9426f64f-7f1d-4b6a-a0c1-6c4ec505ad34",
   "metadata": {},
   "outputs": [
    {
     "name": "stdout",
     "output_type": "stream",
     "text": [
      "(3, 'green')\n",
      "{1: 'red', 2: 'blue'}\n"
     ]
    }
   ],
   "source": [
    "color1={1:'red',2:'blue',3:'green'} ; print(color1.popitem())\n",
    "print(color1)"
   ]
  },
  {
   "cell_type": "code",
   "execution_count": 25,
   "id": "2d168a6f-63ed-415f-a2fe-074e7ce59195",
   "metadata": {},
   "outputs": [
    {
     "name": "stdout",
     "output_type": "stream",
     "text": [
      "{1: 'red', 2: 'blue', 4: 'orange'}\n"
     ]
    }
   ],
   "source": [
    "'''color1.setdefault(2,'orange')\n",
    "print(color1)'''\n",
    "color1.setdefault(4,'orange')\n",
    "print(color1)"
   ]
  },
  {
   "cell_type": "code",
   "execution_count": null,
   "id": "af9e8ade-1128-42a0-a655-089bf0b68f0f",
   "metadata": {
    "editable": true,
    "slideshow": {
     "slide_type": ""
    },
    "tags": []
   },
   "outputs": [],
   "source": [
    "color1.update([(3,'green')])"
   ]
  }
 ],
 "metadata": {
  "kernelspec": {
   "display_name": "Python 3 (ipykernel)",
   "language": "python",
   "name": "python3"
  },
  "language_info": {
   "codemirror_mode": {
    "name": "ipython",
    "version": 3
   },
   "file_extension": ".py",
   "mimetype": "text/x-python",
   "name": "python",
   "nbconvert_exporter": "python",
   "pygments_lexer": "ipython3",
   "version": "3.12.4"
  },
  "panel-cell-order": [
   "f3db2aa7-d290-457b-af08-962a97115c8d"
  ]
 },
 "nbformat": 4,
 "nbformat_minor": 5
}
