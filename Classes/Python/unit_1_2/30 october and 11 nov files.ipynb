{
 "cells": [
  {
   "cell_type": "code",
   "execution_count": 3,
   "id": "10f78418-026f-4e11-9cfe-f80ee08e60d5",
   "metadata": {},
   "outputs": [
    {
     "name": "stdout",
     "output_type": "stream",
     "text": [
      "this is just a text\n",
      "what are you trying to look here\n",
      "run away bro go shoo\n",
      "ip address leak krdunga\n"
     ]
    }
   ],
   "source": [
    "f=open('demo2.txt','r')\n",
    "content=f.read()\n",
    "print(content)\n",
    "f.close()"
   ]
  },
  {
   "cell_type": "code",
   "execution_count": 4,
   "id": "36669e84-a6ca-4ab9-956e-0ec581a5783d",
   "metadata": {},
   "outputs": [
    {
     "name": "stdout",
     "output_type": "stream",
     "text": [
      "this is just a text\n",
      "what are you trying to look here\n",
      "run away bro go shoo\n",
      "ip address leak krdunga\n"
     ]
    }
   ],
   "source": [
    "f=open('demo2.txt','r')\n",
    "r=f.readline()\n",
    "while r:\n",
    "    r=r.strip()\n",
    "    print(r)\n",
    "    r=f.readline()\n",
    "f.close()"
   ]
  },
  {
   "cell_type": "code",
   "execution_count": 5,
   "id": "a7c948e2-e193-49dc-8a05-d124a70da193",
   "metadata": {},
   "outputs": [
    {
     "name": "stdout",
     "output_type": "stream",
     "text": [
      "['this is just a text\\n', 'what are you trying to look here\\n', 'run away bro go shoo\\n', 'ip address leak krdunga']\n"
     ]
    }
   ],
   "source": [
    "f=open('demo2.txt','r')\n",
    "print(f.readlines())"
   ]
  },
  {
   "cell_type": "code",
   "execution_count": 12,
   "id": "170f4c47-110a-4179-8006-81dfc3663d9a",
   "metadata": {},
   "outputs": [],
   "source": [
    "f=open('demo2.txt','w')\n",
    "#print() and write()\n",
    "f.write('Sup how are you doing?')\n",
    "f.close()"
   ]
  },
  {
   "cell_type": "code",
   "execution_count": 21,
   "id": "11731746-5e0a-48e8-ae3e-2bd04b5676b1",
   "metadata": {},
   "outputs": [
    {
     "name": "stdout",
     "output_type": "stream",
     "text": [
      "Welcome to PES\n",
      "Doremon's Academy\n",
      "\n"
     ]
    }
   ],
   "source": [
    "f=open('demo2.txt','r')\n",
    "print(f.read())"
   ]
  },
  {
   "cell_type": "code",
   "execution_count": 20,
   "id": "a97cf5a1-ef64-4ee5-987d-ac4ca03403fc",
   "metadata": {},
   "outputs": [
    {
     "name": "stdout",
     "output_type": "stream",
     "text": [
      "Welcome to PES\n",
      "\n",
      "Welcome to PES\n",
      "Doremon's Academy\n",
      "\n"
     ]
    }
   ],
   "source": [
    "f=open('demo2.txt','w')\n",
    "print('Welcome to PES', file=f)\n",
    "f.close()\n",
    "f=open('demo2.txt','r')\n",
    "print(f.read())\n",
    "f.close()\n",
    "f=open('demo2.txt','a')\n",
    "print('Doremon\\'s Academy',file=f)\n",
    "f.close()t\n",
    "f=open('demo2.txt','r')\n",
    "print(f.read())\n",
    "f.close()"
   ]
  },
  {
   "cell_type": "code",
   "execution_count": 5,
   "id": "4c3d56b5-5152-497e-a42e-e4033cccd873",
   "metadata": {},
   "outputs": [
    {
     "name": "stdout",
     "output_type": "stream",
     "text": [
      "['no.', 'name', 'job']\n",
      "['1', 'adarsh', 'person']\n",
      "['2', 'shashi', 'cook']\n",
      "['3', 'aayaan', 'cleaner']\n"
     ]
    }
   ],
   "source": [
    "import csv\n",
    "with open('hi.csv','r',newline='') as csvfile:\n",
    "    csvreader=csv.reader(csvfile)\n",
    "    #header=next(csvreader)\n",
    "    for row in csvreader:\n",
    "        print(row)\n"
   ]
  },
  {
   "cell_type": "code",
   "execution_count": 7,
   "id": "6b4c7a6e-4c29-48ba-baa7-741123202505",
   "metadata": {},
   "outputs": [],
   "source": [
    "import csv\n",
    "with open('output.csv','w',newline='') as csvfile:\n",
    "    csvwriter=csv.writer(csvfile)\n",
    "    csvwriter.writerow(['Name','Age','Occupation'])\n",
    "    csvwriter.writerows([['Josh',30,'Engineer'],['Sarah',20,'Gamer'],['Mike',21,'Joker']])\n",
    "    "
   ]
  },
  {
   "cell_type": "code",
   "execution_count": 8,
   "id": "9b16b34b-5d99-48d7-aab9-728f305c4b7d",
   "metadata": {},
   "outputs": [
    {
     "name": "stdout",
     "output_type": "stream",
     "text": [
      "['Name', 'Age', 'Occupation']\n",
      "['Josh', '30', 'Engineer']\n",
      "['Sarah', '20', 'Gamer']\n",
      "['Mike', '21', 'Joker']\n"
     ]
    }
   ],
   "source": [
    "import csv\n",
    "with open('output.csv','r',newline='') as csvfile:\n",
    "    csvreader=csv.reader(csvfile)\n",
    "    #header=next(csvreader)\n",
    "    for row in csvreader:\n",
    "        print(row)"
   ]
  },
  {
   "cell_type": "code",
   "execution_count": 11,
   "id": "3db95886-ae19-4395-b6b1-02e7d6cb1cef",
   "metadata": {},
   "outputs": [],
   "source": [
    "import csv\n",
    "data=[\n",
    "    {'Name':'Josh', \"Age\":30,\"Occupation\":\"Engineer\"},\n",
    "    {'Name':'Nick', \"Age\":40,\"Occupation\":\"Dancer\"},\n",
    "    {'Name':'Sara', \"Age\":25,\"Occupation\":\"Singer\"},\n",
    "    {'Name':'Misha', \"Age\":31,\"Occupation\":\"Doctor\"}\n",
    "]\n",
    "with open('stuff1.csv','w',newline='') as csvfile:\n",
    "    fieldnames=['Name','Age','Occupation']\n",
    "    csvDictWriter=csv.DictWriter(csvfile, fieldnames=fieldnames)\n",
    "    csvDictWriter.writeheader()\n",
    "    csvDictWriter.writerows(data)"
   ]
  },
  {
   "cell_type": "code",
   "execution_count": 12,
   "id": "cc1c5cab-2c12-41cc-9da8-27e4077dfe0f",
   "metadata": {},
   "outputs": [
    {
     "name": "stdout",
     "output_type": "stream",
     "text": [
      "['Name', 'Age', 'Occupation']\n",
      "['Josh', '30', 'Engineer']\n",
      "['Nick', '40', 'Dancer']\n",
      "['Sara', '25', 'Singer']\n",
      "['Misha', '31', 'Doctor']\n"
     ]
    }
   ],
   "source": [
    "import csv\n",
    "with open('stuff1.csv','r',newline='') as csvfile:\n",
    "    csvreader=csv.reader(csvfile)\n",
    "    for row in csvreader:\n",
    "        print(row)"
   ]
  },
  {
   "cell_type": "code",
   "execution_count": 16,
   "id": "629db529-9e3a-4127-9dd9-292b74f76170",
   "metadata": {},
   "outputs": [],
   "source": [
    "import csv\n",
    "data=[{'Name':'abc','age':12,'occupation':'engineer'},{'Name':'gvc','age':22,'occupation':'jobless'},{'Name':'hjdc','age':72,'occupation':'unemployed'}]\n",
    "with open(r'output.csv','w',newline=\"\")as csvfile:\n",
    "    fieldnames=['Name','age','occupation']\n",
    "    csvDictWriter=csv.DictWriter(csvfile,fieldnames=fieldnames)\n",
    "    csvDictWriter.writeheader()\n",
    "    csvDictWriter.writerows(data)"
   ]
  },
  {
   "cell_type": "code",
   "execution_count": 17,
   "id": "17fb75e7-2128-4939-9c23-26b89f97562e",
   "metadata": {},
   "outputs": [
    {
     "name": "stdout",
     "output_type": "stream",
     "text": [
      "Name:abc,age:12,Occupation:engineer\n",
      "Name:gvc,age:22,Occupation:jobless\n",
      "Name:hjdc,age:72,Occupation:unemployed\n"
     ]
    }
   ],
   "source": [
    "import csv\n",
    "with open(r'output.csv','r',newline=\"\")as csvfile:\n",
    "    csvreader=csv.DictReader(csvfile)\n",
    "    for row in csvreader:\n",
    "        print(f\"Name:{row['Name']},age:{row['age']},Occupation:{row['occupation']}\")"
   ]
  },
  {
   "cell_type": "code",
   "execution_count": null,
   "id": "33063851-f31b-4be8-b446-d8aec5e75a9d",
   "metadata": {},
   "outputs": [],
   "source": []
  }
 ],
 "metadata": {
  "kernelspec": {
   "display_name": "Python 3 (ipykernel)",
   "language": "python",
   "name": "python3"
  },
  "language_info": {
   "codemirror_mode": {
    "name": "ipython",
    "version": 3
   },
   "file_extension": ".py",
   "mimetype": "text/x-python",
   "name": "python",
   "nbconvert_exporter": "python",
   "pygments_lexer": "ipython3",
   "version": "3.12.7"
  }
 },
 "nbformat": 4,
 "nbformat_minor": 5
}
