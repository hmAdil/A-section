{
 "cells": [
  {
   "cell_type": "code",
   "execution_count": 22,
   "id": "198228f0-dd9c-46f4-9410-f4e888817b1b",
   "metadata": {},
   "outputs": [
    {
     "name": "stdout",
     "output_type": "stream",
     "text": [
      "0 10\n",
      "1 20\n",
      "2 [2, 4, 5]\n",
      "3 98\n",
      "\n",
      "\n",
      "0 2\n",
      "1 4\n",
      "2 5\n",
      "\n",
      "\n",
      "\n",
      "1 2 \n",
      "3 4 \n",
      "5 6 \n",
      "\n",
      "[1, 2]\n",
      "[3, 4]\n",
      "[5, 6]\n"
     ]
    }
   ],
   "source": [
    "L4 = [10, 20, [2,4,5], 98]\n",
    "L3 = [10, 20, 30, 40]\n",
    "L6 = [[1, 2],[3, 4],[5, 6]]\n",
    "\n",
    "for i in range(len(L4)):\n",
    "    print(i, L4[i])\n",
    "    \n",
    "print(\"\\n\")\n",
    "\n",
    "for i in range(len(L4[2])):\n",
    "    print(i, L4[2][i])\n",
    "\n",
    "print(\"\\n\")\n",
    "for i in range(len(L6)):\n",
    "    print()\n",
    "    for j in range(len(L6[i])):\n",
    "        print(L6[i][j],end=\" \")\n",
    "\n",
    "    \n",
    "print(\"\\n\")\n",
    "\n",
    "\n",
    "\n",
    "for i in L6:\n",
    "    print(i)\n",
    "for i in range(len(L3)):\n",
    "    print(i,L3[i])\n",
    "print()\n",
    "i=0\n",
    "while i<len(L3):\n",
    "        "
   ]
  },
  {
   "cell_type": "code",
   "execution_count": 30,
   "id": "860bb7b8-5279-4a7b-9bf7-55e3f90f557b",
   "metadata": {},
   "outputs": [
    {
     "name": "stdin",
     "output_type": "stream",
     "text": [
      "Enter Number of students:  3\n",
      "Enter Last 3 Digits of the FULL SRN:  210\n",
      "Enter Name:  er\n",
      "Enter Student CGPA:  9\n",
      "Enter Last 3 Digits of the FULL SRN:  444\n",
      "Enter Name:  rr\n",
      "Enter Student CGPA:  5\n",
      "Enter Last 3 Digits of the FULL SRN:  924\n",
      "Enter Name:  10\n",
      "Enter Student CGPA:  10\n"
     ]
    },
    {
     "name": "stdout",
     "output_type": "stream",
     "text": [
      "[[210, 'er', 9.0], [444, 'rr', 5.0], [924, '10', 10.0]]\n"
     ]
    }
   ],
   "source": [
    "# create list by taking user input\n",
    "# WAP to create studejt list of n students take input srn, name and cgpa\n",
    "n = int(input('Enter Number of students: '))\n",
    "i = 0; student = []\n",
    "while i<n:\n",
    "    srn = int(input(\"Enter Last 3 Digits of the FULL SRN: \"))\n",
    "    name = input(\"Enter Name: \")\n",
    "    cgpa = float(input(\"Enter Student CGPA: \"))\n",
    "    student.append([srn, name, cgpa])\n",
    "    i+=1\n",
    "print(student)"
   ]
  },
  {
   "cell_type": "code",
   "execution_count": 36,
   "id": "99f7f3ef-9c98-4ee0-9978-bf08c741201b",
   "metadata": {},
   "outputs": [
    {
     "name": "stdout",
     "output_type": "stream",
     "text": [
      "92\n",
      "8\n",
      "232\n",
      "5\n",
      "[8, 20, 45, 67, 92]\n",
      "[92, 67, 45, 20, 8]\n"
     ]
    }
   ],
   "source": [
    "#List functions\n",
    "l=[20,45,67,8,92]\n",
    "print(max(l))\n",
    "print(min(l))\n",
    "print(sum(l))\n",
    "print(len(l))\n",
    "print(sorted(l))\n",
    "print(sorted(l,reverse=True))"
   ]
  },
  {
   "cell_type": "code",
   "execution_count": null,
   "id": "f9f8ddfa-0abc-4f26-9ba8-9002557cb2f6",
   "metadata": {},
   "outputs": [],
   "source": []
  }
 ],
 "metadata": {
  "kernelspec": {
   "display_name": "Python 3 (ipykernel)",
   "language": "python",
   "name": "python3"
  },
  "language_info": {
   "codemirror_mode": {
    "name": "ipython",
    "version": 3
   },
   "file_extension": ".py",
   "mimetype": "text/x-python",
   "name": "python",
   "nbconvert_exporter": "python",
   "pygments_lexer": "ipython3",
   "version": "3.12.4"
  }
 },
 "nbformat": 4,
 "nbformat_minor": 5
}
