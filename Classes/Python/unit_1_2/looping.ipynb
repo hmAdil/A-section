{
 "cells": [
  {
   "cell_type": "code",
   "execution_count": 3,
   "id": "7a26f0f4-5903-4889-8e56-bb8d2d4e48b0",
   "metadata": {},
   "outputs": [
    {
     "name": "stdin",
     "output_type": "stream",
     "text": [
      "Enter attendance 98\n"
     ]
    },
    {
     "name": "stdout",
     "output_type": "stream",
     "text": [
      "isuue hall ticket\n",
      "thats all\n"
     ]
    }
   ],
   "source": [
    "#if\n",
    "att=int(input('Enter attendance'))\n",
    "if att>=75:\n",
    "    print('isuue hall ticket')\n",
    "print('thats all')    "
   ]
  },
  {
   "cell_type": "code",
   "execution_count": 7,
   "id": "bc6d3f44-25e1-43a0-95ff-b41b8b35cdbb",
   "metadata": {},
   "outputs": [
    {
     "name": "stdin",
     "output_type": "stream",
     "text": [
      "Enter attendance 98\n",
      "Enter conduct bad\n"
     ]
    },
    {
     "name": "stdout",
     "output_type": "stream",
     "text": [
      "thats all\n"
     ]
    }
   ],
   "source": [
    "att=int(input('Enter attendance'))\n",
    "conduct=input('Enter conduct')\n",
    "if att>=75 and conduct == 'good':\n",
    "    print('isuue hall ticket')\n",
    "print('thats all')"
   ]
  },
  {
   "cell_type": "code",
   "execution_count": 11,
   "id": "e5a5338b-de54-48b8-8760-846be8384e58",
   "metadata": {},
   "outputs": [
    {
     "name": "stdin",
     "output_type": "stream",
     "text": [
      "Enter attendance 67\n"
     ]
    },
    {
     "name": "stdout",
     "output_type": "stream",
     "text": [
      "Dont issue hall ticket\n",
      "Inside else\n",
      "thats all\n"
     ]
    }
   ],
   "source": [
    "#if else\n",
    "att=int(input('Enter attendance'))\n",
    "if att>=75:\n",
    "    print('isuue hall ticket')\n",
    "    print('inside if') \n",
    "else:\n",
    "    print('Dont issue hall ticket')\n",
    "    print('Inside else')\n",
    "print('thats all')"
   ]
  },
  {
   "cell_type": "code",
   "execution_count": 7,
   "id": "423b2364-9192-46f6-8b32-7132b123f7f2",
   "metadata": {},
   "outputs": [
    {
     "name": "stdin",
     "output_type": "stream",
     "text": [
      "Enter attendance 67\n",
      "Enter year 2022\n"
     ]
    },
    {
     "name": "stdout",
     "output_type": "stream",
     "text": [
      "Golden jubilee batch\n",
      "Inside second if\n",
      "thats all\n"
     ]
    }
   ],
   "source": [
    "# multiple if\n",
    "att=int(input('Enter attendance'))\n",
    "year=int(input('Enter year'))\n",
    "if att>=75:\n",
    "    print('isuue hall ticket')\n",
    "    print('inside First if')\n",
    "if year == 2022:\n",
    "         print('Golden jubilee batch')\n",
    "         print('Inside second if')\n",
    "print('thats all')"
   ]
  },
  {
   "cell_type": "code",
   "execution_count": 11,
   "id": "e7fdbd76-c9ac-4368-a341-9043fbe10601",
   "metadata": {},
   "outputs": [
    {
     "name": "stdin",
     "output_type": "stream",
     "text": [
      "Enter attendance 67\n",
      "Enter year 2023\n"
     ]
    },
    {
     "name": "stdout",
     "output_type": "stream",
     "text": [
      "Dont issue hall ticket\n",
      "Inside else\n",
      "thats all\n"
     ]
    }
   ],
   "source": [
    "att=int(input('Enter attendance'))\n",
    "year=int(input('Enter year'))\n",
    "if att>=75:\n",
    "    print('isuue hall ticket')\n",
    "    print('inside First if')\n",
    "else:\n",
    "    print('Dont issue hall ticket')\n",
    "if year == 2022:\n",
    "         print('Golden jubilee batch')\n",
    "         print('Inside second if')\n",
    "else:\n",
    "    print('Inside else')\n",
    "print('thats all')"
   ]
  },
  {
   "cell_type": "code",
   "execution_count": 23,
   "id": "eb67444b-168c-43d5-9ce4-dc291f562f55",
   "metadata": {},
   "outputs": [
    {
     "name": "stdin",
     "output_type": "stream",
     "text": [
      "Enter attendance 89\n",
      "Enter year 2023\n"
     ]
    },
    {
     "name": "stdout",
     "output_type": "stream",
     "text": [
      "inside outer if\n",
      "thats all\n"
     ]
    }
   ],
   "source": [
    "#nested if\n",
    "att=int(input('Enter attendance'))\n",
    "year=int(input('Enter year'))\n",
    "if att>75:\n",
    "    if year == 2022:\n",
    "        print('Golden jubilee batch')\n",
    "        print('Inside inner if')\n",
    "    print('inside outer if')\n",
    "print('thats all')"
   ]
  },
  {
   "cell_type": "code",
   "execution_count": 29,
   "id": "23c9485f-a737-4d81-be28-9553e6b03850",
   "metadata": {},
   "outputs": [
    {
     "name": "stdin",
     "output_type": "stream",
     "text": [
      "Enter attendance 89\n",
      "Enter year 2023\n"
     ]
    },
    {
     "name": "stdout",
     "output_type": "stream",
     "text": [
      "inside inner else\n",
      "inside outer if\n",
      "thats all\n"
     ]
    }
   ],
   "source": [
    "att=int(input('Enter attendance'))\n",
    "year=int(input('Enter year'))\n",
    "if att>75:\n",
    "    if year == 2022:\n",
    "        print('Golden jubilee batch')\n",
    "        print('Inside inner if')\n",
    "    else:\n",
    "        print('inside inner else')\n",
    "    print('inside outer if')\n",
    "else:\n",
    "    print('inside outer else')\n",
    "print('thats all')"
   ]
  },
  {
   "cell_type": "code",
   "execution_count": 35,
   "id": "9b3f4f2f-6f0e-420e-9acf-115c3c611838",
   "metadata": {},
   "outputs": [
    {
     "name": "stdin",
     "output_type": "stream",
     "text": [
      "Enter attendance 67\n",
      "Enter year 2022\n"
     ]
    },
    {
     "name": "stdout",
     "output_type": "stream",
     "text": [
      "Golden jubilee batch\n",
      "Inside second if\n"
     ]
    }
   ],
   "source": [
    "# if elif else\n",
    "att=int(input('Enter attendance'))\n",
    "year=int(input('Enter year'))\n",
    "if att>75:\n",
    "    print('issue hall ticket')\n",
    "    print('inside first if')\n",
    "elif year == 2022:\n",
    "    print('Golden jubilee batch')\n",
    "    print('Inside second if')\n",
    "else:\n",
    "    print('Inside else')"
   ]
  },
  {
   "cell_type": "code",
   "execution_count": null,
   "id": "098768ee-7ff4-4a5d-b684-49220b0db1db",
   "metadata": {},
   "outputs": [],
   "source": [
    "# WAP to check the number is +ve, -ve or zero.\n",
    "#using if elif else and nested if"
   ]
  },
  {
   "cell_type": "code",
   "execution_count": 48,
   "id": "cee66c8c-1a17-4956-8838-2442867b2108",
   "metadata": {},
   "outputs": [
    {
     "name": "stdin",
     "output_type": "stream",
     "text": [
      "Enter a number:  0\n"
     ]
    },
    {
     "name": "stdout",
     "output_type": "stream",
     "text": [
      " The number is zero\n",
      "Thats all\n"
     ]
    }
   ],
   "source": [
    "# if elif else\n",
    "num = int(input('Enter a number: '))\n",
    "if(num > 0):\n",
    "          print(' The number is positive')\n",
    "elif(num == 0):\n",
    "          print(' The number is zero')\n",
    "else:\n",
    "    print('The number is negative')\n",
    "print('Thats all')"
   ]
  },
  {
   "cell_type": "code",
   "execution_count": 54,
   "id": "95fc0cab-d617-43da-8ed3-477fc524881c",
   "metadata": {},
   "outputs": [
    {
     "name": "stdin",
     "output_type": "stream",
     "text": [
      "Enter a number:  -12\n"
     ]
    },
    {
     "name": "stdout",
     "output_type": "stream",
     "text": [
      "The number is negative\n",
      "Thats all\n"
     ]
    }
   ],
   "source": [
    "# nested if\n",
    "n = int(input('Enter a number: '))\n",
    "if n >= 0:\n",
    "    if n > 0:\n",
    "        print('The number is positive')\n",
    "    else:\n",
    "        print('The number is zero')\n",
    "else:\n",
    "    print('The number is negative')\n",
    "print('Thats all')"
   ]
  },
  {
   "cell_type": "code",
   "execution_count": null,
   "id": "b1d5bd34-006e-46b4-876e-fa2cd1a16ef0",
   "metadata": {},
   "outputs": [],
   "source": [
    "''' \n",
    "A shop gives discount of 10% if the cost of quantity purchased id more than rupees 1000. \n",
    "One unit cost is rupee 100. \n",
    "Print total cost of the user.\n",
    "Take quantity as the user input."
   ]
  },
  {
   "cell_type": "code",
   "execution_count": 62,
   "id": "b2edb76e-9be0-4861-8344-c326667c9673",
   "metadata": {},
   "outputs": [
    {
     "name": "stdin",
     "output_type": "stream",
     "text": [
      "Enter the quantity:  1\n"
     ]
    },
    {
     "name": "stdout",
     "output_type": "stream",
     "text": [
      "The final cost is 100\n"
     ]
    }
   ],
   "source": [
    "quan = int(input('Enter the quantity: '))\n",
    "cost = quan * 100\n",
    "if cost> 1000:\n",
    "    discount = (10/100) * cost\n",
    "    print(' The discounted price is' , cost - discount)\n",
    "else:\n",
    "    print('The final cost is' , cost)\n",
    "print('Thats all')    "
   ]
  },
  {
   "cell_type": "code",
   "execution_count": null,
   "id": "e04f3208-f528-40fc-8381-448356d3f2a9",
   "metadata": {},
   "outputs": [],
   "source": [
    "'''\n",
    "Find the electricity bill\n",
    "unit            amount/bill\n",
    "first 100         0\n",
    "next 100          5\n",
    "more than 200     10\n",
    "'''"
   ]
  },
  {
   "cell_type": "code",
   "execution_count": 66,
   "id": "ea4e8203-beaf-4a1c-af47-009becf69c6d",
   "metadata": {},
   "outputs": [
    {
     "name": "stdin",
     "output_type": "stream",
     "text": [
      "Enter the amount of units 2000\n"
     ]
    },
    {
     "name": "stdout",
     "output_type": "stream",
     "text": [
      "The bill is 18500\n",
      "Thats all\n"
     ]
    }
   ],
   "source": [
    "units = int(input('Enter the amount of units'))\n",
    "if(units < 100):\n",
    "    print(\"The bill is zero\")\n",
    "elif(units > 100 and units <= 200):\n",
    "    print('The bill is', (units - 100) * 5)\n",
    "else:\n",
    "    print(\"The bill is\", ((units - 200) * 10 + (100 * 5)))\n",
    "print('Thats all')    "
   ]
  },
  {
   "cell_type": "code",
   "execution_count": null,
   "id": "ba73015b-c0b9-4e73-b88d-a227cddb06af",
   "metadata": {},
   "outputs": [],
   "source": []
  }
 ],
 "metadata": {
  "kernelspec": {
   "display_name": "Python 3 (ipykernel)",
   "language": "python",
   "name": "python3"
  },
  "language_info": {
   "codemirror_mode": {
    "name": "ipython",
    "version": 3
   },
   "file_extension": ".py",
   "mimetype": "text/x-python",
   "name": "python",
   "nbconvert_exporter": "python",
   "pygments_lexer": "ipython3",
   "version": "3.12.4"
  }
 },
 "nbformat": 4,
 "nbformat_minor": 5
}
