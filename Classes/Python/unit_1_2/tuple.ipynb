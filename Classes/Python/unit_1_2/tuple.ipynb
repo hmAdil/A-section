{
 "cells": [
  {
   "cell_type": "code",
   "execution_count": 2,
   "id": "0bb17ab7-33aa-42ad-96dc-c9c320167db4",
   "metadata": {},
   "outputs": [
    {
     "data": {
      "text/plain": [
       "['__add__',\n",
       " '__class__',\n",
       " '__class_getitem__',\n",
       " '__contains__',\n",
       " '__delattr__',\n",
       " '__dir__',\n",
       " '__doc__',\n",
       " '__eq__',\n",
       " '__format__',\n",
       " '__ge__',\n",
       " '__getattribute__',\n",
       " '__getitem__',\n",
       " '__getnewargs__',\n",
       " '__getstate__',\n",
       " '__gt__',\n",
       " '__hash__',\n",
       " '__init__',\n",
       " '__init_subclass__',\n",
       " '__iter__',\n",
       " '__le__',\n",
       " '__len__',\n",
       " '__lt__',\n",
       " '__mul__',\n",
       " '__ne__',\n",
       " '__new__',\n",
       " '__reduce__',\n",
       " '__reduce_ex__',\n",
       " '__repr__',\n",
       " '__rmul__',\n",
       " '__setattr__',\n",
       " '__sizeof__',\n",
       " '__str__',\n",
       " '__subclasshook__',\n",
       " 'count',\n",
       " 'index']"
      ]
     },
     "execution_count": 2,
     "metadata": {},
     "output_type": "execute_result"
    }
   ],
   "source": [
    "dir(tuple)"
   ]
  },
  {
   "cell_type": "code",
   "execution_count": 6,
   "id": "251c2856-a3c0-4b93-90f3-5732e4d6647e",
   "metadata": {},
   "outputs": [
    {
     "name": "stdout",
     "output_type": "stream",
     "text": [
      "<class 'tuple'>\n"
     ]
    }
   ],
   "source": [
    "t = tuple()\n",
    "print(type(t))"
   ]
  },
  {
   "cell_type": "code",
   "execution_count": 8,
   "id": "f16157e4-77a2-49cd-92a0-fbb15f540bc7",
   "metadata": {},
   "outputs": [
    {
     "name": "stdout",
     "output_type": "stream",
     "text": [
      "<class 'tuple'>\n"
     ]
    }
   ],
   "source": [
    "t1 = ()\n",
    "print(type(t1))"
   ]
  },
  {
   "cell_type": "code",
   "execution_count": 10,
   "id": "6a281bb3-cf93-4d8f-9085-cd9f8ee53668",
   "metadata": {},
   "outputs": [
    {
     "name": "stdout",
     "output_type": "stream",
     "text": [
      "<class 'int'>\n"
     ]
    }
   ],
   "source": [
    "t2 = (89)\n",
    "print(type(t2))"
   ]
  },
  {
   "cell_type": "code",
   "execution_count": 12,
   "id": "91b878f4-4dc0-42c3-9e85-08519af37292",
   "metadata": {},
   "outputs": [
    {
     "name": "stdout",
     "output_type": "stream",
     "text": [
      "<class 'tuple'>\n"
     ]
    }
   ],
   "source": [
    "t3 = (89,)\n",
    "print(type(t3))"
   ]
  },
  {
   "cell_type": "code",
   "execution_count": 14,
   "id": "da052e42-a35d-43bd-a901-891b8088ad5f",
   "metadata": {},
   "outputs": [
    {
     "name": "stdout",
     "output_type": "stream",
     "text": [
      "4\n"
     ]
    }
   ],
   "source": [
    "t4 = (2,3,4,'python')\n",
    "print(len(t4))"
   ]
  },
  {
   "cell_type": "code",
   "execution_count": 16,
   "id": "33e28acc-9913-4bf9-af15-860fdc044e10",
   "metadata": {},
   "outputs": [
    {
     "name": "stdout",
     "output_type": "stream",
     "text": [
      "4\n"
     ]
    }
   ],
   "source": [
    "print(t4[2])"
   ]
  },
  {
   "cell_type": "code",
   "execution_count": 18,
   "id": "7cc60769-8f17-4bc0-9cae-86f001e540f1",
   "metadata": {},
   "outputs": [
    {
     "ename": "TypeError",
     "evalue": "'tuple' object does not support item assignment",
     "output_type": "error",
     "traceback": [
      "\u001b[1;31m---------------------------------------------------------------------------\u001b[0m",
      "\u001b[1;31mTypeError\u001b[0m                                 Traceback (most recent call last)",
      "Cell \u001b[1;32mIn[18], line 1\u001b[0m\n\u001b[1;32m----> 1\u001b[0m t4[\u001b[38;5;241m3\u001b[39m] \u001b[38;5;241m=\u001b[39m \u001b[38;5;124m'\u001b[39m\u001b[38;5;124mhello\u001b[39m\u001b[38;5;124m'\u001b[39m\n\u001b[0;32m      2\u001b[0m \u001b[38;5;28mprint\u001b[39m(t4)\n",
      "\u001b[1;31mTypeError\u001b[0m: 'tuple' object does not support item assignment"
     ]
    }
   ],
   "source": [
    "t4[3] = 'hello'\n",
    "print(t4)"
   ]
  },
  {
   "cell_type": "code",
   "execution_count": 20,
   "id": "a517cb83-cb17-4fe2-90a2-09766a79bcd7",
   "metadata": {},
   "outputs": [],
   "source": [
    "# tuple are faster than list\n",
    "# it protects data from aacidental changess\n",
    "# in tuple elememt can be repeated\n",
    "# is a sequence and is also iterable\n",
    "# tuples can be sliced"
   ]
  },
  {
   "cell_type": "code",
   "execution_count": 24,
   "id": "7e0f1b70-24bd-4b1c-9fb9-9c0716d182d1",
   "metadata": {},
   "outputs": [
    {
     "name": "stdout",
     "output_type": "stream",
     "text": [
      "20 45 67 67.5 (1, 2, 'a') \n"
     ]
    }
   ],
   "source": [
    "tp1 = (20,45,67,67.5,(1,2,'a'))\n",
    "# iterable\n",
    "for i in tp1:\n",
    "    print(i,end=\" \")\n",
    "print() # it is for space"
   ]
  },
  {
   "cell_type": "code",
   "execution_count": 26,
   "id": "6cb2a80a-5c33-4f40-b404-2fb05c59711d",
   "metadata": {},
   "outputs": [
    {
     "name": "stdout",
     "output_type": "stream",
     "text": [
      "20 45 67 67.5 (1, 2, 'a') \n"
     ]
    }
   ],
   "source": [
    "#index\n",
    "for i in range(len(tp1)):\n",
    "    print(tp1[i], end = \" \")\n",
    "print()    "
   ]
  },
  {
   "cell_type": "code",
   "execution_count": 28,
   "id": "766c472a-b802-4968-89f6-e873c8a6e0fb",
   "metadata": {},
   "outputs": [
    {
     "name": "stdout",
     "output_type": "stream",
     "text": [
      "1476859400400\n",
      "1476861134400\n"
     ]
    }
   ],
   "source": [
    "tp2 = tp1[1:3]\n",
    "print(id(tp1))\n",
    "print(id(tp2))"
   ]
  },
  {
   "cell_type": "code",
   "execution_count": 30,
   "id": "97835683-8204-4007-ac15-b5c9f3768d8e",
   "metadata": {},
   "outputs": [
    {
     "name": "stdout",
     "output_type": "stream",
     "text": [
      "(45, 67)\n",
      "1476804820288\n"
     ]
    }
   ],
   "source": [
    "tp3=tp1[1:3] #slicing same as list\n",
    "print(tp3)\n",
    "print(id(tp3))"
   ]
  },
  {
   "cell_type": "code",
   "execution_count": 32,
   "id": "ef8e01ad-2d76-4ed3-b336-261a5b5be962",
   "metadata": {},
   "outputs": [
    {
     "name": "stdout",
     "output_type": "stream",
     "text": [
      "[8, 10, 32, 56]\n"
     ]
    }
   ],
   "source": [
    "tp4 = (56,32,10,8)\n",
    "print(sorted(tp4))"
   ]
  },
  {
   "cell_type": "code",
   "execution_count": 34,
   "id": "9941ffc1-b7b6-46db-9d7a-aebd6ebbe84e",
   "metadata": {},
   "outputs": [
    {
     "name": "stdout",
     "output_type": "stream",
     "text": [
      "[56, 32, 10, 8]\n"
     ]
    }
   ],
   "source": [
    "print(sorted(tp4, reverse = True))"
   ]
  },
  {
   "cell_type": "code",
   "execution_count": 36,
   "id": "0fd73eae-2597-4a66-b0a4-1615bbb1473b",
   "metadata": {},
   "outputs": [
    {
     "name": "stdout",
     "output_type": "stream",
     "text": [
      "[4, 5, 76]\n"
     ]
    }
   ],
   "source": [
    "L1 = [76,5,4]\n",
    "print(sorted(L1))"
   ]
  },
  {
   "cell_type": "code",
   "execution_count": 40,
   "id": "03578f03-956b-4f06-b97f-7f1596d9e666",
   "metadata": {},
   "outputs": [
    {
     "name": "stdout",
     "output_type": "stream",
     "text": [
      "None\n"
     ]
    }
   ],
   "source": [
    "print(L1.sort()) # Sort returns original list and sorted return new list"
   ]
  },
  {
   "cell_type": "code",
   "execution_count": 42,
   "id": "091ef402-df28-4864-b761-3f0a2a739e47",
   "metadata": {},
   "outputs": [
    {
     "name": "stdout",
     "output_type": "stream",
     "text": [
      "[1, 56, 81, 89]\n"
     ]
    }
   ],
   "source": [
    "L2 = [56,1,89,81]\n",
    "L2.sort()\n",
    "print(L2)"
   ]
  },
  {
   "cell_type": "code",
   "execution_count": 46,
   "id": "19f9c15e-78cd-41dc-a226-10c421658a74",
   "metadata": {},
   "outputs": [
    {
     "name": "stdout",
     "output_type": "stream",
     "text": [
      "5\n"
     ]
    }
   ],
   "source": [
    "tp5 = (2,3,4,5)\n",
    "print(max(tp5))"
   ]
  },
  {
   "cell_type": "code",
   "execution_count": 48,
   "id": "704c3491-5b72-4361-acd9-dd32d5fe0b8a",
   "metadata": {},
   "outputs": [
    {
     "name": "stdout",
     "output_type": "stream",
     "text": [
      "2\n"
     ]
    }
   ],
   "source": [
    "print(min(tp5))"
   ]
  },
  {
   "cell_type": "code",
   "execution_count": 50,
   "id": "1163bfb1-2cf3-4cd2-b2c8-08ba2e7fa01b",
   "metadata": {},
   "outputs": [
    {
     "name": "stdout",
     "output_type": "stream",
     "text": [
      "14\n"
     ]
    }
   ],
   "source": [
    "print(sum(tp5))"
   ]
  },
  {
   "cell_type": "code",
   "execution_count": 52,
   "id": "ffa1357e-56cd-4df7-9e63-c1ecf33eb66e",
   "metadata": {},
   "outputs": [
    {
     "name": "stdout",
     "output_type": "stream",
     "text": [
      "4\n"
     ]
    }
   ],
   "source": [
    "print(len(tp5))"
   ]
  },
  {
   "cell_type": "code",
   "execution_count": 54,
   "id": "52e66659-6160-4454-8eb8-6c6d1ac5aecb",
   "metadata": {},
   "outputs": [
    {
     "name": "stdout",
     "output_type": "stream",
     "text": [
      "('p', 'y', 't', 'h', 'o', 'n')\n"
     ]
    }
   ],
   "source": [
    "tp6 = tuple('python')\n",
    "print(tp6)"
   ]
  },
  {
   "cell_type": "code",
   "execution_count": 62,
   "id": "82b5f79e-2e4c-48b2-8805-71927d59b94a",
   "metadata": {},
   "outputs": [
    {
     "name": "stdout",
     "output_type": "stream",
     "text": [
      "[1, 56, 81, 89]\n"
     ]
    }
   ],
   "source": [
    "L3 = tuple([56,34,12])\n",
    "print(L2)"
   ]
  },
  {
   "cell_type": "code",
   "execution_count": 64,
   "id": "a1be27eb-42fb-40b9-9082-94399866ab17",
   "metadata": {},
   "outputs": [
    {
     "name": "stdout",
     "output_type": "stream",
     "text": [
      "(1, 2, 3, 4, 5, 6, 7, 8)\n"
     ]
    }
   ],
   "source": [
    "tp7 = tuple(range(1,9))\n",
    "print(tp7)"
   ]
  },
  {
   "cell_type": "code",
   "execution_count": 66,
   "id": "e5a6df65-ce3d-4599-b999-a02def9ca086",
   "metadata": {},
   "outputs": [
    {
     "name": "stdout",
     "output_type": "stream",
     "text": [
      "(10, 20, 30)\n"
     ]
    }
   ],
   "source": [
    "a = 10, 20, 30\n",
    "print(a)"
   ]
  },
  {
   "cell_type": "code",
   "execution_count": 68,
   "id": "e0b4803a-0b5c-47bc-9fea-52896e40b67e",
   "metadata": {},
   "outputs": [
    {
     "name": "stdout",
     "output_type": "stream",
     "text": [
      "(3, 4, 5)\n"
     ]
    }
   ],
   "source": [
    "x,y,z = 3,4,5\n",
    "tp = (x,y,z)\n",
    "print(tp)"
   ]
  },
  {
   "cell_type": "code",
   "execution_count": null,
   "id": "eeb350c1-b1f8-4454-a011-cf72bbe88d51",
   "metadata": {},
   "outputs": [],
   "source": []
  }
 ],
 "metadata": {
  "kernelspec": {
   "display_name": "Python 3 (ipykernel)",
   "language": "python",
   "name": "python3"
  },
  "language_info": {
   "codemirror_mode": {
    "name": "ipython",
    "version": 3
   },
   "file_extension": ".py",
   "mimetype": "text/x-python",
   "name": "python",
   "nbconvert_exporter": "python",
   "pygments_lexer": "ipython3",
   "version": "3.12.4"
  }
 },
 "nbformat": 4,
 "nbformat_minor": 5
}
