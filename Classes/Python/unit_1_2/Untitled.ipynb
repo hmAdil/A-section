{
 "cells": [
  {
   "cell_type": "code",
   "execution_count": 1,
   "id": "79f6c648-b9e0-4d93-a176-8d1d4a808a1e",
   "metadata": {},
   "outputs": [
    {
     "data": {
      "text/plain": [
       "['__add__',\n",
       " '__class__',\n",
       " '__class_getitem__',\n",
       " '__contains__',\n",
       " '__delattr__',\n",
       " '__delitem__',\n",
       " '__dir__',\n",
       " '__doc__',\n",
       " '__eq__',\n",
       " '__format__',\n",
       " '__ge__',\n",
       " '__getattribute__',\n",
       " '__getitem__',\n",
       " '__getstate__',\n",
       " '__gt__',\n",
       " '__hash__',\n",
       " '__iadd__',\n",
       " '__imul__',\n",
       " '__init__',\n",
       " '__init_subclass__',\n",
       " '__iter__',\n",
       " '__le__',\n",
       " '__len__',\n",
       " '__lt__',\n",
       " '__mul__',\n",
       " '__ne__',\n",
       " '__new__',\n",
       " '__reduce__',\n",
       " '__reduce_ex__',\n",
       " '__repr__',\n",
       " '__reversed__',\n",
       " '__rmul__',\n",
       " '__setattr__',\n",
       " '__setitem__',\n",
       " '__sizeof__',\n",
       " '__str__',\n",
       " '__subclasshook__',\n",
       " 'append',\n",
       " 'clear',\n",
       " 'copy',\n",
       " 'count',\n",
       " 'extend',\n",
       " 'index',\n",
       " 'insert',\n",
       " 'pop',\n",
       " 'remove',\n",
       " 'reverse',\n",
       " 'sort']"
      ]
     },
     "execution_count": 1,
     "metadata": {},
     "output_type": "execute_result"
    }
   ],
   "source": [
    "dir(list)"
   ]
  },
  {
   "cell_type": "code",
   "execution_count": 11,
   "id": "8a54901d-6213-473a-9a95-0082b19cae6b",
   "metadata": {},
   "outputs": [
    {
     "name": "stdout",
     "output_type": "stream",
     "text": [
      "[34, 89.5, 'python', 56]\n",
      "[12, [2, 3, 4, 'a'], 67]\n"
     ]
    }
   ],
   "source": [
    "#apend, insert, pop, remove, where append is used to insert and element in list at end\n",
    "lst4=[34,89.5,'python']\n",
    "lst4.append(56)\n",
    "print(lst4)\n",
    "lst5=[12,[2,3,4],67]\n",
    "lst5[1].append('a')\n",
    "print(lst5)"
   ]
  },
  {
   "cell_type": "code",
   "execution_count": 15,
   "id": "2ef557e9-b8b4-4a6f-8cfa-70226e73afee",
   "metadata": {},
   "outputs": [
    {
     "name": "stdout",
     "output_type": "stream",
     "text": [
      "[34, 89.5, 'python']\n",
      "[34, 89.5, 67, 'python']\n",
      "[34, 89.5, 67, 'python', 31]\n"
     ]
    }
   ],
   "source": [
    "#insert function - insert an element at index position\n",
    "#insert(index,val)\n",
    "# (use the below code if you execute above code) -> remove() removes specific value from the list\n",
    "#lst4.remove(56) \n",
    "print(lst4)\n",
    "lst4.insert(2,67); print(lst4)\n",
    "lst4.insert(5,31); print(lst4)"
   ]
  },
  {
   "cell_type": "code",
   "execution_count": 16,
   "id": "5f7b6a0c-def1-4495-940e-4081e5307e3d",
   "metadata": {},
   "outputs": [
    {
     "name": "stdout",
     "output_type": "stream",
     "text": [
      "[34, 89.5, 'python', 31]\n"
     ]
    }
   ],
   "source": [
    "#pop(index) it remove element at index\n",
    "lst4.pop(2); print(lst4)"
   ]
  },
  {
   "cell_type": "code",
   "execution_count": 24,
   "id": "5ff0a018-fb19-419b-ab3a-ec4780e41188",
   "metadata": {},
   "outputs": [
    {
     "name": "stdout",
     "output_type": "stream",
     "text": [
      "[1, 2, 3, 'a', 'b', 'c'] \t [1, 2, 3, 1, 2, 3]\n"
     ]
    }
   ],
   "source": [
    "#concatenation + and repetition * operator on list\n",
    "l4=[1,2,3]\n",
    "l5=['a','b','c']\n",
    "print (l4+l5,'\\t',l4*2)\n",
    "\n",
    "#extend which add sequence at end"
   ]
  },
  {
   "cell_type": "code",
   "execution_count": 25,
   "id": "318c6a93-bb41-4c21-9526-5de910b3281f",
   "metadata": {},
   "outputs": [
    {
     "name": "stdout",
     "output_type": "stream",
     "text": [
      "[1, 2, 3, 6, 7]\n",
      "[1, 2, 3, 6, 7, [6, 7]]\n"
     ]
    }
   ],
   "source": [
    "l4.extend([6,7]); print(l4)\n",
    "l4.append([6,7]); print(l4)\n",
    "\n",
    "#count (val)"
   ]
  },
  {
   "cell_type": "code",
   "execution_count": 27,
   "id": "13e934e6-a49c-43c3-8623-910df7a32d25",
   "metadata": {},
   "outputs": [
    {
     "ename": "NameError",
     "evalue": "name 'tp1' is not defined",
     "output_type": "error",
     "traceback": [
      "\u001b[1;31m---------------------------------------------------------------------------\u001b[0m",
      "\u001b[1;31mNameError\u001b[0m                                 Traceback (most recent call last)",
      "Cell \u001b[1;32mIn[27], line 1\u001b[0m\n\u001b[1;32m----> 1\u001b[0m tp3\u001b[38;5;241m=\u001b[39mtp1[\u001b[38;5;241m1\u001b[39m:\u001b[38;5;241m3\u001b[39m]\n\u001b[0;32m      2\u001b[0m \u001b[38;5;28mprint\u001b[39m(tp3)\n\u001b[0;32m      3\u001b[0m \u001b[38;5;28mprint\u001b[39m(\u001b[38;5;28mid\u001b[39m(tp3))\n",
      "\u001b[1;31mNameError\u001b[0m: name 'tp1' is not defined"
     ]
    }
   ],
   "source": [
    "tp3=tp1[1:3]\n",
    "print(tp3)\n",
    "print(id(tp3))"
   ]
  },
  {
   "cell_type": "code",
   "execution_count": 28,
   "id": "cb42c968-8bc1-49d5-b068-a9ba942252c1",
   "metadata": {},
   "outputs": [
    {
     "name": "stdout",
     "output_type": "stream",
     "text": [
      "('p', 'y', 't', 'h', 'o', 'n')\n",
      "(56, 34, 12)\n",
      "(1, 2, 3, 4, 5, 6, 7, 8)\n"
     ]
    }
   ],
   "source": [
    "tp6=tuple('python')\n",
    "print(tp6)\n",
    "L2=tuple([56,34,12])\n",
    "print(L2)\n",
    "tp7=tuple(range(1,9)); print(tp7)\n"
   ]
  },
  {
   "cell_type": "code",
   "execution_count": null,
   "id": "fa2c9af7-2120-4bee-9233-78103b1a8893",
   "metadata": {},
   "outputs": [],
   "source": [
    "#to create a tuple by taking user input"
   ]
  }
 ],
 "metadata": {
  "kernelspec": {
   "display_name": "Python 3 (ipykernel)",
   "language": "python",
   "name": "python3"
  },
  "language_info": {
   "codemirror_mode": {
    "name": "ipython",
    "version": 3
   },
   "file_extension": ".py",
   "mimetype": "text/x-python",
   "name": "python",
   "nbconvert_exporter": "python",
   "pygments_lexer": "ipython3",
   "version": "3.12.4"
  }
 },
 "nbformat": 4,
 "nbformat_minor": 5
}
