{
 "cells": [
  {
   "cell_type": "code",
   "execution_count": 3,
   "id": "11247bde-b758-48d5-a803-317c80f66d4d",
   "metadata": {},
   "outputs": [
    {
     "data": {
      "text/plain": [
       "['__and__',\n",
       " '__class__',\n",
       " '__class_getitem__',\n",
       " '__contains__',\n",
       " '__delattr__',\n",
       " '__dir__',\n",
       " '__doc__',\n",
       " '__eq__',\n",
       " '__format__',\n",
       " '__ge__',\n",
       " '__getattribute__',\n",
       " '__getstate__',\n",
       " '__gt__',\n",
       " '__hash__',\n",
       " '__iand__',\n",
       " '__init__',\n",
       " '__init_subclass__',\n",
       " '__ior__',\n",
       " '__isub__',\n",
       " '__iter__',\n",
       " '__ixor__',\n",
       " '__le__',\n",
       " '__len__',\n",
       " '__lt__',\n",
       " '__ne__',\n",
       " '__new__',\n",
       " '__or__',\n",
       " '__rand__',\n",
       " '__reduce__',\n",
       " '__reduce_ex__',\n",
       " '__repr__',\n",
       " '__ror__',\n",
       " '__rsub__',\n",
       " '__rxor__',\n",
       " '__setattr__',\n",
       " '__sizeof__',\n",
       " '__str__',\n",
       " '__sub__',\n",
       " '__subclasshook__',\n",
       " '__xor__',\n",
       " 'add',\n",
       " 'clear',\n",
       " 'copy',\n",
       " 'difference',\n",
       " 'difference_update',\n",
       " 'discard',\n",
       " 'intersection',\n",
       " 'intersection_update',\n",
       " 'isdisjoint',\n",
       " 'issubset',\n",
       " 'issuperset',\n",
       " 'pop',\n",
       " 'remove',\n",
       " 'symmetric_difference',\n",
       " 'symmetric_difference_update',\n",
       " 'union',\n",
       " 'update']"
      ]
     },
     "execution_count": 3,
     "metadata": {},
     "output_type": "execute_result"
    }
   ],
   "source": [
    "dir(set)"
   ]
  },
  {
   "cell_type": "code",
   "execution_count": 1,
   "id": "0bb17ab7-33aa-42ad-96dc-c9c320167db4",
   "metadata": {},
   "outputs": [
    {
     "name": "stdout",
     "output_type": "stream",
     "text": [
      "<class 'tuple'>\n"
     ]
    }
   ],
   "source": [
    "s1 = ()\n",
    "print(type(s1))"
   ]
  },
  {
   "cell_type": "code",
   "execution_count": 5,
   "id": "41168259-594d-4a91-84d3-1940846a479c",
   "metadata": {},
   "outputs": [
    {
     "name": "stdout",
     "output_type": "stream",
     "text": [
      "{1, 2, 3, 4}\n",
      "{(67, 8, 9), 'hello', 4, 5, 6}\n"
     ]
    }
   ],
   "source": [
    "s3 = {1,2,3,4}\n",
    "s4 = {\"hello\",4,5,6,(67,8,9)}\n",
    "print(s3)\n",
    "print(s4)"
   ]
  },
  {
   "cell_type": "code",
   "execution_count": 7,
   "id": "ee736e9a-4685-41e0-9648-b783619c11b6",
   "metadata": {},
   "outputs": [],
   "source": [
    "#list is not allowed as an element in a set"
   ]
  },
  {
   "cell_type": "code",
   "execution_count": 9,
   "id": "531335b1-8098-4572-ad82-9ebb63ff8212",
   "metadata": {},
   "outputs": [
    {
     "ename": "TypeError",
     "evalue": "unhashable type: 'list'",
     "output_type": "error",
     "traceback": [
      "\u001b[1;31m---------------------------------------------------------------------------\u001b[0m",
      "\u001b[1;31mTypeError\u001b[0m                                 Traceback (most recent call last)",
      "Cell \u001b[1;32mIn[9], line 1\u001b[0m\n\u001b[1;32m----> 1\u001b[0m s \u001b[38;5;241m=\u001b[39m {[\u001b[38;5;241m2\u001b[39m,\u001b[38;5;241m3\u001b[39m,\u001b[38;5;241m4\u001b[39m],\u001b[38;5;241m4\u001b[39m,\u001b[38;5;241m5\u001b[39m}\n\u001b[0;32m      2\u001b[0m \u001b[38;5;28mprint\u001b[39m(s)\n",
      "\u001b[1;31mTypeError\u001b[0m: unhashable type: 'list'"
     ]
    }
   ],
   "source": [
    "s = {[2,3,4],4,5}\n",
    "print(s)"
   ]
  },
  {
   "cell_type": "code",
   "execution_count": 11,
   "id": "a13d7a29-1561-4f21-b3c5-1bc3bdc0ca0a",
   "metadata": {},
   "outputs": [],
   "source": [
    "# dictionary is not allowed as an element in the set"
   ]
  },
  {
   "cell_type": "code",
   "execution_count": 13,
   "id": "3ebe4e78-7335-4fda-929c-0175539e2786",
   "metadata": {},
   "outputs": [
    {
     "ename": "SyntaxError",
     "evalue": "invalid syntax (1534759940.py, line 1)",
     "output_type": "error",
     "traceback": [
      "\u001b[1;36m  Cell \u001b[1;32mIn[13], line 1\u001b[1;36m\u001b[0m\n\u001b[1;33m    s6 = {{1:2:4},4,5,6}\u001b[0m\n\u001b[1;37m              ^\u001b[0m\n\u001b[1;31mSyntaxError\u001b[0m\u001b[1;31m:\u001b[0m invalid syntax\n"
     ]
    }
   ],
   "source": [
    "s6 = {{1:2:4},4,5,6}\n",
    "print(s6)"
   ]
  },
  {
   "cell_type": "code",
   "execution_count": 15,
   "id": "b9fd2a26-a7eb-4ccc-9fd9-573bc685f0f2",
   "metadata": {},
   "outputs": [
    {
     "name": "stdout",
     "output_type": "stream",
     "text": [
      "4\n"
     ]
    }
   ],
   "source": [
    "set1 = {23,45,1,56}\n",
    "print(len(set1))"
   ]
  },
  {
   "cell_type": "code",
   "execution_count": 17,
   "id": "60162cde-0920-4e05-a227-7e413e4a444e",
   "metadata": {},
   "outputs": [
    {
     "name": "stdout",
     "output_type": "stream",
     "text": [
      "56\n"
     ]
    }
   ],
   "source": [
    "print(max(set1))"
   ]
  },
  {
   "cell_type": "code",
   "execution_count": 19,
   "id": "7f1dd6c7-e423-496e-b345-e538cc80dbcf",
   "metadata": {},
   "outputs": [
    {
     "name": "stdout",
     "output_type": "stream",
     "text": [
      "1\n"
     ]
    }
   ],
   "source": [
    "print(min(set1))"
   ]
  },
  {
   "cell_type": "code",
   "execution_count": 21,
   "id": "8ae7a3a6-3ca5-470a-8a51-a499dfe9e720",
   "metadata": {},
   "outputs": [
    {
     "name": "stdout",
     "output_type": "stream",
     "text": [
      "125\n"
     ]
    }
   ],
   "source": [
    "print(sum(set1))"
   ]
  },
  {
   "cell_type": "code",
   "execution_count": 23,
   "id": "10da22e3-5421-44b2-a71c-e3d9468ca1ba",
   "metadata": {},
   "outputs": [
    {
     "name": "stdout",
     "output_type": "stream",
     "text": [
      "[1, 23, 45, 56]\n"
     ]
    }
   ],
   "source": [
    "print(sorted(set1))"
   ]
  },
  {
   "cell_type": "code",
   "execution_count": 25,
   "id": "7092c5e5-ea87-4df8-851b-2fa99a803b50",
   "metadata": {},
   "outputs": [
    {
     "name": "stdout",
     "output_type": "stream",
     "text": [
      "{'hello', 34, 67, (3, 4, 5), 89.5, 12}\n"
     ]
    }
   ],
   "source": [
    "set2 = {12,34,'hello'}\n",
    "set3 = {(3,4,5),89.5,'hello',67}\n",
    "set4 = {1,2,3}\n",
    "print(set2.union(set3))"
   ]
  },
  {
   "cell_type": "code",
   "execution_count": 27,
   "id": "100f9c6a-983c-41fd-92b9-dbc999eef212",
   "metadata": {},
   "outputs": [
    {
     "name": "stdout",
     "output_type": "stream",
     "text": [
      "{1, 34, 67, 2, 3, 12, 'hello', (3, 4, 5), 89.5}\n"
     ]
    }
   ],
   "source": [
    "print(set2.union(set3,set4))"
   ]
  },
  {
   "cell_type": "code",
   "execution_count": 29,
   "id": "5b998496-fa6e-4efc-8dbe-6deaff4df7a8",
   "metadata": {},
   "outputs": [
    {
     "name": "stdout",
     "output_type": "stream",
     "text": [
      "{1, 'hello', 67, (3, 4, 5), 2, 3, 89.5}\n"
     ]
    }
   ],
   "source": [
    "print(set3 | set4)"
   ]
  },
  {
   "cell_type": "code",
   "execution_count": 31,
   "id": "15a973c5-1332-477d-8301-2964bcf3c994",
   "metadata": {},
   "outputs": [],
   "source": [
    "# intersection &"
   ]
  },
  {
   "cell_type": "code",
   "execution_count": 33,
   "id": "12ad2516-590e-4ff1-9b1f-cf8f996d5503",
   "metadata": {},
   "outputs": [
    {
     "name": "stdout",
     "output_type": "stream",
     "text": [
      "{'hello'}\n",
      "set()\n"
     ]
    }
   ],
   "source": [
    "print(set2. intersection(set3))\n",
    "print(set2 & set3 &set4)"
   ]
  },
  {
   "cell_type": "code",
   "execution_count": 35,
   "id": "20ebd40a-c723-437e-91fc-d53cd57bef02",
   "metadata": {},
   "outputs": [],
   "source": [
    "# difference - "
   ]
  },
  {
   "cell_type": "code",
   "execution_count": 37,
   "id": "215d17e8-fef8-4a86-b263-b1fa0daefdf6",
   "metadata": {},
   "outputs": [
    {
     "name": "stdout",
     "output_type": "stream",
     "text": [
      "{34, 12}\n"
     ]
    }
   ],
   "source": [
    "print(set2.difference(set3))"
   ]
  },
  {
   "cell_type": "code",
   "execution_count": 43,
   "id": "b1bf63f4-9b1b-4be1-a7aa-a94e80749f45",
   "metadata": {},
   "outputs": [
    {
     "name": "stdout",
     "output_type": "stream",
     "text": [
      "{(3, 4, 5), 89.5, 67}\n"
     ]
    }
   ],
   "source": [
    "print(set3.difference(set2))"
   ]
  },
  {
   "cell_type": "code",
   "execution_count": 41,
   "id": "7eaad4e8-7a56-43be-be0a-46db5f916cd9",
   "metadata": {},
   "outputs": [
    {
     "name": "stdout",
     "output_type": "stream",
     "text": [
      "{(3, 4, 5), 89.5, 'hello', 67}\n"
     ]
    }
   ],
   "source": [
    "print(set3 - set4)"
   ]
  },
  {
   "cell_type": "code",
   "execution_count": 45,
   "id": "64ca964c-88cb-4e5f-ac20-7b1b0aae2d5b",
   "metadata": {},
   "outputs": [
    {
     "name": "stdout",
     "output_type": "stream",
     "text": [
      "{34, 12}\n"
     ]
    }
   ],
   "source": [
    "print(set2.difference(set3,set4))"
   ]
  },
  {
   "cell_type": "code",
   "execution_count": 47,
   "id": "3b9a5bac-71f6-45a6-aed0-a62e31fe3357",
   "metadata": {},
   "outputs": [
    {
     "name": "stdout",
     "output_type": "stream",
     "text": [
      "{34, 67, 12, (3, 4, 5), 89.5}\n"
     ]
    }
   ],
   "source": [
    "print(set2.symmetric_difference(set3))"
   ]
  },
  {
   "cell_type": "code",
   "execution_count": 49,
   "id": "6911974e-9bae-4a79-8a8a-51a44a462e49",
   "metadata": {},
   "outputs": [
    {
     "name": "stdout",
     "output_type": "stream",
     "text": [
      "{34, 67, 12, (3, 4, 5), 89.5}\n"
     ]
    }
   ],
   "source": [
    "print(set3.symmetric_difference(set2))"
   ]
  },
  {
   "cell_type": "code",
   "execution_count": 51,
   "id": "496d05c2-6e2b-466e-ac75-efe2bfa4c984",
   "metadata": {},
   "outputs": [
    {
     "name": "stdout",
     "output_type": "stream",
     "text": [
      "{'hello', 34, 12}\n"
     ]
    }
   ],
   "source": [
    "print(set2)"
   ]
  },
  {
   "cell_type": "code",
   "execution_count": 53,
   "id": "c92fbf62-551d-413c-8da0-f90adb019208",
   "metadata": {},
   "outputs": [
    {
     "name": "stdout",
     "output_type": "stream",
     "text": [
      "{56, 'hello', 34, 12}\n"
     ]
    }
   ],
   "source": [
    "set2.add(56)\n",
    "print(set2)"
   ]
  },
  {
   "cell_type": "code",
   "execution_count": 55,
   "id": "fa30cc1f-eaba-4266-9ab0-ec471ba2a4a9",
   "metadata": {},
   "outputs": [
    {
     "ename": "TypeError",
     "evalue": "unhashable type: 'list'",
     "output_type": "error",
     "traceback": [
      "\u001b[1;31m---------------------------------------------------------------------------\u001b[0m",
      "\u001b[1;31mTypeError\u001b[0m                                 Traceback (most recent call last)",
      "Cell \u001b[1;32mIn[55], line 1\u001b[0m\n\u001b[1;32m----> 1\u001b[0m set2\u001b[38;5;241m.\u001b[39madd([\u001b[38;5;241m6\u001b[39m,\u001b[38;5;241m7\u001b[39m,\u001b[38;5;241m8\u001b[39m])\n\u001b[0;32m      2\u001b[0m \u001b[38;5;28mprint\u001b[39m(set2)\n",
      "\u001b[1;31mTypeError\u001b[0m: unhashable type: 'list'"
     ]
    }
   ],
   "source": [
    "set2.add([6,7,8])\n",
    "print(set2)"
   ]
  },
  {
   "cell_type": "code",
   "execution_count": 57,
   "id": "b8a5df2a-b8fb-4e01-b2ca-c555ee5752aa",
   "metadata": {},
   "outputs": [
    {
     "data": {
      "text/plain": [
       "{12, 34, 56}"
      ]
     },
     "execution_count": 57,
     "metadata": {},
     "output_type": "execute_result"
    }
   ],
   "source": [
    "set2.remove('hello')\n",
    "set2"
   ]
  },
  {
   "cell_type": "code",
   "execution_count": 59,
   "id": "7a5e564a-7ea1-479e-83d2-72165ac7183a",
   "metadata": {},
   "outputs": [
    {
     "ename": "KeyError",
     "evalue": "'hello'",
     "output_type": "error",
     "traceback": [
      "\u001b[1;31m---------------------------------------------------------------------------\u001b[0m",
      "\u001b[1;31mKeyError\u001b[0m                                  Traceback (most recent call last)",
      "Cell \u001b[1;32mIn[59], line 1\u001b[0m\n\u001b[1;32m----> 1\u001b[0m \u001b[38;5;28mprint\u001b[39m(set2\u001b[38;5;241m.\u001b[39mremove(\u001b[38;5;124m'\u001b[39m\u001b[38;5;124mhello\u001b[39m\u001b[38;5;124m'\u001b[39m))\n\u001b[0;32m      2\u001b[0m set2\n",
      "\u001b[1;31mKeyError\u001b[0m: 'hello'"
     ]
    }
   ],
   "source": [
    "print(set2.remove('hello'))\n",
    "set2"
   ]
  },
  {
   "cell_type": "code",
   "execution_count": 61,
   "id": "e2ba1d70-bf8f-47d6-a52e-4dfbe3ed88e1",
   "metadata": {},
   "outputs": [
    {
     "data": {
      "text/plain": [
       "{12, 34, 56}"
      ]
     },
     "execution_count": 61,
     "metadata": {},
     "output_type": "execute_result"
    }
   ],
   "source": [
    "set2"
   ]
  },
  {
   "cell_type": "code",
   "execution_count": 63,
   "id": "8ca37e79-1580-4c3b-a13e-b245f461fcc3",
   "metadata": {},
   "outputs": [
    {
     "ename": "KeyError",
     "evalue": "9",
     "output_type": "error",
     "traceback": [
      "\u001b[1;31m---------------------------------------------------------------------------\u001b[0m",
      "\u001b[1;31mKeyError\u001b[0m                                  Traceback (most recent call last)",
      "Cell \u001b[1;32mIn[63], line 1\u001b[0m\n\u001b[1;32m----> 1\u001b[0m set2\u001b[38;5;241m.\u001b[39mremove(\u001b[38;5;241m9\u001b[39m)\n\u001b[0;32m      2\u001b[0m set2\n",
      "\u001b[1;31mKeyError\u001b[0m: 9"
     ]
    }
   ],
   "source": [
    "set2.remove(9)\n",
    "set2"
   ]
  },
  {
   "cell_type": "code",
   "execution_count": 65,
   "id": "a025c5fb-eb28-4624-b8be-154a913f240d",
   "metadata": {},
   "outputs": [
    {
     "data": {
      "text/plain": [
       "{12, 34, 56}"
      ]
     },
     "execution_count": 65,
     "metadata": {},
     "output_type": "execute_result"
    }
   ],
   "source": [
    "set2.discard(9)\n",
    "set2"
   ]
  },
  {
   "cell_type": "code",
   "execution_count": 67,
   "id": "79a9167c-30dc-42f6-b665-8a268a5cce3c",
   "metadata": {},
   "outputs": [
    {
     "name": "stdout",
     "output_type": "stream",
     "text": [
      "None\n"
     ]
    }
   ],
   "source": [
    "color1 = {'red','green','orange'}\n",
    "color2 = {'blue','red', 'purple'}\n",
    "print(color1.intersection_update(color2))"
   ]
  },
  {
   "cell_type": "code",
   "execution_count": 69,
   "id": "c588005f-43a0-4c08-aa49-cfddb941925a",
   "metadata": {},
   "outputs": [
    {
     "data": {
      "text/plain": [
       "{'red'}"
      ]
     },
     "execution_count": 69,
     "metadata": {},
     "output_type": "execute_result"
    }
   ],
   "source": [
    "color1.intersection_update(color2)\n",
    "color1"
   ]
  },
  {
   "cell_type": "code",
   "execution_count": 71,
   "id": "ee878638-6ac2-496e-845f-f4a3ae5611e4",
   "metadata": {},
   "outputs": [
    {
     "data": {
      "text/plain": [
       "{'red'}"
      ]
     },
     "execution_count": 71,
     "metadata": {},
     "output_type": "execute_result"
    }
   ],
   "source": [
    "color2.intersection_update(color1)\n",
    "color2"
   ]
  },
  {
   "cell_type": "code",
   "execution_count": 73,
   "id": "28d21206-970e-4bd4-96dc-65c3fb1a899b",
   "metadata": {},
   "outputs": [
    {
     "data": {
      "text/plain": [
       "{'blue', 'indigo', 'red', 'yellow'}"
      ]
     },
     "execution_count": 73,
     "metadata": {},
     "output_type": "execute_result"
    }
   ],
   "source": [
    "color1.update(['blue','indigo','yellow'])\n",
    "color1"
   ]
  },
  {
   "cell_type": "code",
   "execution_count": 75,
   "id": "643fe7a1-5bb0-49a1-8ea2-9dc0fd4346c1",
   "metadata": {},
   "outputs": [
    {
     "data": {
      "text/plain": [
       "{'blue', 'indigo', 'red', 'yellow'}"
      ]
     },
     "execution_count": 75,
     "metadata": {},
     "output_type": "execute_result"
    }
   ],
   "source": [
    "color1.update(color2)\n",
    "color1"
   ]
  },
  {
   "cell_type": "code",
   "execution_count": 77,
   "id": "a34b38a2-b976-45ea-9733-af7ccd4d15e7",
   "metadata": {},
   "outputs": [
    {
     "data": {
      "text/plain": [
       "{'orange', 'pink', 'purple', 'red'}"
      ]
     },
     "execution_count": 77,
     "metadata": {},
     "output_type": "execute_result"
    }
   ],
   "source": [
    "color2.update(['orange','pink','purple'])\n",
    "color2"
   ]
  },
  {
   "cell_type": "code",
   "execution_count": 79,
   "id": "c45d854d-87b7-443a-b3f2-95c3cc3ee2b9",
   "metadata": {},
   "outputs": [
    {
     "data": {
      "text/plain": [
       "{'blue', 'indigo', 'yellow'}"
      ]
     },
     "execution_count": 79,
     "metadata": {},
     "output_type": "execute_result"
    }
   ],
   "source": [
    "color1.difference_update(color2)\n",
    "color1"
   ]
  },
  {
   "cell_type": "code",
   "execution_count": 81,
   "id": "9c0376cf-93cc-4b84-801e-6bd0ae09ab1c",
   "metadata": {},
   "outputs": [
    {
     "data": {
      "text/plain": [
       "{'blue', 'indigo', 'orange', 'pink', 'purple', 'red', 'yellow'}"
      ]
     },
     "execution_count": 81,
     "metadata": {},
     "output_type": "execute_result"
    }
   ],
   "source": [
    "color1.symmetric_difference_update(color2)\n",
    "color1"
   ]
  },
  {
   "cell_type": "code",
   "execution_count": 83,
   "id": "ed7a2a28-37ee-44cb-9da6-efc6286a9c66",
   "metadata": {},
   "outputs": [
    {
     "name": "stdin",
     "output_type": "stream",
     "text": [
      "Enter the value of n:  10\n"
     ]
    },
    {
     "name": "stdout",
     "output_type": "stream",
     "text": [
      "{2, 3, 4, 5, 6, 7, 8, 9, 10}\n"
     ]
    }
   ],
   "source": [
    "s = set()\n",
    "n = int(input(\"Enter the value of n: \")) #10\n",
    "for i in range(2,n+1):\n",
    "    s.add(i)\n",
    "print(s)    "
   ]
  },
  {
   "cell_type": "code",
   "execution_count": null,
   "id": "47c7e539-6469-4f5e-a8f6-b523182d237a",
   "metadata": {},
   "outputs": [],
   "source": []
  }
 ],
 "metadata": {
  "kernelspec": {
   "display_name": "Python 3 (ipykernel)",
   "language": "python",
   "name": "python3"
  },
  "language_info": {
   "codemirror_mode": {
    "name": "ipython",
    "version": 3
   },
   "file_extension": ".py",
   "mimetype": "text/x-python",
   "name": "python",
   "nbconvert_exporter": "python",
   "pygments_lexer": "ipython3",
   "version": "3.12.4"
  }
 },
 "nbformat": 4,
 "nbformat_minor": 5
}
