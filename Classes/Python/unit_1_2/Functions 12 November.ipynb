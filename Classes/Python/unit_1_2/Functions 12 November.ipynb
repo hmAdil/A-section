{
 "cells": [
  {
   "cell_type": "code",
   "execution_count": 1,
   "id": "6abf63b7-95d5-464c-9cfa-3295fe55304d",
   "metadata": {},
   "outputs": [
    {
     "name": "stdout",
     "output_type": "stream",
     "text": [
      "Area of the rectangle:  56\n"
     ]
    }
   ],
   "source": [
    "def area_rect(x,y):\n",
    "    a=x*y\n",
    "    return a\n",
    "a=area_rect(7,8)\n",
    "#a=area_rect(7) won't run because function asks for 2 parameters and only one is provided\n",
    "print(\"Area of the rectangle: \",a)"
   ]
  },
  {
   "cell_type": "code",
   "execution_count": 2,
   "id": "300c627c-bb0b-4f4d-bf27-14f66737c6d7",
   "metadata": {},
   "outputs": [
    {
     "name": "stdin",
     "output_type": "stream",
     "text": [
      "Enter the raidus of the circle whose area you want to get:  1\n"
     ]
    },
    {
     "name": "stdout",
     "output_type": "stream",
     "text": [
      "The area of the circle with radius as 1 units is:  3.14\n"
     ]
    }
   ],
   "source": [
    "def a_circle(x):\n",
    "    a=3.14*x*x\n",
    "    return a\n",
    "x=int(input(\"Enter the raidus of the circle whose area you want to get: \"))\n",
    "a=a_circle(x)\n",
    "print(f\"The area of the circle with radius as {x} units is: \", a)"
   ]
  },
  {
   "cell_type": "code",
   "execution_count": 3,
   "id": "9b6cfa1c-8424-483b-bdf1-13d9ff8cb8cc",
   "metadata": {},
   "outputs": [
    {
     "data": {
      "text/plain": [
       "'python does not support function overloading, this is because when we define multiple functions with same variables \\nthe newer function will always override the older function\\n\\nassignment to functions as variables works well but del function wont work with original function.\\n\\nprint(id(anything)) will always print the memory address of \"anything\"'"
      ]
     },
     "execution_count": 3,
     "metadata": {},
     "output_type": "execute_result"
    }
   ],
   "source": [
    "'''python does not support function overloading, this is because when we define multiple functions with same variables \n",
    "the newer function will always override the older function\n",
    "\n",
    "assignment to functions as variables works well but del function wont work with original function.\n",
    "\n",
    "print(id(anything)) will always print the memory address of \"anything\"'''"
   ]
  },
  {
   "cell_type": "code",
   "execution_count": 4,
   "id": "10474177-aa0b-4976-92c8-e629e12ad064",
   "metadata": {},
   "outputs": [
    {
     "name": "stdout",
     "output_type": "stream",
     "text": [
      "Hello.\n",
      "None \n",
      " 126287448410528\n"
     ]
    }
   ],
   "source": [
    "def f1():\n",
    "    print(\"Hello.\")\n",
    "    return #\"No Shit sherlock!\"\n",
    "print(f1(),'\\n',id(f1))"
   ]
  },
  {
   "cell_type": "code",
   "execution_count": 8,
   "id": "04278c41-6b90-4b96-a38d-dd9d91fe896c",
   "metadata": {},
   "outputs": [],
   "source": [
    "def add(a,b):\n",
    "    print(a+b)\n",
    "def add(a,b,c):\n",
    "    print(a+b+c)\n",
    "#add(3,4)\n",
    "\n",
    "\n",
    "\n",
    "#             ---------------------------------------------------------------------------\n",
    "#             TypeError                                 Traceback (most recent call last)\n",
    "#             Cell In[22], line 5\n",
    "#                 3 def add(a,b,c):\n",
    "#                 4     print(a+b+c)\n",
    "#           ----> 5 add(3,4)\n",
    "#\n",
    "#             TypeError: add() missing 1 required positional argument: 'c'\n",
    "#\n",
    "#\n",
    "# It clearly means you cannot use overriding in python\n"
   ]
  },
  {
   "cell_type": "code",
   "execution_count": 22,
   "id": "4e9c1779-57b3-411f-b21a-c1ec73692137",
   "metadata": {},
   "outputs": [
    {
     "name": "stdout",
     "output_type": "stream",
     "text": [
      "Hello!\n"
     ]
    }
   ],
   "source": [
    "def f1():\n",
    "    print(\"Hello!\")\n",
    "f2=f1\n",
    "del f1\n",
    "f2()\n",
    "#f1() \n",
    "#---------------------------------------------------------------------------\n",
    "#NameError                                 Traceback (most recent call last)\n",
    "#Cell In[20], line 6\n",
    "#      4 del f1\n",
    "#      5 f2()\n",
    "#----> 6 f1()\n",
    "\n",
    "#NameError: name 'f1' is not defined"
   ]
  },
  {
   "cell_type": "code",
   "execution_count": 3,
   "id": "d75d570c-904c-480c-b526-54529f89a78b",
   "metadata": {},
   "outputs": [
    {
     "name": "stdout",
     "output_type": "stream",
     "text": [
      "Name:  xyz\n",
      "Age:  24\n",
      "Marks:  67\n",
      "Name:  abc\n",
      "Age:  24\n",
      "Marks:  67\n"
     ]
    }
   ],
   "source": [
    "def details(name,age,marks):\n",
    "    print('Name: ',name)\n",
    "    print('Age: ',age)\n",
    "    print('Marks: ',marks)\n",
    "details(name='xyz',age=24,marks=67)\n",
    "details(age=24,name='abc',marks=67)\n",
    "#details(age=24,n='klm',marks=78)\n",
    "#---------------------------------------------------------------------------\n",
    "#TypeError                                 Traceback (most recent call last)\n",
    "#Cell In[2], line 7\n",
    "#      5 details(name='xyz',age=24,marks=67)\n",
    "#      6 details(age=24,name='abc',marks=67)\n",
    "#----> 7 details(age=24,n='klm',marks=78)\n",
    "\n",
    "#TypeError: details() got an unexpected keyword argument 'n'"
   ]
  },
  {
   "cell_type": "code",
   "execution_count": 5,
   "id": "4afb1c76-188d-44b4-ba93-2979d6c1be97",
   "metadata": {},
   "outputs": [
    {
     "name": "stdout",
     "output_type": "stream",
     "text": [
      "60\n",
      "15\n"
     ]
    }
   ],
   "source": [
    "#positional arguments\n",
    "def val(a,b,c):\n",
    "    return (a+b+c)\n",
    "x,y,z=10,20,30\n",
    "s=val(x,y,z)\n",
    "print(s)\n",
    "a,b,c=4,5,6\n",
    "s1=val(a,b,c)\n",
    "print(s1)\n",
    "#combine keyword and positional argument"
   ]
  },
  {
   "cell_type": "code",
   "execution_count": 5,
   "id": "2eab3a4b-e2ac-44d2-9b7e-b5d7ed09a826",
   "metadata": {},
   "outputs": [
    {
     "name": "stdout",
     "output_type": "stream",
     "text": [
      "4 5\n",
      "4 13\n",
      "4 5\n",
      "4 10\n"
     ]
    }
   ],
   "source": [
    "def f1(a,b=5):\n",
    "    print(a,b)\n",
    "f1(4)\n",
    "f1(4,13)\n",
    "f1(a=4)\n",
    "f1(a=4,b=10)\n",
    "#f1(a=4,15) will throw error\n",
    "\n",
    "#  Cell In[1], line 7\n",
    "#    f1(a=4,15)\n",
    "#            ^\n",
    "#SyntaxError: positional argument follows keyword argument\n",
    "\n",
    "#f1(4,5,6)\n",
    "\n",
    "#---------------------------------------------------------------------------\n",
    "#TypeError                                 Traceback (most recent call last)\n",
    "#Cell In[4], line 14\n",
    "#      6 f1(a=4,b=10)\n",
    "#      7 #f1(a=4,15) will throw error\n",
    "#      8 \n",
    "#      9 #  Cell In[1], line 7\n",
    "#     10 #    f1(a=4,15)\n",
    "#     11 #             ^\n",
    "#     12 #SyntaxError: positional argument follows keyword argument\n",
    "#---> 14 f1(4,5,6)\n",
    "#\n",
    "#TypeError: f1() takes from 1 to 2 positional arguments but 3 were given"
   ]
  },
  {
   "cell_type": "code",
   "execution_count": 6,
   "id": "6f8b1e46-5495-4bf7-b088-da66c2cb0f7b",
   "metadata": {},
   "outputs": [
    {
     "name": "stdout",
     "output_type": "stream",
     "text": [
      "[22]\n",
      "[22, 45]\n",
      "[22, 45, 36]\n"
     ]
    }
   ],
   "source": [
    "def f2(a,b=[]):\n",
    "    b.append(a)\n",
    "    print(b)\n",
    "f2(22)     #these are giving values for 1 only\n",
    "f2(45)\n",
    "f2(36)\n"
   ]
  },
  {
   "cell_type": "code",
   "execution_count": 16,
   "id": "c57a59cc-0d0c-445b-8279-b766598ee281",
   "metadata": {},
   "outputs": [
    {
     "name": "stdout",
     "output_type": "stream",
     "text": [
      "outside function:  10\n",
      "inside function: \n",
      "9 7\n",
      "value of y is:  18\n",
      "value of y is:  18\n"
     ]
    }
   ],
   "source": [
    "#global and local variables\n",
    "x=10; y=8\n",
    "print('outside function: ',x)\n",
    "def f1():\n",
    "    x,m=9,7 # local scope\n",
    "    print('inside function: ')\n",
    "    print(x,m)\n",
    "    global y\n",
    "    y += 10\n",
    "    print('value of y is: ',y)\n",
    "f1()\n",
    "#print('value of m is: ',m) \n",
    "\n",
    "#---------------------------------------------------------------------------\n",
    "#NameError                                 Traceback (most recent call last)\n",
    "#Cell In[13], line 10\n",
    "#      8     print('value of y is: ',y)\n",
    "#      9 f1()\n",
    "#---> 10 print('value of m is: ',m)\n",
    "#     11 print('value of y is: ',y)\n",
    "#\n",
    "#NameError: name 'm' is not defined\n",
    "\n",
    "print('value of y is: ',y)"
   ]
  },
  {
   "cell_type": "code",
   "execution_count": 17,
   "id": "0dc971bb-1914-4279-bc3a-303001e7be4f",
   "metadata": {},
   "outputs": [
    {
     "name": "stdout",
     "output_type": "stream",
     "text": [
      "(2, 4)\n",
      "2 4\n",
      "<class 'tuple'>\n",
      "24\n",
      "(8, 2, 3, 45, 6, [7, 8], {1, 2}, 99.3)\n",
      "8 2 3 45 6 [7, 8] {1, 2} 99.3\n",
      "<class 'tuple'>\n",
      "823456[7, 8]{1, 2}99.3\n",
      "()\n",
      "\n",
      "<class 'tuple'>\n",
      "\n"
     ]
    }
   ],
   "source": [
    "def f3(*arg):\n",
    "    print(arg)\n",
    "    print(*arg)\n",
    "    print(type(arg))\n",
    "    for i in arg:\n",
    "        print(i,end='')\n",
    "    print()\n",
    "f3(2,4)\n",
    "f3(8,2,3,45,6,[7,8],{1,2},99.3)\n",
    "f3()"
   ]
  },
  {
   "cell_type": "code",
   "execution_count": 18,
   "id": "f3aea850-e898-42c9-92e5-b2ea7162af0e",
   "metadata": {},
   "outputs": [
    {
     "name": "stdout",
     "output_type": "stream",
     "text": [
      "{'a': 4, 'b': 5, 'c': 6, 'd': 7} <class 'dict'>\n",
      "('a', 4)\n",
      "('b', 5)\n",
      "('c', 6)\n",
      "('d', 7)\n",
      "4\n",
      "5\n",
      "6\n",
      "7\n",
      "a\n",
      "b\n",
      "c\n",
      "d\n"
     ]
    }
   ],
   "source": [
    "def f4(**kwarg):\n",
    "    print(kwarg,type(kwarg))\n",
    "    for i in kwarg.items():\n",
    "        print(i)\n",
    "    for i in kwarg.values():\n",
    "        print(i)\n",
    "    for i in kwarg.keys():\n",
    "        print(i)\n",
    "f4(a=4,b=5,c=6,d=7)"
   ]
  },
  {
   "cell_type": "code",
   "execution_count": 21,
   "id": "d798c571-71f6-4bbe-aed7-f4d46ab99ca1",
   "metadata": {},
   "outputs": [
    {
     "name": "stdout",
     "output_type": "stream",
     "text": [
      "in f1\n",
      "in f2\n",
      "None\n",
      "None\n"
     ]
    }
   ],
   "source": [
    "def f1():\n",
    "    print('in f1')\n",
    "    print(f2())\n",
    "def f2():\n",
    "    print('in f2')\n",
    "    return \n",
    "print(f1())\n"
   ]
  },
  {
   "cell_type": "code",
   "execution_count": null,
   "id": "ad65b47e-7d9d-42ac-ab6a-db2cb278a8cc",
   "metadata": {},
   "outputs": [],
   "source": []
  }
 ],
 "metadata": {
  "kernelspec": {
   "display_name": "Python 3 (ipykernel)",
   "language": "python",
   "name": "python3"
  },
  "language_info": {
   "codemirror_mode": {
    "name": "ipython",
    "version": 3
   },
   "file_extension": ".py",
   "mimetype": "text/x-python",
   "name": "python",
   "nbconvert_exporter": "python",
   "pygments_lexer": "ipython3",
   "version": "3.12.7"
  }
 },
 "nbformat": 4,
 "nbformat_minor": 5
}
