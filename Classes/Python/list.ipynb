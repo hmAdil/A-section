{
 "cells": [
  {
   "cell_type": "code",
   "execution_count": 1,
   "id": "1873ac2c-883d-4a3b-a261-d84de899bce4",
   "metadata": {},
   "outputs": [],
   "source": [
    "# list stores sequence of homogenous or hetrogenous data"
   ]
  },
  {
   "cell_type": "code",
   "execution_count": 2,
   "id": "3ed8eb6d-b1e4-4703-a18e-2cef347111e6",
   "metadata": {},
   "outputs": [
    {
     "data": {
      "text/plain": [
       "['__add__',\n",
       " '__class__',\n",
       " '__class_getitem__',\n",
       " '__contains__',\n",
       " '__delattr__',\n",
       " '__delitem__',\n",
       " '__dir__',\n",
       " '__doc__',\n",
       " '__eq__',\n",
       " '__format__',\n",
       " '__ge__',\n",
       " '__getattribute__',\n",
       " '__getitem__',\n",
       " '__getstate__',\n",
       " '__gt__',\n",
       " '__hash__',\n",
       " '__iadd__',\n",
       " '__imul__',\n",
       " '__init__',\n",
       " '__init_subclass__',\n",
       " '__iter__',\n",
       " '__le__',\n",
       " '__len__',\n",
       " '__lt__',\n",
       " '__mul__',\n",
       " '__ne__',\n",
       " '__new__',\n",
       " '__reduce__',\n",
       " '__reduce_ex__',\n",
       " '__repr__',\n",
       " '__reversed__',\n",
       " '__rmul__',\n",
       " '__setattr__',\n",
       " '__setitem__',\n",
       " '__sizeof__',\n",
       " '__str__',\n",
       " '__subclasshook__',\n",
       " 'append',\n",
       " 'clear',\n",
       " 'copy',\n",
       " 'count',\n",
       " 'extend',\n",
       " 'index',\n",
       " 'insert',\n",
       " 'pop',\n",
       " 'remove',\n",
       " 'reverse',\n",
       " 'sort']"
      ]
     },
     "execution_count": 2,
     "metadata": {},
     "output_type": "execute_result"
    }
   ],
   "source": [
    "dir(list)"
   ]
  },
  {
   "cell_type": "code",
   "execution_count": 3,
   "id": "d3069529-557c-4115-83d1-e94b91d0f12b",
   "metadata": {},
   "outputs": [
    {
     "name": "stdout",
     "output_type": "stream",
     "text": [
      "<class 'list'>\n"
     ]
    }
   ],
   "source": [
    "# creation of list\n",
    "a=[] # empty list\n",
    "print(type(a))"
   ]
  },
  {
   "cell_type": "code",
   "execution_count": 4,
   "id": "019fd019-5a2d-45d2-8622-68c1ecb0d57f",
   "metadata": {},
   "outputs": [
    {
     "name": "stdout",
     "output_type": "stream",
     "text": [
      "<class 'list'>\n"
     ]
    }
   ],
   "source": [
    "b=list()\n",
    "print(type(b))"
   ]
  },
  {
   "cell_type": "code",
   "execution_count": 5,
   "id": "2d46252e-5451-4253-b259-59a189da841b",
   "metadata": {},
   "outputs": [
    {
     "name": "stdout",
     "output_type": "stream",
     "text": [
      "[10, 20, 30, 40, 50]\n"
     ]
    }
   ],
   "source": [
    "lst1 = [10,20,30,40,50] # homogenous list\n",
    "print(lst1)"
   ]
  },
  {
   "cell_type": "code",
   "execution_count": 6,
   "id": "2fdf5ef7-1da4-4f40-8495-99479d62f7e5",
   "metadata": {},
   "outputs": [
    {
     "name": "stdout",
     "output_type": "stream",
     "text": [
      "[10, 20, 30, 40, 50]\n",
      "['blue', 'green', 'red', 'orange']\n"
     ]
    }
   ],
   "source": [
    "lst1 = [10,20,30,40,50]\n",
    "print(lst1)\n",
    "color = ['blue', 'green', 'red', 'orange']\n",
    "print(color)"
   ]
  },
  {
   "cell_type": "code",
   "execution_count": 7,
   "id": "2b275aa4-afe6-43d1-8cb9-4f18d19fc20a",
   "metadata": {},
   "outputs": [
    {
     "name": "stdout",
     "output_type": "stream",
     "text": [
      "[1, 'Ram', 78.15, True, 1]\n"
     ]
    }
   ],
   "source": [
    "student=[1,'Ram', 78.15, True, 1] # hetrogenous list\n",
    "print(student)"
   ]
  },
  {
   "cell_type": "code",
   "execution_count": 8,
   "id": "2460a284-9b86-48ca-80fd-ba40efab4f92",
   "metadata": {},
   "outputs": [],
   "source": [
    "# nested list or list in list"
   ]
  },
  {
   "cell_type": "code",
   "execution_count": 9,
   "id": "d3da234d-a285-4d0e-bf00-d73696a9746e",
   "metadata": {},
   "outputs": [
    {
     "name": "stdout",
     "output_type": "stream",
     "text": [
      "[10, 20, [6, 'a', 8.9], 40]\n"
     ]
    }
   ],
   "source": [
    "lst2 = [10,20,[6,'a', 8.9], 40]\n",
    "print(lst2)"
   ]
  },
  {
   "cell_type": "code",
   "execution_count": 10,
   "id": "12904454-fe0b-4fd4-9c09-e56af576fc9f",
   "metadata": {},
   "outputs": [
    {
     "name": "stdout",
     "output_type": "stream",
     "text": [
      "6\n"
     ]
    }
   ],
   "source": [
    "print(lst2[2][0])"
   ]
  },
  {
   "cell_type": "code",
   "execution_count": 11,
   "id": "14fce757-8d23-4a3b-a34b-3b48c893ef0a",
   "metadata": {},
   "outputs": [
    {
     "name": "stdout",
     "output_type": "stream",
     "text": [
      "['a', 8.9]\n"
     ]
    }
   ],
   "source": [
    "print(lst2[2][1:3])"
   ]
  },
  {
   "cell_type": "code",
   "execution_count": 12,
   "id": "fece9e43-babd-4f73-b6ce-075e97833e0a",
   "metadata": {},
   "outputs": [],
   "source": [
    "#mutable change an element in list"
   ]
  },
  {
   "cell_type": "code",
   "execution_count": 13,
   "id": "3aa1df56-052c-4916-b348-1111063e926f",
   "metadata": {},
   "outputs": [
    {
     "name": "stdout",
     "output_type": "stream",
     "text": [
      "10\n"
     ]
    }
   ],
   "source": [
    "print(lst2[0])"
   ]
  },
  {
   "cell_type": "code",
   "execution_count": 14,
   "id": "768de9e2-bef7-4428-8939-8f3cd2732aab",
   "metadata": {},
   "outputs": [
    {
     "name": "stdout",
     "output_type": "stream",
     "text": [
      "[6, 'a', 8.9]\n"
     ]
    }
   ],
   "source": [
    "print(lst2[2])"
   ]
  },
  {
   "cell_type": "code",
   "execution_count": 15,
   "id": "c62f5168-3005-4b63-a80d-451aaa66a6e0",
   "metadata": {},
   "outputs": [
    {
     "name": "stdout",
     "output_type": "stream",
     "text": [
      "[10, 90, [6, 'a', 8.9], 40]\n"
     ]
    }
   ],
   "source": [
    "lst2[1] = 90\n",
    "print(lst2)"
   ]
  },
  {
   "cell_type": "code",
   "execution_count": 16,
   "id": "724d4912-2460-436f-a453-51673c7c8269",
   "metadata": {},
   "outputs": [
    {
     "name": "stdout",
     "output_type": "stream",
     "text": [
      "[10, 90, [6, 'x', 8.9], 40]\n"
     ]
    }
   ],
   "source": [
    "lst2[2][1] = 'x'\n",
    "print(lst2)"
   ]
  },
  {
   "cell_type": "code",
   "execution_count": 17,
   "id": "34856cfd-3b2f-41f5-83f6-8e1e28273e98",
   "metadata": {},
   "outputs": [],
   "source": [
    "# assignment"
   ]
  },
  {
   "cell_type": "code",
   "execution_count": 18,
   "id": "d0e2435b-4700-493e-a380-849f756803bf",
   "metadata": {},
   "outputs": [
    {
     "name": "stdout",
     "output_type": "stream",
     "text": [
      "2572011522624\n",
      "2572011522624\n"
     ]
    }
   ],
   "source": [
    "lst3 = lst1\n",
    "print(id(lst3))\n",
    "print(id(lst1))"
   ]
  },
  {
   "cell_type": "code",
   "execution_count": 19,
   "id": "5f211056-ae8e-47c1-8f9b-5160b9f43118",
   "metadata": {},
   "outputs": [],
   "source": [
    "# slicing\n",
    "# slice operation create new sublist\n",
    "# start:stop:step"
   ]
  },
  {
   "cell_type": "code",
   "execution_count": 20,
   "id": "4a871d59-9212-499a-93b9-f9998072ed13",
   "metadata": {},
   "outputs": [
    {
     "name": "stdout",
     "output_type": "stream",
     "text": [
      "2572012517248\n",
      "2572012371072\n"
     ]
    }
   ],
   "source": [
    "lst4 = lst2[:]\n",
    "print(id(lst4))\n",
    "print(id(lst2))"
   ]
  },
  {
   "cell_type": "code",
   "execution_count": 21,
   "id": "33e65aa2-9993-4ae0-9258-d6482efb8b68",
   "metadata": {},
   "outputs": [
    {
     "name": "stdout",
     "output_type": "stream",
     "text": [
      "[1, 2, 3]\n"
     ]
    }
   ],
   "source": [
    "L = [1,2,3,4,5,6]\n",
    "print(L[:3])"
   ]
  },
  {
   "cell_type": "code",
   "execution_count": 22,
   "id": "5bdff9f0-0401-44de-8505-ae49e2f2f06f",
   "metadata": {},
   "outputs": [
    {
     "name": "stdout",
     "output_type": "stream",
     "text": [
      "[4, 5, 6]\n"
     ]
    }
   ],
   "source": [
    "print(L[3:])"
   ]
  },
  {
   "cell_type": "code",
   "execution_count": 23,
   "id": "6bc10a3a-827a-4a4b-afd4-c5ebdf45e402",
   "metadata": {},
   "outputs": [
    {
     "name": "stdout",
     "output_type": "stream",
     "text": [
      "[2, 3, 4]\n"
     ]
    }
   ],
   "source": [
    "print(L[1:4])"
   ]
  },
  {
   "cell_type": "code",
   "execution_count": 24,
   "id": "11531a09-dcb5-473b-8c54-77812d5d96d2",
   "metadata": {},
   "outputs": [
    {
     "name": "stdout",
     "output_type": "stream",
     "text": [
      "[1, 3, 5]\n"
     ]
    }
   ],
   "source": [
    "print(L[0:5:2])"
   ]
  },
  {
   "cell_type": "code",
   "execution_count": 25,
   "id": "12ad7ea8-73fa-48b1-bdae-c97459ab28b1",
   "metadata": {},
   "outputs": [
    {
     "name": "stdout",
     "output_type": "stream",
     "text": [
      "[2, 3, 4, 5, 6]\n"
     ]
    }
   ],
   "source": [
    "print(L[1:])"
   ]
  },
  {
   "cell_type": "code",
   "execution_count": 26,
   "id": "094c5cb2-3dba-4722-a0b3-33a8f2c3d427",
   "metadata": {},
   "outputs": [
    {
     "name": "stdout",
     "output_type": "stream",
     "text": [
      "[6, 4]\n"
     ]
    }
   ],
   "source": [
    "print(L[5:1:-2])"
   ]
  },
  {
   "cell_type": "code",
   "execution_count": 27,
   "id": "55b82092-1290-4267-9267-7e0e594978eb",
   "metadata": {},
   "outputs": [
    {
     "name": "stdout",
     "output_type": "stream",
     "text": [
      "[6, 5, 4, 3, 2, 1]\n"
     ]
    }
   ],
   "source": [
    "print(L[::-1]) # it is used to reverse a list."
   ]
  },
  {
   "cell_type": "code",
   "execution_count": 28,
   "id": "e0ebd26e-b952-4cb7-afe9-d03fb4ac6a3f",
   "metadata": {},
   "outputs": [
    {
     "name": "stdout",
     "output_type": "stream",
     "text": [
      "[1, 2, 3, 4, 5, 6]\n"
     ]
    }
   ],
   "source": [
    "print(L[:])"
   ]
  },
  {
   "cell_type": "code",
   "execution_count": 29,
   "id": "6040b11d-f414-42e8-80de-c30911b64b7a",
   "metadata": {},
   "outputs": [],
   "source": [
    "L1 = L[:]"
   ]
  },
  {
   "cell_type": "code",
   "execution_count": 30,
   "id": "6ea5dab1-547b-415f-86f6-4fbd0c16cda7",
   "metadata": {},
   "outputs": [
    {
     "name": "stdout",
     "output_type": "stream",
     "text": [
      "2572012618048\n"
     ]
    }
   ],
   "source": [
    "print(id(L))"
   ]
  },
  {
   "cell_type": "code",
   "execution_count": 31,
   "id": "7136b4c7-70ea-4c07-a36b-15c7aa38243a",
   "metadata": {},
   "outputs": [
    {
     "name": "stdout",
     "output_type": "stream",
     "text": [
      "2572012629568\n"
     ]
    }
   ],
   "source": [
    "print(id(L1))"
   ]
  },
  {
   "cell_type": "code",
   "execution_count": 32,
   "id": "6f99328d-a799-4a9d-8164-10718f906f8e",
   "metadata": {},
   "outputs": [],
   "source": [
    "# Traverse a list\n",
    "# iterable and index"
   ]
  },
  {
   "cell_type": "code",
   "execution_count": 33,
   "id": "fc2abec6-e0a7-4c93-96b2-c4a360b53d23",
   "metadata": {},
   "outputs": [
    {
     "name": "stdout",
     "output_type": "stream",
     "text": [
      "89 12 34 python "
     ]
    }
   ],
   "source": [
    "L3 = [89,12,34,'python']\n",
    "for i in L3:\n",
    "    print(i, end=\" \")"
   ]
  },
  {
   "cell_type": "code",
   "execution_count": 34,
   "id": "74ac9e40-a554-4a42-95a6-cc7af7465f88",
   "metadata": {},
   "outputs": [
    {
     "ename": "TypeError",
     "evalue": "'list' object is not callable",
     "output_type": "error",
     "traceback": [
      "\u001b[1;31m---------------------------------------------------------------------------\u001b[0m",
      "\u001b[1;31mTypeError\u001b[0m                                 Traceback (most recent call last)",
      "Cell \u001b[1;32mIn[34], line 3\u001b[0m\n\u001b[0;32m      1\u001b[0m L3 \u001b[38;5;241m=\u001b[39m [\u001b[38;5;241m89\u001b[39m,\u001b[38;5;241m12\u001b[39m,\u001b[38;5;241m34\u001b[39m,\u001b[38;5;124m'\u001b[39m\u001b[38;5;124mpython\u001b[39m\u001b[38;5;124m'\u001b[39m]\n\u001b[0;32m      2\u001b[0m \u001b[38;5;28;01mfor\u001b[39;00m i \u001b[38;5;129;01min\u001b[39;00m L3:\n\u001b[1;32m----> 3\u001b[0m     \u001b[38;5;28mprint\u001b[39m(L3(i, end\u001b[38;5;241m=\u001b[39m\u001b[38;5;124m\"\u001b[39m\u001b[38;5;124m \u001b[39m\u001b[38;5;124m\"\u001b[39m))\n",
      "\u001b[1;31mTypeError\u001b[0m: 'list' object is not callable"
     ]
    }
   ],
   "source": [
    "L3 = [89,12,34,'python']\n",
    "for i in L3:\n",
    "    print(L3(i, end=\" \"))"
   ]
  },
  {
   "cell_type": "code",
   "execution_count": null,
   "id": "45884003-2be5-47a7-898e-ecb5ced714cd",
   "metadata": {},
   "outputs": [],
   "source": [
    "L3 = [89,12,34,'python']\n",
    "for i in L3:\n",
    "    print(i, end=\" \")\n",
    "print()\n",
    "L4 = [10,20,[2,4,5],98]\n",
    "for i in L4:\n",
    "    print(i,end=\" \")"
   ]
  },
  {
   "cell_type": "code",
   "execution_count": null,
   "id": "7ad883ff-3df6-40ea-aa50-c8d635cdeea6",
   "metadata": {},
   "outputs": [],
   "source": [
    "# using index"
   ]
  },
  {
   "cell_type": "code",
   "execution_count": 35,
   "id": "45aa5491-5d71-410f-97df-4cff168c6f30",
   "metadata": {},
   "outputs": [
    {
     "name": "stdout",
     "output_type": "stream",
     "text": [
      "0 89\n",
      "1 12\n",
      "2 34\n",
      "3 python\n"
     ]
    }
   ],
   "source": [
    "for i in range(len(L3)):\n",
    "    print(i,L3[i])"
   ]
  },
  {
   "cell_type": "code",
   "execution_count": 37,
   "id": "967db29d-fa87-462f-9ed8-5e74174e43df",
   "metadata": {},
   "outputs": [
    {
     "ename": "NameError",
     "evalue": "name 'L4' is not defined",
     "output_type": "error",
     "traceback": [
      "\u001b[1;31m---------------------------------------------------------------------------\u001b[0m",
      "\u001b[1;31mNameError\u001b[0m                                 Traceback (most recent call last)",
      "Cell \u001b[1;32mIn[37], line 1\u001b[0m\n\u001b[1;32m----> 1\u001b[0m \u001b[38;5;28;01mfor\u001b[39;00m i \u001b[38;5;129;01min\u001b[39;00m \u001b[38;5;28mrange\u001b[39m(\u001b[38;5;28mlen\u001b[39m(L4)):\n\u001b[0;32m      2\u001b[0m     \u001b[38;5;28mprint\u001b[39m(i,L4[i])\n",
      "\u001b[1;31mNameError\u001b[0m: name 'L4' is not defined"
     ]
    }
   ],
   "source": [
    "for i in range(len(L4)):\n",
    "    print(i,L4[i])"
   ]
  },
  {
   "cell_type": "code",
   "execution_count": 39,
   "id": "52273a7a-c8fa-40d1-b02a-0b07b50d3756",
   "metadata": {},
   "outputs": [
    {
     "ename": "NameError",
     "evalue": "name 'L4' is not defined",
     "output_type": "error",
     "traceback": [
      "\u001b[1;31m---------------------------------------------------------------------------\u001b[0m",
      "\u001b[1;31mNameError\u001b[0m                                 Traceback (most recent call last)",
      "Cell \u001b[1;32mIn[39], line 1\u001b[0m\n\u001b[1;32m----> 1\u001b[0m \u001b[38;5;28;01mfor\u001b[39;00m i \u001b[38;5;129;01min\u001b[39;00m \u001b[38;5;28mrange\u001b[39m(\u001b[38;5;28mlen\u001b[39m(L4[\u001b[38;5;241m2\u001b[39m])):\n\u001b[0;32m      2\u001b[0m     \u001b[38;5;28mprint\u001b[39m(i,L4[\u001b[38;5;241m2\u001b[39m][i])\n",
      "\u001b[1;31mNameError\u001b[0m: name 'L4' is not defined"
     ]
    }
   ],
   "source": [
    "for i in range(len(L4[2])):\n",
    "    print(i,L4[2][i])"
   ]
  },
  {
   "cell_type": "code",
   "execution_count": 41,
   "id": "a7f2428a-a1dc-4ec9-bad4-e50d689a9295",
   "metadata": {},
   "outputs": [
    {
     "name": "stdout",
     "output_type": "stream",
     "text": [
      "[1, 2]\n",
      "[3, 4]\n",
      "[5, 6]\n"
     ]
    }
   ],
   "source": [
    "L6 = [[1,2],[3,4],[5,6]]\n",
    "# Q2\n",
    "for i in L6:\n",
    "    print(i)"
   ]
  },
  {
   "cell_type": "code",
   "execution_count": 43,
   "id": "70d782f6-fc49-4e4b-b7cc-88e13ddcc7c7",
   "metadata": {},
   "outputs": [
    {
     "name": "stdout",
     "output_type": "stream",
     "text": [
      "\n",
      "1 2 \n",
      "3 4 \n",
      "5 6 "
     ]
    }
   ],
   "source": [
    "# Q1\n",
    "for i in range(len(L6)):\n",
    "    print() # for adding a new line\n",
    "    for j in range(len(L6[i])):\n",
    "        print(L6[i][j], end=\" \")"
   ]
  },
  {
   "cell_type": "code",
   "execution_count": null,
   "id": "ca6589d9-21b7-4601-8bee-00d164084780",
   "metadata": {},
   "outputs": [],
   "source": [
    "# create list by taking user input\n",
    "\n",
    "\n",
    "\n",
    "# WAP to create student list of n students, take input. Take input srn, name and cgpa"
   ]
  },
  {
   "cell_type": "code",
   "execution_count": 65,
   "id": "3ac8e590-9d39-4d20-a179-f3afac0e2b54",
   "metadata": {},
   "outputs": [
    {
     "name": "stdin",
     "output_type": "stream",
     "text": [
      " Enter number of students:  2\n",
      " Enter the SRN:  45\n",
      " Enter name of student:  ak\n",
      " Enter the CGPA of student:  89\n"
     ]
    },
    {
     "ename": "NameError",
     "evalue": "name 'cpga' is not defined",
     "output_type": "error",
     "traceback": [
      "\u001b[1;31m---------------------------------------------------------------------------\u001b[0m",
      "\u001b[1;31mNameError\u001b[0m                                 Traceback (most recent call last)",
      "Cell \u001b[1;32mIn[65], line 10\u001b[0m\n\u001b[0;32m      8\u001b[0m     student\u001b[38;5;241m.\u001b[39mappend(srn)\n\u001b[0;32m      9\u001b[0m     student\u001b[38;5;241m.\u001b[39mappend(name)\n\u001b[1;32m---> 10\u001b[0m     student\u001b[38;5;241m.\u001b[39mappend(cpga)\n\u001b[0;32m     11\u001b[0m     i\u001b[38;5;241m=\u001b[39mi\u001b[38;5;241m+\u001b[39m\u001b[38;5;241m1\u001b[39m\n\u001b[0;32m     12\u001b[0m \u001b[38;5;28mprint\u001b[39m(student)\n",
      "\u001b[1;31mNameError\u001b[0m: name 'cpga' is not defined"
     ]
    }
   ],
   "source": [
    "n = int(input(' Enter number of students: '))\n",
    "i=0\n",
    "students = []\n",
    "while i<n:\n",
    "    srn = int(input(' Enter the SRN: '))\n",
    "    name = (input(' Enter name of student: '))\n",
    "    cgpa = float(input(' Enter the CGPA of student: '))\n",
    "    student.append(srn)\n",
    "    student.append(name)\n",
    "    student.append(cpga)\n",
    "    i=i+1\n",
    "print(student)    "
   ]
  },
  {
   "cell_type": "code",
   "execution_count": 47,
   "id": "ed357e01-f2af-4dc1-b54d-38ca0c2ad8a8",
   "metadata": {},
   "outputs": [
    {
     "name": "stdout",
     "output_type": "stream",
     "text": [
      "89\n",
      "12\n",
      "34\n",
      "python\n"
     ]
    }
   ],
   "source": [
    "i=0\n",
    "while i<len(L3):\n",
    "    print(L3[i])\n",
    "    i=i+1"
   ]
  },
  {
   "cell_type": "code",
   "execution_count": null,
   "id": "8e43cb9c-61a2-4936-86c8-37164c978d7f",
   "metadata": {},
   "outputs": [],
   "source": [
    "# Functions on list"
   ]
  },
  {
   "cell_type": "code",
   "execution_count": 49,
   "id": "dbe893ff-d881-4f73-a2ce-98675e755b30",
   "metadata": {},
   "outputs": [
    {
     "name": "stdout",
     "output_type": "stream",
     "text": [
      "92\n"
     ]
    }
   ],
   "source": [
    "lst = [20,45,67,8,92]\n",
    "print(max(lst))"
   ]
  },
  {
   "cell_type": "code",
   "execution_count": 51,
   "id": "34e19f95-d0b6-4f6c-bb23-f730a9c67cbc",
   "metadata": {},
   "outputs": [
    {
     "name": "stdout",
     "output_type": "stream",
     "text": [
      "8\n"
     ]
    }
   ],
   "source": [
    "print(min(lst))"
   ]
  },
  {
   "cell_type": "code",
   "execution_count": 53,
   "id": "26d62790-2133-4105-9630-a36dc447f8c1",
   "metadata": {},
   "outputs": [
    {
     "name": "stdout",
     "output_type": "stream",
     "text": [
      "232\n"
     ]
    }
   ],
   "source": [
    "print(sum(lst))"
   ]
  },
  {
   "cell_type": "code",
   "execution_count": 55,
   "id": "f6d82da9-4c28-42a2-899a-e259fc3af048",
   "metadata": {},
   "outputs": [
    {
     "name": "stdout",
     "output_type": "stream",
     "text": [
      "5\n"
     ]
    }
   ],
   "source": [
    "print(len(lst))"
   ]
  },
  {
   "cell_type": "code",
   "execution_count": 57,
   "id": "98898f4e-8458-47fe-aa91-0ab4db095700",
   "metadata": {},
   "outputs": [
    {
     "name": "stdout",
     "output_type": "stream",
     "text": [
      "50\n"
     ]
    }
   ],
   "source": [
    "lst3 = ['r','bl','a']\n",
    "print(max(lst1))"
   ]
  },
  {
   "cell_type": "code",
   "execution_count": 59,
   "id": "40953b1d-0a2e-44f1-9a7a-104144f92ffc",
   "metadata": {},
   "outputs": [
    {
     "ename": "TypeError",
     "evalue": "'>' not supported between instances of 'str' and 'int'",
     "output_type": "error",
     "traceback": [
      "\u001b[1;31m---------------------------------------------------------------------------\u001b[0m",
      "\u001b[1;31mTypeError\u001b[0m                                 Traceback (most recent call last)",
      "Cell \u001b[1;32mIn[59], line 2\u001b[0m\n\u001b[0;32m      1\u001b[0m lst4 \u001b[38;5;241m=\u001b[39m [\u001b[38;5;241m12\u001b[39m,\u001b[38;5;124m'\u001b[39m\u001b[38;5;124ma\u001b[39m\u001b[38;5;124m'\u001b[39m]\n\u001b[1;32m----> 2\u001b[0m \u001b[38;5;28mprint\u001b[39m(\u001b[38;5;28mmax\u001b[39m(lst4))\n",
      "\u001b[1;31mTypeError\u001b[0m: '>' not supported between instances of 'str' and 'int'"
     ]
    }
   ],
   "source": [
    "lst4 = [12,'a']\n",
    "print(max(lst4))"
   ]
  },
  {
   "cell_type": "code",
   "execution_count": 61,
   "id": "b8065040-0294-404b-ab10-81a33196f18a",
   "metadata": {},
   "outputs": [
    {
     "ename": "TypeError",
     "evalue": "'>' not supported between instances of 'list' and 'int'",
     "output_type": "error",
     "traceback": [
      "\u001b[1;31m---------------------------------------------------------------------------\u001b[0m",
      "\u001b[1;31mTypeError\u001b[0m                                 Traceback (most recent call last)",
      "Cell \u001b[1;32mIn[61], line 2\u001b[0m\n\u001b[0;32m      1\u001b[0m lst5 \u001b[38;5;241m=\u001b[39m [\u001b[38;5;241m1\u001b[39m,\u001b[38;5;241m2\u001b[39m,[\u001b[38;5;241m3\u001b[39m,\u001b[38;5;241m4\u001b[39m,\u001b[38;5;241m5\u001b[39m]]\n\u001b[1;32m----> 2\u001b[0m \u001b[38;5;28mprint\u001b[39m(\u001b[38;5;28mmax\u001b[39m(lst5))\n",
      "\u001b[1;31mTypeError\u001b[0m: '>' not supported between instances of 'list' and 'int'"
     ]
    }
   ],
   "source": [
    "lst5 = [1,2,[3,4,5]]\n",
    "print(max(lst5))"
   ]
  },
  {
   "cell_type": "code",
   "execution_count": 63,
   "id": "f051c2a7-d767-4743-a831-a193a437a765",
   "metadata": {},
   "outputs": [
    {
     "name": "stdout",
     "output_type": "stream",
     "text": [
      "5\n"
     ]
    }
   ],
   "source": [
    "print(max(lst5[2]))"
   ]
  },
  {
   "cell_type": "code",
   "execution_count": null,
   "id": "fa14b84b-a9ae-47af-8e66-676fd16b9cf6",
   "metadata": {},
   "outputs": [],
   "source": []
  }
 ],
 "metadata": {
  "kernelspec": {
   "display_name": "Python 3 (ipykernel)",
   "language": "python",
   "name": "python3"
  },
  "language_info": {
   "codemirror_mode": {
    "name": "ipython",
    "version": 3
   },
   "file_extension": ".py",
   "mimetype": "text/x-python",
   "name": "python",
   "nbconvert_exporter": "python",
   "pygments_lexer": "ipython3",
   "version": "3.12.4"
  }
 },
 "nbformat": 4,
 "nbformat_minor": 5
}
