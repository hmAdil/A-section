{
 "cells": [
  {
   "cell_type": "code",
   "execution_count": 35,
   "id": "a5a41b8e-cae0-4259-ba0c-c586af3a28a8",
   "metadata": {},
   "outputs": [
    {
     "name": "stdout",
     "output_type": "stream",
     "text": [
      "<class 'list'>\n",
      "<class 'list'>\n"
     ]
    }
   ],
   "source": [
    "# creation of list\n",
    "a = []   # empty list\n",
    "print(type(a))\n",
    "b = list()\n",
    "print(type(a))"
   ]
  },
  {
   "cell_type": "code",
   "execution_count": 36,
   "id": "a4a0b3d1-cb84-4bdb-9a1e-0c54918aacb8",
   "metadata": {},
   "outputs": [
    {
     "name": "stdout",
     "output_type": "stream",
     "text": [
      "[10, 20, 30, 40, 50]\n",
      "['blue', 'red', 'green', 'orange']\n"
     ]
    }
   ],
   "source": [
    "list1 = [10,20,30,40,50]   # homogeneous list\n",
    "print(list1)\n",
    "color = ['blue','red','green','orange']\n",
    "print(color)"
   ]
  },
  {
   "cell_type": "code",
   "execution_count": 37,
   "id": "e0f3ee6b-fbcc-420d-b2ee-98135a514818",
   "metadata": {},
   "outputs": [
    {
     "name": "stdout",
     "output_type": "stream",
     "text": [
      "[1, 'Ram', 78.15, True, 1]\n"
     ]
    }
   ],
   "source": [
    "student = [1,'Ram',78.15,True,1]   # heterogeneous list\n",
    "print(student)"
   ]
  },
  {
   "cell_type": "code",
   "execution_count": 38,
   "id": "c19958e3-204a-476e-998e-4fb5d834ada4",
   "metadata": {},
   "outputs": [
    {
     "name": "stdout",
     "output_type": "stream",
     "text": [
      "10\n",
      "[6, 'a', 8.9]\n",
      "[10, 10, [6, 'a', 8.9], 40]\n"
     ]
    }
   ],
   "source": [
    "# nested list or list in list\n",
    "list2 = [10,20,[6,'a',8.9],40]\n",
    "\n",
    "# mutable -> change on element in list\n",
    "print(list2[0])\n",
    "print(list2[2])\n",
    "list2[1] = 10\n",
    "print(list2)"
   ]
  },
  {
   "cell_type": "code",
   "execution_count": 39,
   "id": "6e3b4b84-6243-410d-b1a4-2cb96130a3a1",
   "metadata": {},
   "outputs": [
    {
     "name": "stdout",
     "output_type": "stream",
     "text": [
      "[10, 10, [6, 'a', 8.9], 'x']\n"
     ]
    }
   ],
   "source": [
    "list2[3] = 'x'\n",
    "print(list2)"
   ]
  },
  {
   "cell_type": "code",
   "execution_count": 40,
   "id": "336d0e98-cd7e-4c60-bcd1-f2258bf3c663",
   "metadata": {},
   "outputs": [
    {
     "name": "stdout",
     "output_type": "stream",
     "text": [
      "2153090658880\n",
      "2153090658880\n"
     ]
    }
   ],
   "source": [
    "# assignment\n",
    "list3 = list1\n",
    "print(id(list3))\n",
    "print(id(list1))\n"
   ]
  },
  {
   "cell_type": "code",
   "execution_count": 41,
   "id": "26114bc6-8405-475f-b9e0-a8f73abba057",
   "metadata": {},
   "outputs": [
    {
     "name": "stdout",
     "output_type": "stream",
     "text": [
      "2153090659712\n",
      "2153090155840\n"
     ]
    }
   ],
   "source": [
    "# slicing\n",
    "# slice operation create new sublist\n",
    "# slice start:stop:step\n",
    "\n",
    "list4 = list2[:]\n",
    "print(id(list4))\n",
    "print(id(list2))"
   ]
  },
  {
   "cell_type": "code",
   "execution_count": 42,
   "id": "54b2e3ff-99cd-4648-9939-7f40c2d265e8",
   "metadata": {},
   "outputs": [
    {
     "name": "stdout",
     "output_type": "stream",
     "text": [
      "[2, 3, 4, 5, 6]\n",
      "[1, 2, 3]\n",
      "[2, 3, 4]\n",
      "[1, 3, 5]\n"
     ]
    }
   ],
   "source": [
    "L = [1,2,3,4,5,6]\n",
    "# : -> simple slice; :: -> double slice\n",
    "print(L[1:])\n",
    "print(L[:3])\n",
    "print(L[1:4])\n",
    "print(L[0:5:2])"
   ]
  },
  {
   "cell_type": "code",
   "execution_count": 43,
   "id": "2126cbc1-b204-46b1-b592-2abb4e3ae58d",
   "metadata": {},
   "outputs": [
    {
     "name": "stdout",
     "output_type": "stream",
     "text": [
      "[6, 4]\n",
      "[6, 5, 4, 3, 2, 1]\n"
     ]
    }
   ],
   "source": [
    "print(L[5:1:-2])\n",
    "print(L[::-1])"
   ]
  },
  {
   "cell_type": "code",
   "execution_count": 44,
   "id": "b601a190-7036-452b-ab11-39e8e5fad50f",
   "metadata": {},
   "outputs": [
    {
     "name": "stdout",
     "output_type": "stream",
     "text": [
      "2153083242688\n",
      "2153082852224\n"
     ]
    }
   ],
   "source": [
    "L1 = L[:]\n",
    "print(id(L))\n",
    "print(id(L1))"
   ]
  },
  {
   "cell_type": "code",
   "execution_count": 45,
   "id": "69d96d5e-f43f-4074-af95-b30a7a8999db",
   "metadata": {},
   "outputs": [
    {
     "name": "stdout",
     "output_type": "stream",
     "text": [
      "a\n",
      "[76, 5.6]\n"
     ]
    }
   ],
   "source": [
    "L2 = [10,23,45,['a',76,5.6],90]\n",
    "print(L2[3][0])\n",
    "print(L2[3][1:3])"
   ]
  },
  {
   "cell_type": "code",
   "execution_count": 46,
   "id": "50d73a1d-cb7a-4071-84fe-fd26a45ceb7a",
   "metadata": {},
   "outputs": [
    {
     "name": "stdout",
     "output_type": "stream",
     "text": [
      "89 12 34 python \n",
      "10 20 [2, 4, 5] 90 \n",
      "0 89\n",
      "1 12\n",
      "2 34\n",
      "3 python\n",
      "\n",
      "0 10\n",
      "1 20\n",
      "2 [2, 4, 5]\n",
      "3 90\n",
      "\n",
      "0 2\n",
      "1 4\n",
      "2 5\n"
     ]
    }
   ],
   "source": [
    "# traverse a list\n",
    "# literable and index\n",
    "L3 = [89,12,34,'python']\n",
    "for i in L3:  # list is literable\n",
    "    print(i,end=' ')\n",
    "print()\n",
    "L4 = [10,20,[2,4,5],90]\n",
    "for i in L4:\n",
    "    print(i,end=' ')\n",
    "print()    \n",
    "\n",
    "# using list\n",
    "for i in range(len(L3)):\n",
    "    print(i,L3[i])\n",
    "print()\n",
    "for i in range(len(L4)):\n",
    "    print(i,L4[i])\n",
    "print()\n",
    "for i in range(len(L4[2])):\n",
    "    print(i,L4[2][i])"
   ]
  },
  {
   "cell_type": "code",
   "execution_count": 47,
   "id": "f1bce969-6011-4ced-a21a-eedaeb7da562",
   "metadata": {},
   "outputs": [
    {
     "ename": "ValueError",
     "evalue": "invalid literal for int() with base 10: 'eee'",
     "output_type": "error",
     "traceback": [
      "\u001b[1;31m---------------------------------------------------------------------------\u001b[0m",
      "\u001b[1;31mValueError\u001b[0m                                Traceback (most recent call last)",
      "Cell \u001b[1;32mIn[47], line 7\u001b[0m\n\u001b[0;32m      5\u001b[0m student \u001b[38;5;241m=\u001b[39m []\n\u001b[0;32m      6\u001b[0m \u001b[38;5;28;01mwhile\u001b[39;00m i \u001b[38;5;241m<\u001b[39m n:\n\u001b[1;32m----> 7\u001b[0m     SRN \u001b[38;5;241m=\u001b[39m \u001b[38;5;28;43mint\u001b[39;49m\u001b[43m(\u001b[49m\u001b[38;5;28;43minput\u001b[39;49m\u001b[43m(\u001b[49m\u001b[38;5;124;43m'\u001b[39;49m\u001b[38;5;124;43mEnter SRN\u001b[39;49m\u001b[38;5;124;43m'\u001b[39;49m\u001b[43m)\u001b[49m\u001b[43m)\u001b[49m\n\u001b[0;32m      8\u001b[0m     name \u001b[38;5;241m=\u001b[39m \u001b[38;5;28mint\u001b[39m(\u001b[38;5;28minput\u001b[39m(\u001b[38;5;124m'\u001b[39m\u001b[38;5;124mEnter name\u001b[39m\u001b[38;5;124m'\u001b[39m))\n\u001b[0;32m      9\u001b[0m     CGPA \u001b[38;5;241m=\u001b[39m \u001b[38;5;28mfloat\u001b[39m(\u001b[38;5;28minput\u001b[39m(\u001b[38;5;124m'\u001b[39m\u001b[38;5;124mEnter CGPA\u001b[39m\u001b[38;5;124m'\u001b[39m))\n",
      "\u001b[1;31mValueError\u001b[0m: invalid literal for int() with base 10: 'eee'"
     ]
    }
   ],
   "source": [
    "# Create a list by taking user input\n",
    "# Write a program to create student list of n students\n",
    "n = int(input('Enter number of students'))\n",
    "i = 0\n",
    "student = []\n",
    "while i < n:\n",
    "    SRN = int(input('Enter SRN'))\n",
    "    name = int(input('Enter name'))\n",
    "    CGPA = float(input('Enter CGPA'))\n",
    "    student.append(SRN)\n",
    "    student.append(name)\n",
    "    student.append(CGPA)\n",
    "    i += 1\n",
    "print(student)    "
   ]
  },
  {
   "cell_type": "code",
   "execution_count": 48,
   "id": "2bd6754c-0888-4a44-904b-851737c9e596",
   "metadata": {},
   "outputs": [
    {
     "name": "stdout",
     "output_type": "stream",
     "text": [
      "92\n",
      "8\n",
      "5\n",
      "240\n"
     ]
    }
   ],
   "source": [
    "# functions on list\n",
    "list1 = [28,45,67,8,92]\n",
    "print(max(list1))\n",
    "print(min(list1))\n",
    "print(len(list1))\n",
    "print(sum(list1))"
   ]
  },
  {
   "cell_type": "code",
   "execution_count": 49,
   "id": "35a35256",
   "metadata": {},
   "outputs": [
    {
     "name": "stdout",
     "output_type": "stream",
     "text": [
      "[34, 89, 5, 'Python', 56]\n",
      "[12, [2, 3, 4, 'a'], 67]\n"
     ]
    }
   ],
   "source": [
    "# append, insert, pop, remove\n",
    "# append is used to insert an element to the end of the list\n",
    "\n",
    "lst4 = [34, 89, 5, 'Python']\n",
    "lst4.append(56)\n",
    "print(lst4)\n",
    "\n",
    "lst5 = [12, [2, 3, 4], 67]\n",
    "lst5[1].append('a')\n",
    "print(lst5)"
   ]
  },
  {
   "cell_type": "code",
   "execution_count": 53,
   "id": "2b3299a1",
   "metadata": {},
   "outputs": [
    {
     "name": "stdout",
     "output_type": "stream",
     "text": [
      "[34, 89, 67, 5, 'Python']\n",
      "[34, 89, 67, 5, 'Python', 31]\n"
     ]
    }
   ],
   "source": [
    "# insert function insert an element at index position\n",
    "# insert(index, val)\n",
    "\n",
    "lst4 = [34, 89, 5, 'Python']\n",
    "lst4.insert(2, 67)\n",
    "print(lst4)\n",
    "\n",
    "lst4.insert(5, 31)\n",
    "print(lst4)"
   ]
  },
  {
   "cell_type": "code",
   "execution_count": 54,
   "id": "9318eaa3",
   "metadata": {},
   "outputs": [
    {
     "name": "stdout",
     "output_type": "stream",
     "text": [
      "[34, 89, 5, 'Python', 31]\n",
      "[34, 5, 'Python', 31]\n"
     ]
    }
   ],
   "source": [
    "# pop(index) it removes element at index\n",
    "lst4.pop(2)\n",
    "print(lst4)\n",
    "\n",
    "# remove(val) removes val from list\n",
    "lst4.remove(89)\n",
    "print(lst4)"
   ]
  },
  {
   "cell_type": "code",
   "execution_count": 56,
   "id": "2512b5da",
   "metadata": {},
   "outputs": [
    {
     "name": "stdout",
     "output_type": "stream",
     "text": [
      "[1, 2, 3, 'a', 'b', 'c']\n",
      "[1, 2, 3, 1, 2, 3]\n"
     ]
    }
   ],
   "source": [
    "# Concatenation + and repition * operator on list\n",
    "l4 = [1, 2, 3]\n",
    "l5 = ['a', 'b', 'c']\n",
    "print(l4 + l5)\n",
    "print(l4 * 2)"
   ]
  },
  {
   "cell_type": "code",
   "execution_count": 58,
   "id": "5e8e82cc",
   "metadata": {},
   "outputs": [
    {
     "name": "stdout",
     "output_type": "stream",
     "text": [
      "[1, 2, 3, 6, 7, [6, 7], 6, 7]\n",
      "[1, 2, 3, 6, 7, [6, 7], 6, 7, [6, 7]]\n",
      "2\n",
      "0\n",
      "2\n"
     ]
    }
   ],
   "source": [
    "# extend which add sequence at end\n",
    "l4.extend([6, 7])\n",
    "print(l4)\n",
    "\n",
    "l4.append([6, 7])\n",
    "print(l4)\n",
    "\n",
    "# count(val)\n",
    "lst6 = [20, 20, 67, 8]\n",
    "print(lst6.count(20))\n",
    "print(lst6.count(9))\n",
    "print(l4.count(6))"
   ]
  }
 ],
 "metadata": {
  "kernelspec": {
   "display_name": "Python 3",
   "language": "python",
   "name": "python3"
  },
  "language_info": {
   "codemirror_mode": {
    "name": "ipython",
    "version": 3
   },
   "file_extension": ".py",
   "mimetype": "text/x-python",
   "name": "python",
   "nbconvert_exporter": "python",
   "pygments_lexer": "ipython3",
   "version": "3.12.7"
  }
 },
 "nbformat": 4,
 "nbformat_minor": 5
}
