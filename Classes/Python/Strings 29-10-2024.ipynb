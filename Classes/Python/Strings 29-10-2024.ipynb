{
 "cells": [
  {
   "cell_type": "code",
   "execution_count": 1,
   "id": "28da675a-27ab-44cc-b508-042996c41652",
   "metadata": {},
   "outputs": [
    {
     "name": "stdout",
     "output_type": "stream",
     "text": [
      "['__add__', '__class__', '__contains__', '__delattr__', '__dir__', '__doc__', '__eq__', '__format__', '__ge__', '__getattribute__', '__getitem__', '__getnewargs__', '__getstate__', '__gt__', '__hash__', '__init__', '__init_subclass__', '__iter__', '__le__', '__len__', '__lt__', '__mod__', '__mul__', '__ne__', '__new__', '__reduce__', '__reduce_ex__', '__repr__', '__rmod__', '__rmul__', '__setattr__', '__sizeof__', '__str__', '__subclasshook__', 'capitalize', 'casefold', 'center', 'count', 'encode', 'endswith', 'expandtabs', 'find', 'format', 'format_map', 'index', 'isalnum', 'isalpha', 'isascii', 'isdecimal', 'isdigit', 'isidentifier', 'islower', 'isnumeric', 'isprintable', 'isspace', 'istitle', 'isupper', 'join', 'ljust', 'lower', 'lstrip', 'maketrans', 'partition', 'removeprefix', 'removesuffix', 'replace', 'rfind', 'rindex', 'rjust', 'rpartition', 'rsplit', 'rstrip', 'split', 'splitlines', 'startswith', 'strip', 'swapcase', 'title', 'translate', 'upper', 'zfill']\n"
     ]
    }
   ],
   "source": [
    "print(dir(str))"
   ]
  },
  {
   "cell_type": "code",
   "execution_count": 4,
   "id": "a6312f05-0237-41dc-ae7d-845735113dae",
   "metadata": {},
   "outputs": [
    {
     "data": {
      "text/plain": [
       "('python', 'python', 'python')"
      ]
     },
     "execution_count": 4,
     "metadata": {},
     "output_type": "execute_result"
    }
   ],
   "source": [
    "str1=\"python\"\n",
    "str2='pyton'\n",
    "str3=\"\"\"python\"\"\"\n",
    "str1, str2, str3"
   ]
  },
  {
   "cell_type": "code",
   "execution_count": 5,
   "id": "78d5e7be-e322-40f5-8bd6-5c8572df541b",
   "metadata": {},
   "outputs": [
    {
     "ename": "SyntaxError",
     "evalue": "invalid syntax (2584592405.py, line 1)",
     "output_type": "error",
     "traceback": [
      "\u001b[1;36m  Cell \u001b[1;32mIn[5], line 1\u001b[1;36m\u001b[0m\n\u001b[1;33m    str4 = \"\"python\"\"\u001b[0m\n\u001b[1;37m             ^\u001b[0m\n\u001b[1;31mSyntaxError\u001b[0m\u001b[1;31m:\u001b[0m invalid syntax\n"
     ]
    }
   ],
   "source": [
    "str4 = \"\"python\"\""
   ]
  },
  {
   "cell_type": "code",
   "execution_count": 7,
   "id": "b992f909-b16e-4ad3-84ee-f02e00b4c4f9",
   "metadata": {},
   "outputs": [
    {
     "ename": "TypeError",
     "evalue": "'str' object does not support item assignment",
     "output_type": "error",
     "traceback": [
      "\u001b[1;31m---------------------------------------------------------------------------\u001b[0m",
      "\u001b[1;31mTypeError\u001b[0m                                 Traceback (most recent call last)",
      "Cell \u001b[1;32mIn[7], line 1\u001b[0m\n\u001b[1;32m----> 1\u001b[0m s1\u001b[38;5;241m=\u001b[39m\u001b[38;5;124m'\u001b[39m\u001b[38;5;124mwelcome\u001b[39m\u001b[38;5;124m'\u001b[39m; s1[\u001b[38;5;241m3\u001b[39m]\u001b[38;5;241m=\u001b[39m\u001b[38;5;124m'\u001b[39m\u001b[38;5;124mt\u001b[39m\u001b[38;5;124m'\u001b[39m\n",
      "\u001b[1;31mTypeError\u001b[0m: 'str' object does not support item assignment"
     ]
    }
   ],
   "source": [
    "s1='welcome'; s1[3]='t' #we know that strings are immutable, tho iterable, and indexable aswell."
   ]
  },
  {
   "cell_type": "code",
   "execution_count": 13,
   "id": "a28ae2c0-1c70-45db-85b1-e363c795e7ce",
   "metadata": {},
   "outputs": [
    {
     "name": "stdout",
     "output_type": "stream",
     "text": [
      "w e l c o m e \n",
      "w e l c o m e \n"
     ]
    }
   ],
   "source": [
    "for i in s1:\n",
    "    print(i,end=' ')\n",
    "print()\n",
    "\n",
    "#-----------OR-----------#\n",
    "\n",
    "for i in range(len(s1)):\n",
    "    print(s1[i],end=' ')\n",
    "print()"
   ]
  },
  {
   "cell_type": "code",
   "execution_count": 17,
   "id": "d62ab297-ebbd-4777-8fea-3eb64b771bc9",
   "metadata": {},
   "outputs": [
    {
     "name": "stdout",
     "output_type": "stream",
     "text": [
      "1. 7 \t 2. w \t 3. c \t 4. 2 \t 5. 1\n"
     ]
    }
   ],
   "source": [
    "print(\"1.\",len(s1),'\\t','2.',max(s1),'\\t','3.',min(s1),'\\t','4.',s1.index('l'),'\\t','5.',s1.count('o'))"
   ]
  },
  {
   "cell_type": "code",
   "execution_count": 25,
   "id": "e68b2a8d-f304-4b78-bb74-c8ee9f693346",
   "metadata": {},
   "outputs": [
    {
     "name": "stdout",
     "output_type": "stream",
     "text": [
      "welcome to python class\n",
      "welcome  to python class\n",
      "welcomewelcome\n",
      "welcome to python class\n",
      "1966745338672\n",
      "1966745338672\n",
      "True\n",
      "True\n"
     ]
    }
   ],
   "source": [
    "s2=' to python class'\n",
    "print(s1+s2)\n",
    "print(s1,s2)\n",
    "print(s1*2)\n",
    "s3=s1+s2 ; print(s3)\n",
    "s4 = s3[::]\n",
    "print(id(s4))\n",
    "print(id(s3))\n",
    "print('p' in s3) ; print('z' not in s3)"
   ]
  },
  {
   "cell_type": "code",
   "execution_count": 27,
   "id": "ae3c8583-f9d8-42d4-aff8-982236029de2",
   "metadata": {},
   "outputs": [
    {
     "name": "stdout",
     "output_type": "stream",
     "text": [
      "welcome to python class\n",
      "welcome to python class\n",
      "elcome t\n",
      "acnhy teo\n",
      "lmtph a\n"
     ]
    }
   ],
   "source": [
    "print(s3[0:])\n",
    "print(s3[:23])\n",
    "print(s3[1:9])\n",
    "print(s3[20:2:-2])\n",
    "print(s3[2:21:3])"
   ]
  },
  {
   "cell_type": "code",
   "execution_count": 28,
   "id": "f16cecae-8c49-445c-af38-ab2c8d6b9715",
   "metadata": {},
   "outputs": [
    {
     "name": "stdout",
     "output_type": "stream",
     "text": [
      "True\n",
      "True\n",
      "True\n"
     ]
    }
   ],
   "source": [
    "s=\"WhatsApp\"\n",
    "print(s.startswith('s',-4,-2))\n",
    "print(s.startswith('App',5,8))\n",
    "print(s.startswith('App',5,9))\n"
   ]
  },
  {
   "cell_type": "code",
   "execution_count": 30,
   "id": "69675ad3-eb6f-4930-a2b4-128c498568f4",
   "metadata": {},
   "outputs": [
    {
     "name": "stdout",
     "output_type": "stream",
     "text": [
      "welcome to python class\n",
      "True\n",
      "True\n",
      "True\n",
      "False\n",
      "True\n",
      "False\n",
      "False\n"
     ]
    }
   ],
   "source": [
    "print(s3)\n",
    "print(s3.startswith(\"w\"))\n",
    "print(s3.startswith(\"e\",6))\n",
    "print(s3.startswith(\"t\",8,14))\n",
    "print(s3.startswith(\"t\",9,14))\n",
    "print(s3.startswith(\"c\",-5))\n",
    "print(s3.startswith(\"c\",-2,-11))\n",
    "print(s3.startswith(\"c\",-5,-11))"
   ]
  },
  {
   "cell_type": "code",
   "execution_count": 4,
   "id": "18e81de3-bee8-492d-b3d8-7c2aaf532476",
   "metadata": {},
   "outputs": [
    {
     "name": "stdout",
     "output_type": "stream",
     "text": [
      "True\n",
      "True\n",
      "False\n",
      "True\n",
      "2\n",
      "4\n",
      "5\n",
      "-1\n",
      "-1\n",
      "welcome\n",
      "welcome\n",
      "       welcome\n",
      "python\n",
      "python##\n",
      "##python\n",
      "mad\n",
      "mada\n",
      "mad\n",
      "mad\n",
      "\n",
      "whbtsbpp\n",
      "whbtsapp\n",
      "whbtsbpp\n",
      "whatsapp\n",
      "whbsapp\n",
      "whbsapp\n",
      "xabcyabcz\n",
      "axyzbxyzc\n",
      "Welcome To Pes\n",
      "Welcome to pes\n",
      "p#@y#@t#@h#@o#@n\n",
      "#python@\n",
      "['good', 'book', 'good', 'read', 'good', 'sleep']\n",
      "['g', '', 'd b', '', 'k g', '', 'd read g', '', 'd sleep']\n",
      "['g', 'od book good read good sleep']\n",
      "['g', '', 'd book good read good sleep']\n",
      "['good book good read good sleep']\n",
      "True\n",
      "False\n",
      "False\n",
      "chocolate           \n",
      "           chocolate\n",
      "chocolate###########\n",
      "###########chocolate\n",
      "     chocolate      \n",
      "00000000000chocolate\n",
      "True\n",
      "False\n",
      "True\n",
      "True\n"
     ]
    }
   ],
   "source": [
    "str2=\"welcome\"\n",
    "#print(str2[-4:-6])\n",
    "print(str2.endswith(\"e\"))\n",
    "print(str2.endswith(\"me\"))\n",
    "print(str2.endswith(\"em\"))\n",
    "print(str2.endswith(\"o\",1,5))\n",
    "\n",
    "str3=\"chocolate\"\n",
    "print(str3.find(\"o\"))\n",
    "print(str3.rfind(\"o\"))\n",
    "print(str3.find(\"l\",3,7))\n",
    "print(str3.find(\"l\",1,5))\n",
    "print(str3.find(\"z\",2,6))\n",
    "\n",
    "str1=\"       welcome\"\n",
    "print(str1.strip())\n",
    "print(str1.lstrip())\n",
    "print(str1.rstrip())#only removes extra spaces from right only and if spaces are there in left it won't remove and also it does not give any error\n",
    "\n",
    "str2=\"##python##\"\n",
    "print(str2.strip('#'))\n",
    "print(str2.lstrip('#'))\n",
    "print(str2.rstrip('#'))#if not mentioned by default it will work with space not with ur symbol\n",
    "\n",
    "\n",
    "str3=\"madam\"\n",
    "print(str3.rstrip(\"am\"))\n",
    "print(str3.rstrip(\"m\"))\n",
    "print(str3.rstrip(\"maz\"))\n",
    "print(str3.rstrip(\"mjaz\"))\n",
    "\n",
    "\n",
    "str4=\"mam\"\n",
    "print(str4.rstrip(\"ma\"))\n",
    "\n",
    "s5=\"whatsapp\"\n",
    "print(s5.replace(\"a\",\"b\"))\n",
    "print(s5.replace('a','b',1))\n",
    "print(s5.replace('a','b',2))\n",
    "print(s5.replace('a','b',0))  #here number refers to occurence of character not the index\n",
    "print(s5.replace('at','b',1))\n",
    "print(s5.replace('at','b',2))\n",
    "\n",
    "#join syntax---->seperator.join(iterable)\n",
    "s1=\"abc\"\n",
    "s2=\"xyz\"\n",
    "print(s1.join(s2))\n",
    "print(s2.join(s1))\n",
    "\n",
    "s6='welcome to pes'\n",
    "print(s6.title())\n",
    "print(s6.capitalize())\n",
    "\n",
    "\n",
    "s='#@'\n",
    "s1='python'\n",
    "print(s.join(s1))\n",
    "print(s1.join(s))\n",
    "\n",
    "\n",
    "s='good book good read good sleep'\n",
    "print(s.split())\n",
    "print(s.split('o'))   #return the value as list\n",
    "print(s.split('o',1))\n",
    "print(s.split('o',2))\n",
    "print(s.split('oa'))\n",
    "\n",
    "\n",
    "s=' '\n",
    "s1=\"python\"\n",
    "s2='welcome python'\n",
    "print(s.isspace())\n",
    "print(s1.isspace())\n",
    "print(s2.isspace())\n",
    "\n",
    "s=\"chocolate\"\n",
    "print(s.ljust(20))\n",
    "print(s.rjust(20))\n",
    "print(s.ljust(20,\"#\"))\n",
    "print(s.rjust(20,\"#\"))\n",
    "\n",
    "#centre\n",
    "print(s.center(20))#left side less spaces and right more spaces if the number of spaces or any  symbol is not \n",
    "print(s.zfill(20))#fills 0 on left\n",
    "a=\"123\"\n",
    "print(a.isnumeric())\n",
    "b=\"123s\"\n",
    "print(b.isnumeric())\n",
    "print(a.isdigit())\n",
    "c=\"abc\"\n",
    "print(c.isalpha())\n",
    "\n",
    "#try at our home encode(),decode(),maketrans(),translate(),partition()"
   ]
  },
  {
   "cell_type": "code",
   "execution_count": null,
   "id": "87a23a4f-9c13-423a-9d7f-b9e43599a03f",
   "metadata": {},
   "outputs": [],
   "source": []
  }
 ],
 "metadata": {
  "kernelspec": {
   "display_name": "Python 3 (ipykernel)",
   "language": "python",
   "name": "python3"
  },
  "language_info": {
   "codemirror_mode": {
    "name": "ipython",
    "version": 3
   },
   "file_extension": ".py",
   "mimetype": "text/x-python",
   "name": "python",
   "nbconvert_exporter": "python",
   "pygments_lexer": "ipython3",
   "version": "3.12.7"
  }
 },
 "nbformat": 4,
 "nbformat_minor": 5
}
