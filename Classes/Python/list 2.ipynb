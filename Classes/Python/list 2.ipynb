{
 "cells": [
  {
   "cell_type": "code",
   "execution_count": 14,
   "id": "0c34996b-88af-4296-aa35-2cb28bd8f156",
   "metadata": {},
   "outputs": [],
   "source": [
    "# Traverse a list\n",
    "# iterable and index"
   ]
  },
  {
   "cell_type": "code",
   "execution_count": 16,
   "id": "7181093c-da0b-4d00-8721-e121bc9aecda",
   "metadata": {},
   "outputs": [
    {
     "name": "stdout",
     "output_type": "stream",
     "text": [
      "89 12 34 python "
     ]
    }
   ],
   "source": [
    "L3 = [89,12,34,'python']\n",
    "for i in L3:\n",
    "    print(i, end=\" \")"
   ]
  },
  {
   "cell_type": "code",
   "execution_count": 18,
   "id": "69b469d4-856e-4e95-a08f-20ec73081c41",
   "metadata": {},
   "outputs": [
    {
     "name": "stdout",
     "output_type": "stream",
     "text": [
      "89 12 34 python \n",
      "10 20 [2, 4, 5] 98 "
     ]
    }
   ],
   "source": [
    "L3 = [89,12,34,'python']\n",
    "for i in L3:\n",
    "    print(i, end=\" \")\n",
    "print()\n",
    "L4 = [10,20,[2,4,5],98]\n",
    "for i in L4:\n",
    "    print(i,end=\" \")"
   ]
  },
  {
   "cell_type": "code",
   "execution_count": 20,
   "id": "d871284e-9c44-4e5f-83c2-0325bb02bd42",
   "metadata": {},
   "outputs": [],
   "source": [
    "# using index"
   ]
  },
  {
   "cell_type": "code",
   "execution_count": 22,
   "id": "ab1c88a4-d700-43c1-84bf-39f8cd33107b",
   "metadata": {},
   "outputs": [
    {
     "name": "stdout",
     "output_type": "stream",
     "text": [
      "0 89\n",
      "1 12\n",
      "2 34\n",
      "3 python\n"
     ]
    }
   ],
   "source": [
    "for i in range(len(L3)):\n",
    "    print(i,L3[i])"
   ]
  },
  {
   "cell_type": "code",
   "execution_count": 4,
   "id": "0bb17ab7-33aa-42ad-96dc-c9c320167db4",
   "metadata": {},
   "outputs": [
    {
     "name": "stdout",
     "output_type": "stream",
     "text": [
      "0 10\n",
      "1 20\n",
      "2 [2, 4, 5]\n",
      "3 98\n"
     ]
    }
   ],
   "source": [
    "L4 = [10,20,[2,4,5],98]\n",
    "for i in range(len(L4)):\n",
    "    print(i,L4[i])"
   ]
  },
  {
   "cell_type": "code",
   "execution_count": 6,
   "id": "f408dc9e-6cb3-4996-aade-5fdd556a470a",
   "metadata": {},
   "outputs": [
    {
     "name": "stdout",
     "output_type": "stream",
     "text": [
      "0 2\n",
      "1 4\n",
      "2 5\n"
     ]
    }
   ],
   "source": [
    "for i in range(len(L4[2])):\n",
    "    print(i,L4[2][i])"
   ]
  },
  {
   "cell_type": "code",
   "execution_count": 8,
   "id": "989d9269-489e-4c1e-a526-07f0a6d8674f",
   "metadata": {},
   "outputs": [
    {
     "name": "stdout",
     "output_type": "stream",
     "text": [
      "[1, 2]\n",
      "[3, 4]\n",
      "[5, 6]\n"
     ]
    }
   ],
   "source": [
    "L6 = [[1,2],[3,4],[5,6]]\n",
    "# Q2\n",
    "for i in L6:\n",
    "    print(i)"
   ]
  },
  {
   "cell_type": "code",
   "execution_count": 10,
   "id": "8a3b2de3-6d94-42e8-a9de-030b6b80e0d7",
   "metadata": {},
   "outputs": [
    {
     "name": "stdout",
     "output_type": "stream",
     "text": [
      "\n",
      "1 2 \n",
      "3 4 \n",
      "5 6 "
     ]
    }
   ],
   "source": [
    "# Q1\n",
    "for i in range(len(L6)):\n",
    "    print() # for adding a new line\n",
    "    for j in range(len(L6[i])):\n",
    "        print(L6[i][j], end=\" \")"
   ]
  },
  {
   "cell_type": "code",
   "execution_count": 12,
   "id": "7ba44710-660a-4a26-898e-17ab6bbbc8c4",
   "metadata": {},
   "outputs": [],
   "source": [
    "# create list by taking user input\n",
    "\n",
    "\n",
    "\n",
    "# WAP to create student list of n students, take input. Take input srn, name and cgpa"
   ]
  },
  {
   "cell_type": "code",
   "execution_count": 18,
   "id": "5975cc4c-0bb2-471b-9678-825b3f0fc9ef",
   "metadata": {},
   "outputs": [
    {
     "name": "stdin",
     "output_type": "stream",
     "text": [
      " Enter number of students:  1\n",
      " Enter the SRN:  045\n",
      " Enter name of student:  akshansh\n",
      " Enter the CGPA of student:  89\n"
     ]
    },
    {
     "ename": "NameError",
     "evalue": "name 'student' is not defined",
     "output_type": "error",
     "traceback": [
      "\u001b[1;31m---------------------------------------------------------------------------\u001b[0m",
      "\u001b[1;31mNameError\u001b[0m                                 Traceback (most recent call last)",
      "Cell \u001b[1;32mIn[18], line 8\u001b[0m\n\u001b[0;32m      6\u001b[0m name \u001b[38;5;241m=\u001b[39m (\u001b[38;5;28minput\u001b[39m(\u001b[38;5;124m'\u001b[39m\u001b[38;5;124m Enter name of student: \u001b[39m\u001b[38;5;124m'\u001b[39m))\n\u001b[0;32m      7\u001b[0m cgpa \u001b[38;5;241m=\u001b[39m \u001b[38;5;28mfloat\u001b[39m(\u001b[38;5;28minput\u001b[39m(\u001b[38;5;124m'\u001b[39m\u001b[38;5;124m Enter the CGPA of student: \u001b[39m\u001b[38;5;124m'\u001b[39m))\n\u001b[1;32m----> 8\u001b[0m student\u001b[38;5;241m.\u001b[39mappend(srn)\n\u001b[0;32m      9\u001b[0m student\u001b[38;5;241m.\u001b[39mappend(name)\n\u001b[0;32m     10\u001b[0m student\u001b[38;5;241m.\u001b[39mappend(cpga)\n",
      "\u001b[1;31mNameError\u001b[0m: name 'student' is not defined"
     ]
    }
   ],
   "source": [
    "n = int(input(' Enter number of students: '))\n",
    "i=0\n",
    "students = []\n",
    "while i<n:\n",
    "    srn = int(input(' Enter the SRN: '))\n",
    "    name = (input(' Enter name of student: '))\n",
    "    cgpa = float(input(' Enter the CGPA of student: '))\n",
    "    student.append(srn)\n",
    "    student.append(name)\n",
    "    student.append(cpga)\n",
    "    i=i+1\n",
    "print(student) "
   ]
  },
  {
   "cell_type": "code",
   "execution_count": 22,
   "id": "4aa52100-609e-41d4-8eb1-d56f548149b1",
   "metadata": {},
   "outputs": [
    {
     "name": "stdout",
     "output_type": "stream",
     "text": [
      "89\n",
      "12\n",
      "34\n",
      "python\n"
     ]
    }
   ],
   "source": [
    "L3 = [89,12,34,'python']\n",
    "i=0\n",
    "while i<len(L3):\n",
    "    print(L3[i])\n",
    "    i=i+1"
   ]
  },
  {
   "cell_type": "code",
   "execution_count": 24,
   "id": "bb8a2de0-a39a-47da-9bc8-22ff610e1363",
   "metadata": {},
   "outputs": [],
   "source": [
    "# Functions on list"
   ]
  },
  {
   "cell_type": "code",
   "execution_count": 26,
   "id": "82eb410b-6636-4ca6-a4be-a637954bb932",
   "metadata": {},
   "outputs": [
    {
     "name": "stdout",
     "output_type": "stream",
     "text": [
      "92\n"
     ]
    }
   ],
   "source": [
    "lst = [20,45,67,8,92]\n",
    "print(max(lst))"
   ]
  },
  {
   "cell_type": "code",
   "execution_count": 28,
   "id": "17647465-0302-4121-82eb-757c4f5a0b14",
   "metadata": {},
   "outputs": [
    {
     "name": "stdout",
     "output_type": "stream",
     "text": [
      "8\n"
     ]
    }
   ],
   "source": [
    "print(min(lst))"
   ]
  },
  {
   "cell_type": "code",
   "execution_count": 30,
   "id": "d9ea54eb-5866-49a1-8142-17bcac99ce39",
   "metadata": {},
   "outputs": [
    {
     "name": "stdout",
     "output_type": "stream",
     "text": [
      "232\n"
     ]
    }
   ],
   "source": [
    "print(sum(lst))"
   ]
  },
  {
   "cell_type": "code",
   "execution_count": 32,
   "id": "7bbdc59e-78e1-428d-a1a4-2f8d9c2b40e6",
   "metadata": {},
   "outputs": [
    {
     "name": "stdout",
     "output_type": "stream",
     "text": [
      "5\n"
     ]
    }
   ],
   "source": [
    "print(len(lst))"
   ]
  },
  {
   "cell_type": "code",
   "execution_count": 34,
   "id": "0a78484a-7715-48f8-bf2b-df8401a481cd",
   "metadata": {},
   "outputs": [
    {
     "ename": "NameError",
     "evalue": "name 'lst1' is not defined",
     "output_type": "error",
     "traceback": [
      "\u001b[1;31m---------------------------------------------------------------------------\u001b[0m",
      "\u001b[1;31mNameError\u001b[0m                                 Traceback (most recent call last)",
      "Cell \u001b[1;32mIn[34], line 2\u001b[0m\n\u001b[0;32m      1\u001b[0m lst3 \u001b[38;5;241m=\u001b[39m [\u001b[38;5;124m'\u001b[39m\u001b[38;5;124mr\u001b[39m\u001b[38;5;124m'\u001b[39m,\u001b[38;5;124m'\u001b[39m\u001b[38;5;124mbl\u001b[39m\u001b[38;5;124m'\u001b[39m,\u001b[38;5;124m'\u001b[39m\u001b[38;5;124ma\u001b[39m\u001b[38;5;124m'\u001b[39m]\n\u001b[1;32m----> 2\u001b[0m \u001b[38;5;28mprint\u001b[39m(\u001b[38;5;28mmax\u001b[39m(lst1))\n",
      "\u001b[1;31mNameError\u001b[0m: name 'lst1' is not defined"
     ]
    }
   ],
   "source": [
    "lst3 = ['r','bl','a']\n",
    "print(max(lst1))"
   ]
  },
  {
   "cell_type": "code",
   "execution_count": null,
   "id": "7b077e3e-a9a2-442a-825a-6798031cc7b8",
   "metadata": {},
   "outputs": [],
   "source": []
  }
 ],
 "metadata": {
  "kernelspec": {
   "display_name": "Python 3 (ipykernel)",
   "language": "python",
   "name": "python3"
  },
  "language_info": {
   "codemirror_mode": {
    "name": "ipython",
    "version": 3
   },
   "file_extension": ".py",
   "mimetype": "text/x-python",
   "name": "python",
   "nbconvert_exporter": "python",
   "pygments_lexer": "ipython3",
   "version": "3.12.4"
  }
 },
 "nbformat": 4,
 "nbformat_minor": 5
}
