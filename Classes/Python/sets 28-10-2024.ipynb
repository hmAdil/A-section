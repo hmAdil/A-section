{
 "cells": [
  {
   "cell_type": "code",
   "execution_count": 1,
   "id": "b54127f8-733e-4121-a115-034ca2443924",
   "metadata": {},
   "outputs": [
    {
     "data": {
      "text/plain": [
       "['__and__',\n",
       " '__class__',\n",
       " '__class_getitem__',\n",
       " '__contains__',\n",
       " '__delattr__',\n",
       " '__dir__',\n",
       " '__doc__',\n",
       " '__eq__',\n",
       " '__format__',\n",
       " '__ge__',\n",
       " '__getattribute__',\n",
       " '__getstate__',\n",
       " '__gt__',\n",
       " '__hash__',\n",
       " '__iand__',\n",
       " '__init__',\n",
       " '__init_subclass__',\n",
       " '__ior__',\n",
       " '__isub__',\n",
       " '__iter__',\n",
       " '__ixor__',\n",
       " '__le__',\n",
       " '__len__',\n",
       " '__lt__',\n",
       " '__ne__',\n",
       " '__new__',\n",
       " '__or__',\n",
       " '__rand__',\n",
       " '__reduce__',\n",
       " '__reduce_ex__',\n",
       " '__repr__',\n",
       " '__ror__',\n",
       " '__rsub__',\n",
       " '__rxor__',\n",
       " '__setattr__',\n",
       " '__sizeof__',\n",
       " '__str__',\n",
       " '__sub__',\n",
       " '__subclasshook__',\n",
       " '__xor__',\n",
       " 'add',\n",
       " 'clear',\n",
       " 'copy',\n",
       " 'difference',\n",
       " 'difference_update',\n",
       " 'discard',\n",
       " 'intersection',\n",
       " 'intersection_update',\n",
       " 'isdisjoint',\n",
       " 'issubset',\n",
       " 'issuperset',\n",
       " 'pop',\n",
       " 'remove',\n",
       " 'symmetric_difference',\n",
       " 'symmetric_difference_update',\n",
       " 'union',\n",
       " 'update']"
      ]
     },
     "execution_count": 1,
     "metadata": {},
     "output_type": "execute_result"
    }
   ],
   "source": [
    "#sets 28-10-2024\n",
    "#set elements are unique, set consists of only hashable objects\n",
    "#hashing is a mechanism to convert the given element into an integer\n",
    "'''An object is hashable if it has a has value which never\n",
    "changes during its lifetime (it needs a __hash__() method)'''\n",
    "#in set you cannot put list and dictionaries because they are an unhashable type.\n",
    "# so tuple is supposedly a hashable object so you can input tuple into a set\n",
    "# using add method its possible to add objects into set\n",
    "dir(set)"
   ]
  },
  {
   "cell_type": "code",
   "execution_count": 3,
   "id": "5a5213da-0891-4425-835c-5f41c0c4f549",
   "metadata": {},
   "outputs": [
    {
     "ename": "TypeError",
     "evalue": "unhashable type: 'dict'",
     "output_type": "error",
     "traceback": [
      "\u001b[1;31m---------------------------------------------------------------------------\u001b[0m",
      "\u001b[1;31mTypeError\u001b[0m                                 Traceback (most recent call last)",
      "Cell \u001b[1;32mIn[3], line 1\u001b[0m\n\u001b[1;32m----> 1\u001b[0m s6\u001b[38;5;241m=\u001b[39m{{\u001b[38;5;241m1\u001b[39m:\u001b[38;5;241m1\u001b[39m,\u001b[38;5;241m2\u001b[39m:\u001b[38;5;241m4\u001b[39m},\u001b[38;5;241m5\u001b[39m,\u001b[38;5;124m'\u001b[39m\u001b[38;5;124mhello\u001b[39m\u001b[38;5;124m'\u001b[39m}\n\u001b[0;32m      2\u001b[0m \u001b[38;5;28mprint\u001b[39m(s6)\n",
      "\u001b[1;31mTypeError\u001b[0m: unhashable type: 'dict'"
     ]
    }
   ],
   "source": [
    "s6={{1:1,2:4},5,'hello'}\n",
    "print(s6)"
   ]
  },
  {
   "cell_type": "code",
   "execution_count": 5,
   "id": "f54a0b48-2b4d-432d-8071-71ea84aa85b9",
   "metadata": {},
   "outputs": [
    {
     "ename": "TypeError",
     "evalue": "unhashable type: 'list'",
     "output_type": "error",
     "traceback": [
      "\u001b[1;31m---------------------------------------------------------------------------\u001b[0m",
      "\u001b[1;31mTypeError\u001b[0m                                 Traceback (most recent call last)",
      "Cell \u001b[1;32mIn[5], line 1\u001b[0m\n\u001b[1;32m----> 1\u001b[0m s5\u001b[38;5;241m=\u001b[39m{[\u001b[38;5;241m1\u001b[39m,\u001b[38;5;241m2\u001b[39m,\u001b[38;5;241m3\u001b[39m],\u001b[38;5;241m5\u001b[39m,\u001b[38;5;124m'\u001b[39m\u001b[38;5;124mhello\u001b[39m\u001b[38;5;124m'\u001b[39m}\n\u001b[0;32m      2\u001b[0m \u001b[38;5;28mprint\u001b[39m(s5)\n",
      "\u001b[1;31mTypeError\u001b[0m: unhashable type: 'list'"
     ]
    }
   ],
   "source": [
    "s5={[1,2,3],5,'hello'}\n",
    "print(s5)"
   ]
  },
  {
   "cell_type": "code",
   "execution_count": 6,
   "id": "d4ce58a7-f26e-45a4-b65b-8334b1169afb",
   "metadata": {},
   "outputs": [
    {
     "name": "stdout",
     "output_type": "stream",
     "text": [
      "{1, 2, 3, 4}\n",
      "{(754, 67), 4, 5, 6.2, 'hello'}\n"
     ]
    }
   ],
   "source": [
    "s4={'hello',4,5,6.2,(754,67)}\n",
    "s3={1,2,3,4}\n",
    "print(s3) ; print(s4)"
   ]
  },
  {
   "cell_type": "code",
   "execution_count": 11,
   "id": "2dfc1751-e3e8-4232-86aa-16ec48758557",
   "metadata": {},
   "outputs": [
    {
     "name": "stdout",
     "output_type": "stream",
     "text": [
      "set() <class 'set'> 1615576486560\n",
      "{} <class 'dict'> 1615560006208\n"
     ]
    }
   ],
   "source": [
    "s1=set() ; s2={}\n",
    "print(s1, type(s1), id(s1)) ; print(s2, type(s2), id(s2))"
   ]
  },
  {
   "cell_type": "code",
   "execution_count": 12,
   "id": "95d8cf67-4ddd-46f4-9292-dfc47595caae",
   "metadata": {},
   "outputs": [
    {
     "name": "stdout",
     "output_type": "stream",
     "text": [
      "4 56 1 125 [1, 23, 45, 56]\n"
     ]
    }
   ],
   "source": [
    "set1={23,45,1,56}\n",
    "print(len(set1), max(set1), min(set1), sum(set1), sorted(set1))"
   ]
  },
  {
   "cell_type": "code",
   "execution_count": 26,
   "id": "198bcb14-c93d-46a0-a2ac-9f6ba91d40f5",
   "metadata": {},
   "outputs": [
    {
     "name": "stdout",
     "output_type": "stream",
     "text": [
      "{34, 67, (3, 4, 5), 'hello', 89.5, 12}\n",
      "{1, 34, 67, 2, 3, 12, (3, 4, 5), 'hello', 89.5}\n"
     ]
    }
   ],
   "source": [
    "set2={12,34,'hello'}\n",
    "set3={(3,4,5),89.5,'hello',67}\n",
    "set4={1,2,3}\n",
    "print(set2.union(set3))\n",
    "print(set2.union(set3,set4))"
   ]
  },
  {
   "cell_type": "code",
   "execution_count": 19,
   "id": "56129ffc-3aaa-434a-9731-f38595c69150",
   "metadata": {},
   "outputs": [
    {
     "ename": "SyntaxError",
     "evalue": "invalid syntax. Perhaps you forgot a comma? (2103967494.py, line 3)",
     "output_type": "error",
     "traceback": [
      "\u001b[1;36m  Cell \u001b[1;32mIn[19], line 3\u001b[1;36m\u001b[0m\n\u001b[1;33m    print(set2 & set 3 & set4)\u001b[0m\n\u001b[1;37m          ^\u001b[0m\n\u001b[1;31mSyntaxError\u001b[0m\u001b[1;31m:\u001b[0m invalid syntax. Perhaps you forgot a comma?\n"
     ]
    }
   ],
   "source": [
    "#intersection &\n",
    "print(set2.intersection(set3))\n",
    "print(set2 & set 3 & set4)"
   ]
  },
  {
   "cell_type": "code",
   "execution_count": 22,
   "id": "c8a03847-5bd2-46b9-91c3-127e0e041525",
   "metadata": {},
   "outputs": [
    {
     "name": "stdout",
     "output_type": "stream",
     "text": [
      "{34, 12}\n"
     ]
    }
   ],
   "source": [
    "print(set2.difference(set3,set4))"
   ]
  },
  {
   "cell_type": "code",
   "execution_count": 24,
   "id": "5d3187e0-dd09-41a4-9d73-49c39113f480",
   "metadata": {},
   "outputs": [
    {
     "ename": "KeyError",
     "evalue": "'hello'",
     "output_type": "error",
     "traceback": [
      "\u001b[1;31m---------------------------------------------------------------------------\u001b[0m",
      "\u001b[1;31mKeyError\u001b[0m                                  Traceback (most recent call last)",
      "Cell \u001b[1;32mIn[24], line 1\u001b[0m\n\u001b[1;32m----> 1\u001b[0m \u001b[38;5;28mprint\u001b[39m(set2\u001b[38;5;241m.\u001b[39mremove(\u001b[38;5;124m'\u001b[39m\u001b[38;5;124mhello\u001b[39m\u001b[38;5;124m'\u001b[39m))\n\u001b[0;32m      2\u001b[0m set2\n",
      "\u001b[1;31mKeyError\u001b[0m: 'hello'"
     ]
    }
   ],
   "source": [
    "print(set2.remove('hello'))\n",
    "set2\n",
    "    "
   ]
  },
  {
   "cell_type": "code",
   "execution_count": 27,
   "id": "49e75211-ee2d-41d3-b76f-7d5dab89a8bc",
   "metadata": {},
   "outputs": [
    {
     "name": "stdout",
     "output_type": "stream",
     "text": [
      "{34, 12, 'hello'}\n"
     ]
    }
   ],
   "source": [
    "print(set2)"
   ]
  },
  {
   "cell_type": "code",
   "execution_count": 28,
   "id": "89617cb5-8539-4050-9d65-18a5d453452e",
   "metadata": {},
   "outputs": [
    {
     "name": "stdout",
     "output_type": "stream",
     "text": [
      "None\n"
     ]
    }
   ],
   "source": [
    "#remove and discard work as well\n",
    "#pop() removes an item in a set. Sets are unordered so a random item will be removed from the set.\n",
    "color1 = {'red','green','orange'}\n",
    "color2={'blue','red','purple'}\n",
    "print(color1.intersection_update(color2))"
   ]
  },
  {
   "cell_type": "code",
   "execution_count": 30,
   "id": "e523d59d-36df-45ea-aa53-5ab5f398e2a4",
   "metadata": {},
   "outputs": [
    {
     "data": {
      "text/plain": [
       "{'red'}"
      ]
     },
     "execution_count": 30,
     "metadata": {},
     "output_type": "execute_result"
    }
   ],
   "source": [
    "color1.intersection_update(color2)\n",
    "color1"
   ]
  },
  {
   "cell_type": "code",
   "execution_count": 31,
   "id": "cc05e936-64f3-423e-be88-138a1b5f9662",
   "metadata": {},
   "outputs": [
    {
     "data": {
      "text/plain": [
       "{'blue', 'purple', 'red'}"
      ]
     },
     "execution_count": 31,
     "metadata": {},
     "output_type": "execute_result"
    }
   ],
   "source": [
    "color1.update(color2)\n",
    "color1"
   ]
  },
  {
   "cell_type": "code",
   "execution_count": 32,
   "id": "59ad30d3-6d35-4b8f-a5ec-0c5c119edf88",
   "metadata": {},
   "outputs": [
    {
     "data": {
      "text/plain": [
       "{'blue', 'orange', 'pink', 'purple', 'red'}"
      ]
     },
     "execution_count": 32,
     "metadata": {},
     "output_type": "execute_result"
    }
   ],
   "source": [
    "color2.update(['orange','pink','purple'])\n",
    "color2"
   ]
  },
  {
   "cell_type": "code",
   "execution_count": null,
   "id": "ab6d729f-91a4-4bf2-b2bd-8de3ea2801c0",
   "metadata": {},
   "outputs": [],
   "source": [
    "s=set()\n",
    "n=int(input(\"Enter\"))"
   ]
  }
 ],
 "metadata": {
  "kernelspec": {
   "display_name": "Python 3 (ipykernel)",
   "language": "python",
   "name": "python3"
  },
  "language_info": {
   "codemirror_mode": {
    "name": "ipython",
    "version": 3
   },
   "file_extension": ".py",
   "mimetype": "text/x-python",
   "name": "python",
   "nbconvert_exporter": "python",
   "pygments_lexer": "ipython3",
   "version": "3.12.4"
  }
 },
 "nbformat": 4,
 "nbformat_minor": 5
}
