{
 "cells": [
  {
   "cell_type": "code",
   "execution_count": 1,
   "id": "96dda76e-75b5-4a39-b650-016381adf88d",
   "metadata": {},
   "outputs": [
    {
     "name": "stdin",
     "output_type": "stream",
     "text": [
      "Enter the year 2000\n"
     ]
    },
    {
     "name": "stdout",
     "output_type": "stream",
     "text": [
      "True\n"
     ]
    }
   ],
   "source": [
    "n=int(input(\"\"))\n",
    "if (n%4==0) and (n%400==0):\n",
    "    print(\"True\")\n",
    "else:\n",
    "    print(\"False\")"
   ]
  },
  {
   "cell_type": "code",
   "execution_count": 14,
   "id": "99fe016d-0fb5-445e-9c11-18cb98f0cf2f",
   "metadata": {},
   "outputs": [
    {
     "name": "stdin",
     "output_type": "stream",
     "text": [
      " 6\n",
      " 8\n"
     ]
    },
    {
     "name": "stdout",
     "output_type": "stream",
     "text": [
      "53 degrees\n"
     ]
    }
   ],
   "source": [
    "import math\n",
    "def find_angle_mbc(ab, bc):\n",
    "    ac = math.sqrt(ab**2 + bc**2) \n",
    "    tan_theta = bc/ab\n",
    "    theta_rad = math.atan(tan_theta) \n",
    "    theta_deg = math.degrees(theta_rad) \n",
    "    return round(theta_deg) \n",
    "ab=int(input()) \n",
    "bc=int(input()) \n",
    "angle_mbc = find_angle_mbc(ab, bc) \n",
    "print(f\"{angle_mbc} degrees\")"
   ]
  },
  {
   "cell_type": "code",
   "execution_count": 21,
   "id": "174cb4a0-e7cf-4453-bafc-9437e6c85df2",
   "metadata": {},
   "outputs": [
    {
     "name": "stdin",
     "output_type": "stream",
     "text": [
      " 1\n"
     ]
    },
    {
     "name": "stdout",
     "output_type": "stream",
     "text": [
      "a\n"
     ]
    }
   ],
   "source": [
    "def print_rangoli(size):\n",
    "    alphabet = 'abcdefghijklmnopqrstuvwxyz' \n",
    "    rows = [] \n",
    "    for i in range(size):\n",
    "        s = '-'.join(alphabet[size-1:i:-1] + alphabet[i:size]) \n",
    "        rows.append(s.center(4*size-3, '-')) \n",
    "    print('\\n'.join(rows[:0:-1] + rows)) \n",
    "n = int(input()) \n",
    "print_rangoli(n)"
   ]
  },
  {
   "cell_type": "code",
   "execution_count": 3,
   "id": "c32603a7-be34-4e1c-ab1f-301618cde856",
   "metadata": {},
   "outputs": [
    {
     "name": "stdin",
     "output_type": "stream",
     "text": [
      " 6\n",
      " 8\n"
     ]
    },
    {
     "name": "stdout",
     "output_type": "stream",
     "text": [
      "53\n"
     ]
    }
   ],
   "source": [
    "import math\n",
    "bc=int(input(\"\"))\n",
    "ab=int(input(\"\"))\n",
    "ans=math.atan(ab/bc)\n",
    "print(round(math.degrees(ans)))"
   ]
  },
  {
   "cell_type": "code",
   "execution_count": null,
   "id": "bcb6711c-8c2d-4b48-8406-cc90d23dd283",
   "metadata": {},
   "outputs": [],
   "source": []
  }
 ],
 "metadata": {
  "kernelspec": {
   "display_name": "Python 3 (ipykernel)",
   "language": "python",
   "name": "python3"
  },
  "language_info": {
   "codemirror_mode": {
    "name": "ipython",
    "version": 3
   },
   "file_extension": ".py",
   "mimetype": "text/x-python",
   "name": "python",
   "nbconvert_exporter": "python",
   "pygments_lexer": "ipython3",
   "version": "3.12.7"
  }
 },
 "nbformat": 4,
 "nbformat_minor": 5
}
