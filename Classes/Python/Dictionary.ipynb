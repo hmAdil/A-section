{
 "cells": [
  {
   "cell_type": "code",
   "execution_count": 20,
   "metadata": {},
   "outputs": [],
   "source": [
    "# dir(dict)"
   ]
  },
  {
   "cell_type": "code",
   "execution_count": 21,
   "metadata": {},
   "outputs": [
    {
     "name": "stdout",
     "output_type": "stream",
     "text": [
      "<class 'dict'>\n",
      "<class 'dict'>\n"
     ]
    },
    {
     "data": {
      "text/plain": [
       "{}"
      ]
     },
     "execution_count": 21,
     "metadata": {},
     "output_type": "execute_result"
    }
   ],
   "source": [
    "d1 = dict()\n",
    "print(type(d1))\n",
    "d1\n",
    "d2 = {}\n",
    "print(type(d2))\n",
    "d2"
   ]
  },
  {
   "cell_type": "code",
   "execution_count": 22,
   "metadata": {},
   "outputs": [
    {
     "data": {
      "text/plain": [
       "{1: 'One', 2: 'Two', 3: 'Three'}"
      ]
     },
     "execution_count": 22,
     "metadata": {},
     "output_type": "execute_result"
    }
   ],
   "source": [
    "d3 = {1:'One', 2:'Two', 3:'Three'}\n",
    "d3"
   ]
  },
  {
   "cell_type": "code",
   "execution_count": 23,
   "metadata": {},
   "outputs": [
    {
     "data": {
      "text/plain": [
       "{1: 'One', 2: 'Two', (3, 4): 'Three'}"
      ]
     },
     "execution_count": 23,
     "metadata": {},
     "output_type": "execute_result"
    }
   ],
   "source": [
    "# Can't take a mutable value in a dictionary\n",
    "# Can't take list but can take tuple\n",
    "d4 = {1:'One', 2:'Two', (3, 4):'Three'}\n",
    "d4"
   ]
  },
  {
   "cell_type": "code",
   "execution_count": 24,
   "metadata": {},
   "outputs": [
    {
     "data": {
      "text/plain": [
       "{1: 1}"
      ]
     },
     "execution_count": 24,
     "metadata": {},
     "output_type": "execute_result"
    }
   ],
   "source": [
    "# Create dictionary i:i*i\n",
    "# Input 4 then output is {1:1, 2:4, 3:9, 4:16}\n",
    "n = int(input('Enter n'))\n",
    "d = {}\n",
    "for i in range(1, n+1):\n",
    "    d[i] = i*i\n",
    "d"
   ]
  },
  {
   "cell_type": "code",
   "execution_count": 25,
   "metadata": {},
   "outputs": [
    {
     "name": "stdout",
     "output_type": "stream",
     "text": [
      "{'u': 90}\n"
     ]
    }
   ],
   "source": [
    "# WAP to create dictionary of students where key is name of student and value is total marks of student\n",
    "n = int(input('Enter number of students'))\n",
    "d = {}\n",
    "for i in range(1, n+1):\n",
    "    name = input('Enter name')\n",
    "    marks = int(input('Entr total marks'))\n",
    "    d[name] = marks\n",
    "print(d)"
   ]
  },
  {
   "cell_type": "code",
   "execution_count": 26,
   "metadata": {},
   "outputs": [
    {
     "name": "stdout",
     "output_type": "stream",
     "text": [
      "3\n",
      "3\n",
      "1\n"
     ]
    }
   ],
   "source": [
    "# Dictionary is unordered\n",
    "color1 = {1:'Red', 2:'Green', 3:'Blue'}\n",
    "color2 = {1:'Green', 2:'Red', 3:'Blue'}\n",
    "print(len(color1))\n",
    "print(max(color1))\n",
    "print(min(color1))"
   ]
  },
  {
   "cell_type": "code",
   "execution_count": 27,
   "metadata": {},
   "outputs": [
    {
     "name": "stdout",
     "output_type": "stream",
     "text": [
      "Red\n",
      "dict_keys([1, 2, 3])\n",
      "dict_values(['Red', 'Green', 'Blue'])\n",
      "dict_items([(1, 'Red'), (2, 'Green'), (3, 'Blue')])\n"
     ]
    }
   ],
   "source": [
    "print(color1.get(1))\n",
    "print(color1.keys())\n",
    "print(color1.values())\n",
    "print(color1.items())"
   ]
  },
  {
   "cell_type": "code",
   "execution_count": 28,
   "metadata": {},
   "outputs": [
    {
     "name": "stdout",
     "output_type": "stream",
     "text": [
      "Red\n",
      "Green\n",
      "Blue\n",
      "\n",
      "1 2 3 \n",
      "(1, 'Red') (2, 'Green') (3, 'Blue') "
     ]
    }
   ],
   "source": [
    "# Print dict using for loop\n",
    "for i in color1.values():\n",
    "    print(i)\n",
    "print()\n",
    "\n",
    "for i in color1.keys():\n",
    "    print(i, end = ' ')\n",
    "print()\n",
    "\n",
    "for i in color1.items():\n",
    "    print(i, end = ' ')"
   ]
  },
  {
   "cell_type": "code",
   "execution_count": 29,
   "metadata": {},
   "outputs": [
    {
     "name": "stdout",
     "output_type": "stream",
     "text": [
      "{'p': 9}\n",
      "1.0\n"
     ]
    }
   ],
   "source": [
    "# WAP to calculate avg marks of 4 students\n",
    "student = {}\n",
    "for i in range(1, 3):\n",
    "    name = input('Enter name')\n",
    "    marks = int(input('Enter marks'))\n",
    "    student[name] = marks\n",
    "print(student)\n",
    "sum = 0\n",
    "for i in student.values():\n",
    "    sum = sum + 1\n",
    "print(sum/len(student))"
   ]
  },
  {
   "cell_type": "code",
   "execution_count": 30,
   "metadata": {},
   "outputs": [
    {
     "name": "stdout",
     "output_type": "stream",
     "text": [
      "567\n",
      "{'a': 234, 'c': 890}\n"
     ]
    }
   ],
   "source": [
    "student = {'a':234, 'b':567, 'c':890}\n",
    "print(student.pop('b'))\n",
    "print(student)"
   ]
  },
  {
   "cell_type": "code",
   "execution_count": 31,
   "metadata": {},
   "outputs": [
    {
     "name": "stdout",
     "output_type": "stream",
     "text": [
      "('c', 890)\n",
      "{'a': 234}\n"
     ]
    }
   ],
   "source": [
    "print(student.popitem())\n",
    "print(student)"
   ]
  },
  {
   "cell_type": "code",
   "execution_count": 32,
   "metadata": {},
   "outputs": [
    {
     "name": "stdout",
     "output_type": "stream",
     "text": [
      "(3, 'Green')\n",
      "{1: 'Red', 2: 'Blue'}\n"
     ]
    }
   ],
   "source": [
    "color1 = {1:'Red', 2:'Blue', 3:'Green'}\n",
    "print(color1.popitem())\n",
    "print(color1)"
   ]
  },
  {
   "cell_type": "code",
   "execution_count": 33,
   "metadata": {},
   "outputs": [
    {
     "name": "stdout",
     "output_type": "stream",
     "text": [
      "{1: 'Red', 2: 'Blue'}\n",
      "{1: 'Red', 2: 'Blue', 4: 'Yellow'}\n"
     ]
    }
   ],
   "source": [
    "color1.setdefault(2, 'Orange')\n",
    "print(color1)\n",
    "color1.setdefault(4, 'Yellow')\n",
    "print(color1)"
   ]
  },
  {
   "cell_type": "code",
   "execution_count": null,
   "metadata": {},
   "outputs": [],
   "source": []
  }
 ],
 "metadata": {
  "kernelspec": {
   "display_name": "Python 3",
   "language": "python",
   "name": "python3"
  },
  "language_info": {
   "codemirror_mode": {
    "name": "ipython",
    "version": 3
   },
   "file_extension": ".py",
   "mimetype": "text/x-python",
   "name": "python",
   "nbconvert_exporter": "python",
   "pygments_lexer": "ipython3",
   "version": "3.12.7"
  }
 },
 "nbformat": 4,
 "nbformat_minor": 2
}
