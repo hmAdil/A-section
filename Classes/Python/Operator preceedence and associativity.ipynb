{
 "cells": [
  {
   "cell_type": "code",
   "execution_count": 2,
   "id": "d9a735a6-cb95-47f9-beeb-66c5a952d9f7",
   "metadata": {},
   "outputs": [
    {
     "data": {
      "text/plain": [
       "1.3333333333333333"
      ]
     },
     "execution_count": 2,
     "metadata": {},
     "output_type": "execute_result"
    }
   ],
   "source": [
    "# operator precedence and associativity\n",
    "4/(3*(2-1))"
   ]
  },
  {
   "cell_type": "code",
   "execution_count": 3,
   "id": "0bbc3ea5-c1d4-4eca-b422-ddb9f2a76728",
   "metadata": {},
   "outputs": [
    {
     "data": {
      "text/plain": [
       "7"
      ]
     },
     "execution_count": 3,
     "metadata": {},
     "output_type": "execute_result"
    }
   ],
   "source": [
    "4+3%5  # % is having higher precedence than '+'"
   ]
  },
  {
   "cell_type": "code",
   "execution_count": 4,
   "id": "4f8856d0-4339-4575-9b87-1d353049b6b0",
   "metadata": {},
   "outputs": [
    {
     "data": {
      "text/plain": [
       "0"
      ]
     },
     "execution_count": 4,
     "metadata": {},
     "output_type": "execute_result"
    }
   ],
   "source": [
    "a = 10\n",
    "b = 5\n",
    "a%b//a"
   ]
  },
  {
   "cell_type": "code",
   "execution_count": 7,
   "id": "121d90e5-5c73-4c58-8f21-80070905d8ba",
   "metadata": {},
   "outputs": [
    {
     "data": {
      "text/plain": [
       "64"
      ]
     },
     "execution_count": 7,
     "metadata": {},
     "output_type": "execute_result"
    }
   ],
   "source": [
    "(2**3)**2"
   ]
  },
  {
   "cell_type": "code",
   "execution_count": 8,
   "id": "48254caa-5e13-4d79-bdb4-0f08b83eb511",
   "metadata": {},
   "outputs": [
    {
     "data": {
      "text/plain": [
       "512"
      ]
     },
     "execution_count": 8,
     "metadata": {},
     "output_type": "execute_result"
    }
   ],
   "source": [
    "2**3**2"
   ]
  },
  {
   "cell_type": "code",
   "execution_count": 9,
   "id": "3670bf2c-fed2-4529-ad2c-ead36c758ca0",
   "metadata": {},
   "outputs": [
    {
     "data": {
      "text/plain": [
       "0.0"
      ]
     },
     "execution_count": 9,
     "metadata": {},
     "output_type": "execute_result"
    }
   ],
   "source": [
    "float(22//31.3/3)"
   ]
  },
  {
   "cell_type": "code",
   "execution_count": 10,
   "id": "a759db94-e19d-4d9c-9180-a06de4793c4f",
   "metadata": {},
   "outputs": [
    {
     "data": {
      "text/plain": [
       "0"
      ]
     },
     "execution_count": 10,
     "metadata": {},
     "output_type": "execute_result"
    }
   ],
   "source": [
    "(~6 & 4)"
   ]
  },
  {
   "cell_type": "code",
   "execution_count": 12,
   "id": "2f1452a8-d434-411d-9137-d8344414766a",
   "metadata": {},
   "outputs": [
    {
     "name": "stdin",
     "output_type": "stream",
     "text": [
      "Enter the value of a :  7\n",
      "Enter the value of b :  4\n"
     ]
    },
    {
     "name": "stdout",
     "output_type": "stream",
     "text": [
      "4\n",
      "7\n",
      "3\n",
      "-8\n",
      "-5\n",
      "7\n",
      "7\n",
      "3\n"
     ]
    }
   ],
   "source": [
    "a = int(input('Enter the value of a : '))\n",
    "b = int(input('Enter the value of b : '))\n",
    "print(a & b)\n",
    "print(a | b)\n",
    "print(a ^ b)\n",
    "print(~a)\n",
    "print(~b)\n",
    "print(a & b | a)\n",
    "print(a | b ^ a)\n",
    "print(a ^ b & b)"
   ]
  },
  {
   "cell_type": "code",
   "execution_count": null,
   "id": "4131e36d-56b6-41b2-89fe-f23ae6ba6aa3",
   "metadata": {},
   "outputs": [],
   "source": []
  }
 ],
 "metadata": {
  "kernelspec": {
   "display_name": "Python 3 (ipykernel)",
   "language": "python",
   "name": "python3"
  },
  "language_info": {
   "codemirror_mode": {
    "name": "ipython",
    "version": 3
   },
   "file_extension": ".py",
   "mimetype": "text/x-python",
   "name": "python",
   "nbconvert_exporter": "python",
   "pygments_lexer": "ipython3",
   "version": "3.12.7"
  }
 },
 "nbformat": 4,
 "nbformat_minor": 5
}
