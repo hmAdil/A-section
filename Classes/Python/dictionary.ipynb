{
 "cells": [
  {
   "cell_type": "code",
   "execution_count": null,
   "id": "0bb17ab7-33aa-42ad-96dc-c9c320167db4",
   "metadata": {},
   "outputs": [],
   "source": [
    "dir(dict)"
   ]
  },
  {
   "cell_type": "code",
   "execution_count": null,
   "id": "e14b6bbe-123a-495a-a176-056a271f5920",
   "metadata": {},
   "outputs": [],
   "source": [
    "d1 = dict()\n",
    "print(type(d1))"
   ]
  },
  {
   "cell_type": "code",
   "execution_count": null,
   "id": "087f5690-ab35-4358-955e-fdfd9111c2e4",
   "metadata": {},
   "outputs": [],
   "source": [
    "d2 = {}\n",
    "print(type(d2))"
   ]
  },
  {
   "cell_type": "code",
   "execution_count": null,
   "id": "0f911d87-6f5b-4662-b78b-0eb9aef6d21e",
   "metadata": {},
   "outputs": [],
   "source": [
    "d3 = {1: 'one', 2: 'two', 3: 'three', 4: 'four'}\n",
    "d3"
   ]
  },
  {
   "cell_type": "code",
   "execution_count": null,
   "id": "c297f19b-a1de-4916-9b12-4a98b9f84c37",
   "metadata": {},
   "outputs": [],
   "source": [
    "d3 = {1: 'one', 2: 'two', 3: 'three', 1: 'five'}\n",
    "d3 # one overwrite to five for key 1 "
   ]
  },
  {
   "cell_type": "code",
   "execution_count": null,
   "id": "640d8d4d-7ccf-4ac9-9f2e-8829dc96d1b6",
   "metadata": {},
   "outputs": [],
   "source": [
    "d4 = {1: 'one', 2: 'two', [3,4]: 'four'}\n",
    "d4"
   ]
  },
  {
   "cell_type": "code",
   "execution_count": null,
   "id": "c9a52bb4-11d7-4291-903c-358cef3a7489",
   "metadata": {},
   "outputs": [],
   "source": [
    "d5 = {1: 'one', 2: 'two', (3,4): 'four'}\n",
    "d5"
   ]
  },
  {
   "cell_type": "code",
   "execution_count": null,
   "id": "279630f3-15a3-41b9-89f8-577241c9d249",
   "metadata": {},
   "outputs": [],
   "source": [
    "# create dictionary i: i*i\n",
    "# input 4 then output is {1:1, 2:4, 3:9, 4:16}"
   ]
  },
  {
   "cell_type": "code",
   "execution_count": null,
   "id": "64a99632-b59b-43a0-b7a5-175a0cc5ef18",
   "metadata": {},
   "outputs": [],
   "source": [
    "n = int(input(\"Enter n: \"))\n",
    "for i in range(1, n+1):\n",
    "    d[i] = i*i\n",
    "print(d)    "
   ]
  },
  {
   "cell_type": "code",
   "execution_count": null,
   "id": "bdc1c7ee-3057-4511-84a2-d700e409f795",
   "metadata": {},
   "outputs": [],
   "source": [
    "# WAP to create a dictionary of students where the key is the name of student and value is total m"
   ]
  },
  {
   "cell_type": "code",
   "execution_count": null,
   "id": "3d4c050d-384e-466d-851c-8dcdf1e3a337",
   "metadata": {},
   "outputs": [],
   "source": [
    "number = int(input(\"Enter n: \"))\n",
    "final = {}\n",
    "for i in range(1, n+1):\n",
    "    d[i] = "
   ]
  },
  {
   "cell_type": "code",
   "execution_count": null,
   "id": "168b1f06-9ac1-4ce2-80d5-224b9e119862",
   "metadata": {},
   "outputs": [],
   "source": [
    "color1 = {1: 'red', 2: 'green', 3: 'blue'} # dictionary is unordered\n",
    "color2 = {1: 'green', 2: 'red', 3: 'blue'}\n",
    "print(color1 == color2)"
   ]
  },
  {
   "cell_type": "code",
   "execution_count": null,
   "id": "8512abde-b473-4023-a7e0-405113b18e1e",
   "metadata": {},
   "outputs": [],
   "source": [
    "l1 = [2,3,4]\n",
    "l2 = [4,2,3]\n",
    "print(l1 == l2)"
   ]
  },
  {
   "cell_type": "raw",
   "id": "ee18facf-6c9f-4b2f-83a9-fa7b66d8a001",
   "metadata": {},
   "source": [
    "print(len(color1))"
   ]
  },
  {
   "cell_type": "code",
   "execution_count": null,
   "id": "050a530b-8e84-4e32-b72d-5ca19748ba12",
   "metadata": {},
   "outputs": [],
   "source": [
    "print(min(color1))}"
   ]
  },
  {
   "cell_type": "code",
   "execution_count": null,
   "id": "b6acf064-09bb-45d5-8197-cf12cd37341a",
   "metadata": {},
   "outputs": [],
   "source": [
    "print(color1.get(1))"
   ]
  },
  {
   "cell_type": "code",
   "execution_count": null,
   "id": "e1dd6686-7066-448a-a512-9574c336f0f0",
   "metadata": {},
   "outputs": [],
   "source": [
    "print(color1.keys())"
   ]
  },
  {
   "cell_type": "code",
   "execution_count": null,
   "id": "9b01766c-31b5-4da9-956d-5de4ac28099d",
   "metadata": {},
   "outputs": [],
   "source": [
    "print(color1.values())"
   ]
  },
  {
   "cell_type": "code",
   "execution_count": null,
   "id": "75c05d5a-cc2c-419e-b136-b3269b35ea40",
   "metadata": {},
   "outputs": [],
   "source": [
    "print(color1.items())"
   ]
  },
  {
   "cell_type": "code",
   "execution_count": null,
   "id": "620e68a2-88dc-436d-8f5a-a5157e5d1cee",
   "metadata": {},
   "outputs": [],
   "source": [
    "# print dictionary using for loop i.e iterable "
   ]
  },
  {
   "cell_type": "code",
   "execution_count": null,
   "id": "8ca490de-5631-4894-9cc3-ead9182bb0aa",
   "metadata": {},
   "outputs": [],
   "source": [
    "for i in color1.values():\n",
    "    print(i)\n",
    "print()\n",
    "for i in color1.keys():\n",
    "    print(i)"
   ]
  },
  {
   "cell_type": "code",
   "execution_count": null,
   "id": "2494f03e-a679-408e-bd73-6a3af9ab1171",
   "metadata": {},
   "outputs": [],
   "source": [
    "for i in color1.values():\n",
    "    print(i, end = \" \")\n",
    "print()\n",
    "for i in color1.keys():\n",
    "    print(i, end = \" \")"
   ]
  }
 ],
 "metadata": {
  "kernelspec": {
   "display_name": "Python 3 (ipykernel)",
   "language": "python",
   "name": "python3"
  },
  "language_info": {
   "codemirror_mode": {
    "name": "ipython",
    "version": 3
   },
   "file_extension": ".py",
   "mimetype": "text/x-python",
   "name": "python",
   "nbconvert_exporter": "python",
   "pygments_lexer": "ipython3",
   "version": "3.12.4"
  }
 },
 "nbformat": 4,
 "nbformat_minor": 5
}
