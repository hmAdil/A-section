{
 "cells": [
  {
   "cell_type": "code",
   "execution_count": 4,
   "id": "5a1b8d2d-b817-4b55-8b10-970a74c4c8a4",
   "metadata": {},
   "outputs": [
    {
     "name": "stdout",
     "output_type": "stream",
     "text": [
      "30\n",
      "35.2\n",
      "35.0\n"
     ]
    }
   ],
   "source": [
    "#operators in Python\n",
    "\n",
    "#arithmetic operators\n",
    "# unary, binary and ternary\n",
    "#arithemetic +,-,*,/(true division),//(truncated division)\n",
    "# **(exponentiation or power), %(modulus)\n",
    "#expression consists of operand and operator\n",
    "#statement and expression\n",
    "# (a>b) and (b>c) logical expression\n",
    "# a & b bitwise expression\n",
    "\n",
    "# a = 10\n",
    "# a+b arithmetic expression\n",
    "a = 10\n",
    "b = 20\n",
    "print(a+b) #int,int then result is int\n",
    "#int,float or float,int or float,float then result is float\n",
    "a = 15\n",
    "b = 20.2\n",
    "print(a+b)\n",
    "\n",
    "c = 5\n",
    "d = 7.0\n",
    "print(c*d)\n",
    "\n"
   ]
  },
  {
   "cell_type": "code",
   "execution_count": 10,
   "id": "f15009f7-ac56-41bf-9394-63b0ccee2311",
   "metadata": {},
   "outputs": [
    {
     "name": "stdout",
     "output_type": "stream",
     "text": [
      "4.972222222222221\n"
     ]
    }
   ],
   "source": [
    "k = 35.8\n",
    "m = 7.2\n",
    "print(k/m)\n",
    "#int,int or int,float or float,float then result is float"
   ]
  },
  {
   "cell_type": "code",
   "execution_count": 13,
   "id": "7b4fe484-d72c-4b97-9d23-de1f497ab241",
   "metadata": {},
   "outputs": [
    {
     "name": "stdout",
     "output_type": "stream",
     "text": [
      "3.0\n"
     ]
    }
   ],
   "source": [
    "m = 57\n",
    "n = 18.0\n",
    "print(m//n)\n",
    "#int,int -> int\n",
    "#int,float -> float\n",
    "#float,int -> float\n",
    "#float,float -> float"
   ]
  },
  {
   "cell_type": "code",
   "execution_count": 15,
   "id": "fde1628c-095f-4e26-bd64-9d48141008da",
   "metadata": {},
   "outputs": [
    {
     "name": "stdout",
     "output_type": "stream",
     "text": [
      "16.0\n"
     ]
    }
   ],
   "source": [
    "a = 2\n",
    "b = 4.0\n",
    "print(a**b)"
   ]
  },
  {
   "cell_type": "code",
   "execution_count": 17,
   "id": "41c2feed-b06a-4365-8422-2aff0b33e22d",
   "metadata": {},
   "outputs": [
    {
     "name": "stdout",
     "output_type": "stream",
     "text": [
      "2.0\n"
     ]
    }
   ],
   "source": [
    "a = 8 \n",
    "b = 3.0\n",
    "print(a%b)"
   ]
  },
  {
   "cell_type": "code",
   "execution_count": 24,
   "id": "3619dc1f-69d8-431c-a34f-7895dc7020d8",
   "metadata": {},
   "outputs": [
    {
     "name": "stdout",
     "output_type": "stream",
     "text": [
      "False\n",
      "True\n",
      "True\n",
      "False\n",
      "True\n",
      "False\n",
      "False\n"
     ]
    }
   ],
   "source": [
    "#relational operator\n",
    "#result in boolean value True, False\n",
    "# <,>,<=,>=,!=\n",
    "a = 20\n",
    "b = 15\n",
    "c = 20\n",
    "print(a<b)\n",
    "print(a>b)\n",
    "print(a<=c)  # a<c or a<=c\n",
    "print(a<=b)  # a<b or a==b\n",
    "print(a>=c)\n",
    "print(a==b)\n",
    "print(a!=c)  # if condition true then true otherwise false"
   ]
  },
  {
   "cell_type": "code",
   "execution_count": 27,
   "id": "2248b874-f431-4843-8c66-03b6cddea319",
   "metadata": {},
   "outputs": [
    {
     "name": "stdin",
     "output_type": "stream",
     "text": [
      "Enter the value of a: 4\n",
      "Enter the value of b: 8\n"
     ]
    },
    {
     "name": "stdout",
     "output_type": "stream",
     "text": [
      "False\n"
     ]
    }
   ],
   "source": [
    "#Program to check which number is greater\n",
    "a = int(input('Enter the value of a:'))\n",
    "b = int(input('Enter the value of b:'))\n",
    "if a>b:\n",
    "  print(True)\n",
    "else:\n",
    "     print(False)"
   ]
  },
  {
   "cell_type": "code",
   "execution_count": 1,
   "id": "0369592d-1e05-40cc-a66a-0059b9c832d7",
   "metadata": {},
   "outputs": [
    {
     "data": {
      "text/plain": [
       "False"
      ]
     },
     "execution_count": 1,
     "metadata": {},
     "output_type": "execute_result"
    }
   ],
   "source": [
    "#relational operators\n",
    "#<,>,<=,>=,==,!=\n",
    "'car' > 'cat'"
   ]
  },
  {
   "cell_type": "code",
   "execution_count": 2,
   "id": "64271044-52d2-4cd2-8d36-bf65383c23a3",
   "metadata": {},
   "outputs": [
    {
     "data": {
      "text/plain": [
       "True"
      ]
     },
     "execution_count": 2,
     "metadata": {},
     "output_type": "execute_result"
    }
   ],
   "source": [
    "'Car' < 'cat'"
   ]
  },
  {
   "cell_type": "code",
   "execution_count": 4,
   "id": "519f114d-3b78-4ae4-8136-271f51e00913",
   "metadata": {},
   "outputs": [
    {
     "data": {
      "text/plain": [
       "True"
      ]
     },
     "execution_count": 4,
     "metadata": {},
     "output_type": "execute_result"
    }
   ],
   "source": [
    "'cat' < 'cattle'"
   ]
  },
  {
   "cell_type": "code",
   "execution_count": 7,
   "id": "dca4f5bc-2905-4379-967f-2523a1cfc581",
   "metadata": {},
   "outputs": [
    {
     "name": "stdout",
     "output_type": "stream",
     "text": [
      "True\n",
      "True\n",
      "False\n",
      "True\n",
      "True\n"
     ]
    }
   ],
   "source": [
    "#logical operator\n",
    "# and, or, not\n",
    "# not is unary, and, or are binary\n",
    "# x and y, x or y, not x, not y\n",
    "# x and y are conditional statements\n",
    "# return True or False\n",
    "# and returns True when both x and y are True\n",
    "print(4<5) and (6<7)\n",
    "print(6<7) or (8<5)\n",
    "print(not True)\n",
    "print(not(8<5))\n",
    "a = 7\n",
    "b = 6\n",
    "print((a>b) and (a!=b))"
   ]
  },
  {
   "cell_type": "code",
   "execution_count": 6,
   "id": "a182cd22-b5cb-4fee-a4c8-bb131fe59a51",
   "metadata": {},
   "outputs": [],
   "source": [
    "# X   Y   and   or   not\n",
    "# 0   0    0    0    1  1\n",
    "# 0   1    0    1    1  0\n",
    "# 0   0    0    1    0  1\n",
    "# 0   1    1    1    0  0"
   ]
  },
  {
   "cell_type": "code",
   "execution_count": 8,
   "id": "e9808d2a-908a-4dd3-a6e6-15c6b961c038",
   "metadata": {},
   "outputs": [],
   "source": [
    "#short circuit evaluation\n",
    "#Logical and returns False if x is False, it will not evaluate y\n",
    "#Logical or returns True if x is True, it will not evaluate y"
   ]
  },
  {
   "cell_type": "code",
   "execution_count": 11,
   "id": "279917ec-e2ae-46c7-8ae8-ed8e04c12756",
   "metadata": {},
   "outputs": [
    {
     "data": {
      "text/plain": [
       "5"
      ]
     },
     "execution_count": 11,
     "metadata": {},
     "output_type": "execute_result"
    }
   ],
   "source": [
    "# bitwise operators\n",
    "# & - bitwise and, | - bitwise or, ~ - bitwise not\n",
    "# << - bitwise left shift, >> - bitwise right shift\n",
    "# ~ is unary, rest all are binary\n",
    "0b101"
   ]
  },
  {
   "cell_type": "code",
   "execution_count": 14,
   "id": "318d8b80-b3dc-45df-899f-f045891b55ce",
   "metadata": {},
   "outputs": [
    {
     "data": {
      "text/plain": [
       "'0b110'"
      ]
     },
     "execution_count": 14,
     "metadata": {},
     "output_type": "execute_result"
    }
   ],
   "source": [
    "bin(6)"
   ]
  },
  {
   "cell_type": "code",
   "execution_count": 19,
   "id": "35f8ae42-2446-4162-9cd9-7982e26e7fab",
   "metadata": {},
   "outputs": [
    {
     "data": {
      "text/plain": [
       "10"
      ]
     },
     "execution_count": 19,
     "metadata": {},
     "output_type": "execute_result"
    }
   ],
   "source": [
    "0xA"
   ]
  },
  {
   "cell_type": "code",
   "execution_count": 20,
   "id": "f2109d19-d11b-40f3-a972-8b787eb13206",
   "metadata": {},
   "outputs": [
    {
     "data": {
      "text/plain": [
       "4"
      ]
     },
     "execution_count": 20,
     "metadata": {},
     "output_type": "execute_result"
    }
   ],
   "source": [
    "#bitwise and & - if both bits of binary value for the two operands are 1 then 1 otherwise 0\n",
    "7 & 4"
   ]
  },
  {
   "cell_type": "code",
   "execution_count": 22,
   "id": "40772910-f747-4f76-a65b-1387e88a160c",
   "metadata": {},
   "outputs": [
    {
     "data": {
      "text/plain": [
       "7"
      ]
     },
     "execution_count": 22,
     "metadata": {},
     "output_type": "execute_result"
    }
   ],
   "source": [
    "#bitwise or / - if any bit is 1 then 1\n",
    "7 | 4"
   ]
  },
  {
   "cell_type": "code",
   "execution_count": 23,
   "id": "a7aee004-74e7-4ec1-b2bf-0737eeba17f2",
   "metadata": {},
   "outputs": [
    {
     "data": {
      "text/plain": [
       "-5"
      ]
     },
     "execution_count": 23,
     "metadata": {},
     "output_type": "execute_result"
    }
   ],
   "source": [
    "#bitwise not ~ - ~n -> -(n+1)\n",
    "~4"
   ]
  },
  {
   "cell_type": "code",
   "execution_count": 25,
   "id": "dc2817ef-4b3f-4b05-97ee-6d5f18c4c17d",
   "metadata": {},
   "outputs": [
    {
     "data": {
      "text/plain": [
       "6"
      ]
     },
     "execution_count": 25,
     "metadata": {},
     "output_type": "execute_result"
    }
   ],
   "source": [
    "~-7"
   ]
  },
  {
   "cell_type": "code",
   "execution_count": 26,
   "id": "2076e4c3-6c92-4490-988c-0ea953f19acc",
   "metadata": {},
   "outputs": [
    {
     "data": {
      "text/plain": [
       "16"
      ]
     },
     "execution_count": 26,
     "metadata": {},
     "output_type": "execute_result"
    }
   ],
   "source": [
    "# bitwise left shift << - n*2 for every shift that is done\n",
    "4<<2  # here n = 4 and 2 is the no. of shifts to be done"
   ]
  },
  {
   "cell_type": "code",
   "execution_count": 30,
   "id": "d1c8c8ac-5183-49ec-9cc9-81483946095b",
   "metadata": {},
   "outputs": [
    {
     "data": {
      "text/plain": [
       "1"
      ]
     },
     "execution_count": 30,
     "metadata": {},
     "output_type": "execute_result"
    }
   ],
   "source": [
    "# bitwise right shift >> - n/2 for every shift that is done\n",
    "4>>2  # here n = 4 and 2 is the no. of shifts to be done"
   ]
  },
  {
   "cell_type": "code",
   "execution_count": 1,
   "id": "6ee9a2b0-ce85-4e20-b828-fdb0c59aaaab",
   "metadata": {},
   "outputs": [
    {
     "name": "stdout",
     "output_type": "stream",
     "text": [
      "3\n"
     ]
    }
   ],
   "source": [
    "# bitwise xor returnd true if inputs are not same\n",
    "print(7^4)  #even no. of input = 0, odd no. of input = 1"
   ]
  },
  {
   "cell_type": "code",
   "execution_count": 5,
   "id": "17a55eab-de00-4b18-8a23-4d5858057bb7",
   "metadata": {},
   "outputs": [
    {
     "name": "stdout",
     "output_type": "stream",
     "text": [
      "<class 'list'>\n",
      "<class 'list'>\n",
      "True\n",
      "False\n",
      "True\n",
      "False\n"
     ]
    }
   ],
   "source": [
    "# membership operator\n",
    "# collections in python  -> lists, tuples, set, dictionary\n",
    "a = [10,20,30]\n",
    "b = [1, 'Ram', 89.56]\n",
    "print(type(a))\n",
    "print(type(b))\n",
    "print('Ram' in b)\n",
    "print(56 in a)\n",
    "print(56 not in a)\n",
    "print(10 not in a)"
   ]
  },
  {
   "cell_type": "code",
   "execution_count": 6,
   "id": "1897c13b-8244-4c68-8f06-8f612fbd7eaf",
   "metadata": {},
   "outputs": [
    {
     "name": "stdout",
     "output_type": "stream",
     "text": [
      "True\n",
      "True\n"
     ]
    }
   ],
   "source": [
    "t = (10,20,30)\n",
    "print(10 in t)\n",
    "print(40 not in t)"
   ]
  },
  {
   "cell_type": "code",
   "execution_count": 7,
   "id": "9ec9095e-7a3e-4142-9eff-57e7a0cc49df",
   "metadata": {},
   "outputs": [
    {
     "name": "stdout",
     "output_type": "stream",
     "text": [
      "True\n",
      "False\n"
     ]
    }
   ],
   "source": [
    "s = {48,72,25}\n",
    "print(72 in s)\n",
    "print(25 not in s)"
   ]
  },
  {
   "cell_type": "code",
   "execution_count": 14,
   "id": "603a5415-3618-4fdd-b212-1163a835d3ce",
   "metadata": {},
   "outputs": [
    {
     "ename": "SyntaxError",
     "evalue": "invalid syntax (2221874051.py, line 1)",
     "output_type": "error",
     "traceback": [
      "\u001b[1;36m  Cell \u001b[1;32mIn[14], line 1\u001b[1;36m\u001b[0m\n\u001b[1;33m    student = [1:'abc' , 2 :'pqr', 3 :'xyz']   #dictionary\u001b[0m\n\u001b[1;37m                ^\u001b[0m\n\u001b[1;31mSyntaxError\u001b[0m\u001b[1;31m:\u001b[0m invalid syntax\n"
     ]
    }
   ],
   "source": [
    "student = [1 :'abc' , 2 :'pqr', 3 :'xyz']   #dictionary\n",
    "print(1 in student)"
   ]
  },
  {
   "cell_type": "code",
   "execution_count": 10,
   "id": "15471f61-9d7a-47d1-8f18-13b51b6373fc",
   "metadata": {},
   "outputs": [
    {
     "name": "stdout",
     "output_type": "stream",
     "text": [
      "True\n",
      "True\n",
      "False\n"
     ]
    }
   ],
   "source": [
    "#identify operator  is, is not\n",
    "a = 10\n",
    "b = 10\n",
    "c = 10\n",
    "print(a is b)\n",
    "print(a is c)\n",
    "print(a is not b)"
   ]
  },
  {
   "cell_type": "code",
   "execution_count": 11,
   "id": "71618dca-d3f9-45e1-ae23-7327d6f91c4b",
   "metadata": {},
   "outputs": [
    {
     "name": "stdout",
     "output_type": "stream",
     "text": [
      "20\n",
      "2\n",
      "40\n"
     ]
    }
   ],
   "source": [
    "#assignment operator\n",
    "# a = 5, = is assignment\n",
    "# (+=,-=,*=,/=,//=,**=,%=)\n",
    "a = 10\n",
    "b = 7\n",
    "a += 10\n",
    "print(a)\n",
    "b -= 5\n",
    "print(b)\n",
    "b *= a\n",
    "print(b)\n"
   ]
  },
  {
   "cell_type": "code",
   "execution_count": 12,
   "id": "8eab47be-2198-44ad-8ea4-4d5807ec4137",
   "metadata": {},
   "outputs": [
    {
     "name": "stdout",
     "output_type": "stream",
     "text": [
      "b is minimum\n"
     ]
    }
   ],
   "source": [
    "a = 10 \n",
    "b = 5\n",
    "print('a is minimum') if a<b else print('b is minimum')"
   ]
  },
  {
   "cell_type": "code",
   "execution_count": null,
   "id": "e74f0b3b-f8c5-44ff-93f2-1237762e9367",
   "metadata": {},
   "outputs": [],
   "source": []
  }
 ],
 "metadata": {
  "kernelspec": {
   "display_name": "Python 3 (ipykernel)",
   "language": "python",
   "name": "python3"
  },
  "language_info": {
   "codemirror_mode": {
    "name": "ipython",
    "version": 3
   },
   "file_extension": ".py",
   "mimetype": "text/x-python",
   "name": "python",
   "nbconvert_exporter": "python",
   "pygments_lexer": "ipython3",
   "version": "3.12.7"
  }
 },
 "nbformat": 4,
 "nbformat_minor": 5
}
