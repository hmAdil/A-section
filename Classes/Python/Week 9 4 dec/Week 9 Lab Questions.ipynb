{
 "cells": [
  {
   "cell_type": "code",
   "execution_count": 6,
   "id": "8669d9bb-9900-4793-8eac-876f26c10dae",
   "metadata": {},
   "outputs": [
    {
     "name": "stdout",
     "output_type": "stream",
     "text": [
      "The sum of digits for 12345 is 15.\n"
     ]
    }
   ],
   "source": [
    "# 1.Find the sum of digits using recursion.\n",
    "# n=1234 , output=10\n",
    "def summation(n):\n",
    "    if n == 0:\n",
    "        return 0\n",
    "    return n % 10 + summation(n // 10)\n",
    "no = 12345\n",
    "res = summation(no)\n",
    "print(f\"The sum of digits for {no} is {res}.\")"
   ]
  },
  {
   "cell_type": "code",
   "execution_count": 10,
   "id": "89384289-5a10-43f6-a8a6-ef0b94b999c3",
   "metadata": {},
   "outputs": [
    {
     "name": "stdout",
     "output_type": "stream",
     "text": [
      "The decimal 10 in terms of binary is: 1010\n"
     ]
    }
   ],
   "source": [
    "# 2.Complete the recursive function decimal_to_binary(n) that takes \n",
    "# an integer n as input and returns its binary representation as a string.\n",
    "def decimal_to_binary(n):\n",
    "    if n == 0:\n",
    "        return \"0\"\n",
    "    if n == 1:\n",
    "        return \"1\" #Here numbers are in quotes\n",
    "                   #since we have to convert the number to string.\n",
    "    return decimal_to_binary(n // 2) + str(n % 2)\n",
    "n = 10\n",
    "bin_rep = decimal_to_binary(n)\n",
    "print(f\"The decimal {n} in terms of binary is: {bin_rep}\")"
   ]
  },
  {
   "cell_type": "code",
   "execution_count": 15,
   "id": "a761e7dd-f142-4862-b65a-5bf2dcf3cee7",
   "metadata": {},
   "outputs": [
    {
     "name": "stdin",
     "output_type": "stream",
     "text": [
      "Enter a number: 4096\n"
     ]
    },
    {
     "name": "stdout",
     "output_type": "stream",
     "text": [
      "T\n"
     ]
    }
   ],
   "source": [
    "# 3.Complete the function, is_power_of_4(n), using recursion that takes a \n",
    "# positive integer n as input and \n",
    "#returns 'T' if n is a power of 4, and 'F' otherwise.\n",
    "def is_power_of_4(n):\n",
    "    if n == 1:\n",
    "        return 'T'\n",
    "    if n < 4 or n % 4 != 0:\n",
    "        return 'F'  \n",
    "    return is_power_of_4(n // 4) #outside of loop to prevent 'none' output\n",
    "n = int(input(\"Enter a number:\"))\n",
    "print(is_power_of_4(n))"
   ]
  },
  {
   "cell_type": "code",
   "execution_count": 16,
   "id": "11c9b955-1878-4f30-bdc7-208428a16a0f",
   "metadata": {},
   "outputs": [
    {
     "name": "stdin",
     "output_type": "stream",
     "text": [
      "Enter the number of steps:  5\n"
     ]
    },
    {
     "name": "stdout",
     "output_type": "stream",
     "text": [
      "The number of ways to reach the top is: 13\n"
     ]
    }
   ],
   "source": [
    "# 4. A child is running up a staircase with n steps and can hop either 1, 2, or 3 steps at a time. \n",
    "# Complete the recursive function, count_ways_to_reach(n),  that counts the number of distinct ways the \n",
    "# child can reach the top of the staircase.\n",
    "def count_ways_to_reach(n):\n",
    "    if n < 0:\n",
    "        return 0\n",
    "    elif n == 0:\n",
    "        return 1\n",
    "    return count_ways_to_reach(n - 1) + count_ways_to_reach(n - 2) + count_ways_to_reach(n - 3)\n",
    "    #The child could go in any style he wanted 1-2-3 3-2-1 1-1-1 2-2-2 3-3-3 3-2-2 and so on...\n",
    "n =int(input(\"Enter the number of steps: \"))\n",
    "result = count_ways_to_reach(n)\n",
    "print(\"The number of ways to reach the top is:\",result)"
   ]
  },
  {
   "cell_type": "code",
   "execution_count": 12,
   "id": "8f8d80bf-4c3f-4024-a4ea-9245eb0d90a2",
   "metadata": {},
   "outputs": [
    {
     "name": "stdout",
     "output_type": "stream",
     "text": [
      "Flattened List:  [1, 2, 3, 4, 5, 6]\n"
     ]
    }
   ],
   "source": [
    "# 5.\tWrite a recursive function to flatten a nested list into a single list.\n",
    "# Input [1, [2, [3, 4]], [5, 6]]    Output: [1, 2, 3, 4, 5, 6]\n",
    "\n",
    "def flatten(nested_list):\n",
    "    flat = []\n",
    "    for item in nested_list:\n",
    "        if isinstance(item, list):\n",
    "            flat.extend(flatten(item))\n",
    "        else:\n",
    "            flat.append(item)\n",
    "    return flat\n",
    "nested_list = [1, [2, [3, 4]], [5, 6]]\n",
    "print(\"Flattened List: \",flatten(nested_list))"
   ]
  },
  {
   "cell_type": "code",
   "execution_count": 14,
   "id": "0edec96f-403b-4530-98e1-d573ed09c6a6",
   "metadata": {},
   "outputs": [
    {
     "name": "stdout",
     "output_type": "stream",
     "text": [
      "The compressed version of aabbbccc is a2b3c3\n"
     ]
    }
   ],
   "source": [
    "#6.\tImplement a recursive function to perform basic string compression. For example, \"aabbbccc\" would become \"a2b3c3\".\n",
    "def compress_string(s):\n",
    "    if not s:\n",
    "        return \"\"\n",
    "    compressed = \"\"\n",
    "    count = 1   \n",
    "    for i in range(1, len(s)):\n",
    "        if s[i] == s[i - 1]:\n",
    "            count += 1\n",
    "        else:\n",
    "            compressed += s[i - 1] + str(count)\n",
    "            count = 1  \n",
    "    compressed += s[-1] + str(count)   \n",
    "    return compressed\n",
    "input_string = \"aabbbccc\"\n",
    "compressed_string = compress_string(input_string)\n",
    "print(\"The compressed version of\",input_string,\"is\",compressed_string)"
   ]
  },
  {
   "cell_type": "code",
   "execution_count": 18,
   "id": "78bb8257-474f-462a-b95d-7e8af4f48988",
   "metadata": {},
   "outputs": [
    {
     "name": "stdout",
     "output_type": "stream",
     "text": [
      "Sorted by name:\n",
      "('567', 'arjun', (59, 68, 100))\n",
      "('123', 'kishan', (90, 98, 89))\n",
      "('890', 'ram', (95, 78, 99))\n",
      "\n",
      "PCM marks in descending order:\n",
      "('123', 'kishan', (90, 98, 89))\n",
      "('890', 'ram', (95, 78, 99))\n",
      "('567', 'arjun', (59, 68, 100))\n"
     ]
    }
   ],
   "source": [
    "# 7.\tWrite a program using callback mechanism to\n",
    "\n",
    "# a)\tSort the list based on the name and display.\n",
    "# b)\tSort the list based on the total of P C M marks in descending order and display.\n",
    "# s = [ (\"890\", \"ram\", (95,78,99)), (\"123\", \"kishan\", (90,98,89)), (\"567\", \"arjun\", (59,68,100)) ]\n",
    "def sort_by_name(student):\n",
    "    return student[1]\n",
    "def sort_by_total_marks(student):\n",
    "    return sum(student[2])  \n",
    "sorted_by_name = sorted(s, key=sort_by_name)\n",
    "print(\"Sorted by name:\")\n",
    "for student in sorted_by_name:\n",
    "    print(student)\n",
    "print()\n",
    "sorted_by_total = sorted(s, key=sort_by_total_marks, reverse=True)\n",
    "print(\"PCM marks in descending order:\")\n",
    "for student in sorted_by_total:\n",
    "    print(student)"
   ]
  },
  {
   "cell_type": "code",
   "execution_count": null,
   "id": "d0045dda-3a1a-4554-8826-65d36b4482ed",
   "metadata": {},
   "outputs": [],
   "source": []
  }
 ],
 "metadata": {
  "kernelspec": {
   "display_name": "Python 3 (ipykernel)",
   "language": "python",
   "name": "python3"
  },
  "language_info": {
   "codemirror_mode": {
    "name": "ipython",
    "version": 3
   },
   "file_extension": ".py",
   "mimetype": "text/x-python",
   "name": "python",
   "nbconvert_exporter": "python",
   "pygments_lexer": "ipython3",
   "version": "3.12.7"
  }
 },
 "nbformat": 4,
 "nbformat_minor": 5
}
