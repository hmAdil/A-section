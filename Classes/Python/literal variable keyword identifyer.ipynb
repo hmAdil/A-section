{
 "cells": [
  {
   "cell_type": "code",
   "execution_count": 8,
   "id": "b733744b-fca7-4500-b7d9-ac5eb7667ad3",
   "metadata": {
    "scrolled": true
   },
   "outputs": [
    {
     "name": "stdout",
     "output_type": "stream",
     "text": [
      "23\n",
      "<class 'int'>\n",
      "23.0\n",
      "<class 'float'>\n",
      "<class 'str'>\n",
      "<class 'complex'>\n"
     ]
    }
   ],
   "source": [
    "#variable\n",
    "#Identifyer\n",
    "# it consists of digits, alphabets and _\n",
    "# it should not start with digits\n",
    "#first_ allowed to use but not preferred to use\n",
    "# is case sensitive Age, age, AGE\n",
    "# it should not be keyword\n",
    "#variable\n",
    "a = 23\n",
    "print(a)\n",
    "print(type(a))\n",
    "b = float(a)\n",
    "print(b)\n",
    "print(type(b))\n",
    "c ='python'\n",
    "print(type(c))\n",
    "d = a+3j\n",
    "print(type(d))"
   ]
  },
  {
   "cell_type": "code",
   "execution_count": 9,
   "id": "dd38a7ee-29da-4d10-bf7b-4b9af3b3b8f7",
   "metadata": {},
   "outputs": [
    {
     "name": "stdout",
     "output_type": "stream",
     "text": [
      "value of a is 10\n",
      "address of a is 140725302651608\n",
      "value of b is 10\n",
      "address of b is 140725302651608\n",
      "value of c is 20\n",
      "address of c is 140725302651928\n",
      "address value of a is 10\n",
      "address is 140725302651608\n"
     ]
    }
   ],
   "source": [
    "a = 10\n",
    "b = 10\n",
    "c = 20\n",
    "print('value of a is',a)\n",
    "print('address of a is',id(a))\n",
    "print('value of b is',b)\n",
    "print('address of b is',id(b))\n",
    "print('value of c is',c)\n",
    "print('address of c is',id(c))\n",
    "print('address value of a is',a)\n",
    "print('address is',id(a))"
   ]
  },
  {
   "cell_type": "code",
   "execution_count": null,
   "id": "5ce81d1c-bc53-4af9-b7c8-b9813962fd35",
   "metadata": {},
   "outputs": [],
   "source": []
  }
 ],
 "metadata": {
  "kernelspec": {
   "display_name": "Python 3 (ipykernel)",
   "language": "python",
   "name": "python3"
  },
  "language_info": {
   "codemirror_mode": {
    "name": "ipython",
    "version": 3
   },
   "file_extension": ".py",
   "mimetype": "text/x-python",
   "name": "python",
   "nbconvert_exporter": "python",
   "pygments_lexer": "ipython3",
   "version": "3.12.7"
  }
 },
 "nbformat": 4,
 "nbformat_minor": 5
}
