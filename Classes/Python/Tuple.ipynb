{
 "cells": [
  {
   "cell_type": "code",
   "execution_count": 2,
   "metadata": {},
   "outputs": [],
   "source": [
    "# Tuple - Immutable (values can't be changed once assigned)\n",
    "# dir(tuple)"
   ]
  },
  {
   "cell_type": "code",
   "execution_count": 3,
   "metadata": {},
   "outputs": [
    {
     "name": "stdout",
     "output_type": "stream",
     "text": [
      "<class 'tuple'>\n",
      "<class 'tuple'>\n",
      "<class 'int'>\n",
      "<class 'tuple'>\n"
     ]
    }
   ],
   "source": [
    "t = tuple()\n",
    "print(type(t))\n",
    "t1 = ()\n",
    "print(type(t1))\n",
    "t2 = (89)\n",
    "print(type(t2))\n",
    "t2 = (89,)\n",
    "print(type(t2))"
   ]
  },
  {
   "cell_type": "code",
   "execution_count": 6,
   "metadata": {},
   "outputs": [
    {
     "name": "stdout",
     "output_type": "stream",
     "text": [
      "4\n",
      "4\n",
      "(2, 3, 4, 'Python')\n"
     ]
    }
   ],
   "source": [
    "t3 = (2, 3, 4, 'Python')\n",
    "print(len(t3))\n",
    "print(t3[2])\n",
    "# t3[3] = 'Hello'    ----> This will throw error since tuples are immutable but we tried to add the string \"Hello\" into t3\n",
    "print(t3)"
   ]
  },
  {
   "cell_type": "code",
   "execution_count": 9,
   "metadata": {},
   "outputs": [
    {
     "name": "stdout",
     "output_type": "stream",
     "text": [
      "20 45 67 67 (1, 2, 'Python') \n",
      "20 45 67 67 (1, 2, 'Python') "
     ]
    }
   ],
   "source": [
    "# Elements can be repeated in tuple and it is also iterable (eager and not lazy)\n",
    "tp1 = (20, 45, 67, 67, (1, 2, 'Python'))\n",
    "for i in tp1:\n",
    "    print(i, end = \" \")\n",
    "print()\n",
    "\n",
    "# Index\n",
    "for i in range(len(tp1)):\n",
    "    print(tp1[i], end = \" \")"
   ]
  },
  {
   "cell_type": "code",
   "execution_count": 8,
   "metadata": {},
   "outputs": [
    {
     "name": "stdout",
     "output_type": "stream",
     "text": [
      "('P', 'y', 't', 'h', 'o', 'n')\n",
      "[56, 34, 12]\n",
      "(1, 2, 3, 4, 5, 6, 7, 8)\n",
      "10\n",
      "(3, 4, 5)\n",
      "1\n",
      "1\n"
     ]
    }
   ],
   "source": [
    "# convert sequence into tuple\n",
    "tp2 = tuple('Python')\n",
    "print(tp2)\n",
    "l2 = ([56, 34, 12])\n",
    "print(l2)\n",
    "tp3 = tuple(range(1, 9))\n",
    "print(tp3)\n",
    "a = 10\n",
    "b = 20\n",
    "c = 30\n",
    "print(a)\n",
    "x , y, z = 3, 4, 5\n",
    "tp = (x, y, z)\n",
    "print(tp)\n",
    "print(tp.count(3))\n",
    "print(tp.index(4))"
   ]
  }
 ],
 "metadata": {
  "kernelspec": {
   "display_name": "Python 3",
   "language": "python",
   "name": "python3"
  },
  "language_info": {
   "codemirror_mode": {
    "name": "ipython",
    "version": 3
   },
   "file_extension": ".py",
   "mimetype": "text/x-python",
   "name": "python",
   "nbconvert_exporter": "python",
   "pygments_lexer": "ipython3",
   "version": "3.12.7"
  }
 },
 "nbformat": 4,
 "nbformat_minor": 2
}
