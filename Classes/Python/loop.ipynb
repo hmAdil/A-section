{
 "cells": [
  {
   "cell_type": "code",
   "execution_count": 1,
   "id": "34e2dc96-a406-4111-815d-4155406e6da9",
   "metadata": {},
   "outputs": [
    {
     "name": "stdout",
     "output_type": "stream",
     "text": [
      "Iteration number 0\n",
      "python\n",
      "updated counter i\n",
      "Iteration number 1\n",
      "python\n",
      "updated counter i\n",
      "Iteration number 2\n",
      "python\n",
      "updated counter i\n",
      "Iteration number 3\n",
      "python\n",
      "updated counter i\n",
      "Iteration number 4\n",
      "python\n",
      "updated counter i\n",
      "Thats all\n"
     ]
    }
   ],
   "source": [
    "i = 0\n",
    "while i < 5:\n",
    "    print('Iteration number',i)\n",
    "    print('python')\n",
    "    i += 1\n",
    "    print('updated counter i')\n",
    "print('Thats all')"
   ]
  },
  {
   "cell_type": "code",
   "execution_count": 2,
   "id": "cee3b12b-d164-4b47-b3f7-b1d8c0f261eb",
   "metadata": {},
   "outputs": [
    {
     "name": "stdout",
     "output_type": "stream",
     "text": [
      "1 2 3 4 5 "
     ]
    }
   ],
   "source": [
    "i = 1\n",
    "while i <= 5:\n",
    "    print(i,end=' ')\n",
    "    i += 1"
   ]
  },
  {
   "cell_type": "code",
   "execution_count": 3,
   "id": "828d7db1-becf-4b62-902d-bf919ab7713c",
   "metadata": {},
   "outputs": [
    {
     "name": "stdin",
     "output_type": "stream",
     "text": [
      "Enter number:  10\n"
     ]
    },
    {
     "name": "stdout",
     "output_type": "stream",
     "text": [
      "1 2 3 4 5 6 7 8 9 10 "
     ]
    }
   ],
   "source": [
    "i = 1\n",
    "n = int(input('Enter number: '))\n",
    "while i <= n:\n",
    "    print(i,end=' ')\n",
    "    i += 1"
   ]
  },
  {
   "cell_type": "code",
   "execution_count": 7,
   "id": "f4648758-d0a7-492d-b03f-08e7925b3795",
   "metadata": {},
   "outputs": [
    {
     "name": "stdout",
     "output_type": "stream",
     "text": [
      "odd number is 1\n",
      "even number is 2\n",
      "odd number is 3\n",
      "even number is 4\n",
      "odd number is 5\n",
      "even number is 6\n",
      "odd number is 7\n",
      "even number is 8\n",
      "odd number is 9\n",
      "even number is 10\n"
     ]
    }
   ],
   "source": [
    "# Write a program to print even and odd numbers between 1 to 10\n",
    "i = 1\n",
    "while i <= 10:\n",
    "     if i%2 == 0:\n",
    "         print('even number is',i)\n",
    "     else:\n",
    "         print('odd number is',i)\n",
    "     i += 1"
   ]
  },
  {
   "cell_type": "code",
   "execution_count": 9,
   "id": "e40d37e2-02ac-4cd0-ad5b-56e17d6ff849",
   "metadata": {},
   "outputs": [
    {
     "name": "stdin",
     "output_type": "stream",
     "text": [
      "Enter number:  5\n"
     ]
    },
    {
     "name": "stdout",
     "output_type": "stream",
     "text": [
      "sum 15\n"
     ]
    }
   ],
   "source": [
    "# Write a program to print sum of first n numbers\n",
    "# input => output = 1+2+3+4+5 = 15\n",
    "n = int(input('Enter number: '))\n",
    "sum = 0\n",
    "i = 1\n",
    "while i <= n:\n",
    "    sum = sum + i\n",
    "    i += 1\n",
    "print('sum',sum)"
   ]
  },
  {
   "cell_type": "code",
   "execution_count": 10,
   "id": "5153d245-a8c0-416b-bc38-2275b2cd080f",
   "metadata": {},
   "outputs": [
    {
     "name": "stdin",
     "output_type": "stream",
     "text": [
      "Enter the number 1234\n"
     ]
    },
    {
     "name": "stdout",
     "output_type": "stream",
     "text": [
      "Sum 10\n"
     ]
    }
   ],
   "source": [
    "# Write a program to print sum of digit of a given number\n",
    "n = int(input('Enter the number'))\n",
    "sum = 0\n",
    "while n != 0:\n",
    "    d = n % 10\n",
    "    sum = sum + d\n",
    "    n = n // 10\n",
    "print('Sum',sum)    \n",
    "    "
   ]
  },
  {
   "cell_type": "code",
   "execution_count": 11,
   "id": "20b5f919-aa53-457d-ac34-58694052afd7",
   "metadata": {},
   "outputs": [
    {
     "name": "stdin",
     "output_type": "stream",
     "text": [
      "Enter a number 123456789\n"
     ]
    },
    {
     "name": "stdout",
     "output_type": "stream",
     "text": [
      "Reverse 987654321\n"
     ]
    }
   ],
   "source": [
    "# Write a program to reverse a number\n",
    "# input = 123, output = 321\n",
    "n = int(input('Enter a number'))\n",
    "reverse = 0\n",
    "while n != 0:\n",
    "    d = n % 10\n",
    "    reverse = reverse * 10 + d\n",
    "    n = n // 10\n",
    "print('Reverse',reverse)\n"
   ]
  },
  {
   "cell_type": "code",
   "execution_count": 13,
   "id": "dd8b6c8f-4369-416a-891e-ceb6d41e13e8",
   "metadata": {},
   "outputs": [
    {
     "name": "stdin",
     "output_type": "stream",
     "text": [
      "Enter number 6\n"
     ]
    },
    {
     "name": "stdout",
     "output_type": "stream",
     "text": [
      "Binary is 110 \n"
     ]
    }
   ],
   "source": [
    "# Write a program to convert decimal number to binary number\n",
    "n = int(input('Enter number'))\n",
    "result = ' '\n",
    "while n != 0:\n",
    "    rem = n % 2\n",
    "    result = str(rem) + result\n",
    "    n = n // 2\n",
    "print('Binary is', result)    "
   ]
  },
  {
   "cell_type": "code",
   "execution_count": 15,
   "id": "de85f1d1-ef97-4b41-9144-a32bbcc0a809",
   "metadata": {},
   "outputs": [
    {
     "name": "stdin",
     "output_type": "stream",
     "text": [
      "Enter number 1:  110\n",
      "Enter number 2:  220\n"
     ]
    },
    {
     "name": "stdout",
     "output_type": "stream",
     "text": [
      "Sum of even 18315\n",
      "Sum of odd 0\n"
     ]
    }
   ],
   "source": [
    "# Write a program to calculate sum of even and odd numbers separately\n",
    "soo = 0\n",
    "soe = 0\n",
    "n1 = int(input('Enter number 1: '))\n",
    "n2 = int(input('Enter number 2: '))\n",
    "while n1 <= n2:\n",
    "    if n % 2 == 0:\n",
    "        soe = soe + n1\n",
    "    else:\n",
    "        soo = soo + n1\n",
    "    n1 = n1 + 1\n",
    "print('Sum of even',soe)\n",
    "print('Sum of odd',soo)"
   ]
  },
  {
   "cell_type": "code",
   "execution_count": 4,
   "id": "5551a5f8-c28e-40d0-a852-225ea6591335",
   "metadata": {},
   "outputs": [
    {
     "data": {
      "text/plain": [
       "(0, 1, 2, 3, 4)"
      ]
     },
     "execution_count": 4,
     "metadata": {},
     "output_type": "execute_result"
    }
   ],
   "source": [
    "# range function\n",
    "# range( start,stop,step )\n",
    "# start and stop is optional\n",
    "# 3 ways of range function\n",
    "# range(stop) default start is 0, step is +1\n",
    "# start is inclusive and stop is exclusive\n",
    "tuple(range(5))\n"
   ]
  },
  {
   "cell_type": "code",
   "execution_count": 6,
   "id": "b634aa22-1245-495c-a2a7-fe03581f765d",
   "metadata": {},
   "outputs": [
    {
     "data": {
      "text/plain": [
       "[3, 4, 5, 6, 7]"
      ]
     },
     "execution_count": 6,
     "metadata": {},
     "output_type": "execute_result"
    }
   ],
   "source": [
    "# range (start, stop)\n",
    "# it generates values from start to stop:-1,step:+1\n",
    "list(range(3,8))"
   ]
  },
  {
   "cell_type": "code",
   "execution_count": 10,
   "id": "52f65bc3-1f5e-4aa1-bb45-cc73c2599faa",
   "metadata": {},
   "outputs": [
    {
     "data": {
      "text/plain": [
       "[9, 7, 5, 3, 1]"
      ]
     },
     "execution_count": 10,
     "metadata": {},
     "output_type": "execute_result"
    }
   ],
   "source": [
    "# range(start,stop,step)\n",
    "list(range(1,10,2))\n",
    "list(range(9,0,-2))"
   ]
  },
  {
   "cell_type": "code",
   "execution_count": 12,
   "id": "b874c611-548c-49f7-976f-a6a24d1ec498",
   "metadata": {},
   "outputs": [
    {
     "name": "stdout",
     "output_type": "stream",
     "text": [
      "1\n",
      "2\n",
      "3\n",
      "4\n",
      "5\n"
     ]
    }
   ],
   "source": [
    "i = 1\n",
    "for i in range(1,6):\n",
    "    print(i)"
   ]
  },
  {
   "cell_type": "code",
   "execution_count": 16,
   "id": "df98184a-1d36-42b7-8c1e-7adc049542b1",
   "metadata": {},
   "outputs": [
    {
     "name": "stdin",
     "output_type": "stream",
     "text": [
      "Enter n:  10\n"
     ]
    },
    {
     "name": "stdout",
     "output_type": "stream",
     "text": [
      "1 2 3 4 5 6 7 8 9 10 "
     ]
    }
   ],
   "source": [
    "n = int(input('Enter n: '))\n",
    "for i in range(1,n+1):\n",
    "    print(i,end=' ')"
   ]
  },
  {
   "cell_type": "code",
   "execution_count": 22,
   "id": "766a0709-1def-4a63-8b8c-891c67b22b6d",
   "metadata": {},
   "outputs": [
    {
     "name": "stdout",
     "output_type": "stream",
     "text": [
      "0 ** p\n",
      "112\n",
      "1 ** y\n",
      "121\n",
      "2 ** t\n",
      "116\n",
      "3 ** h\n",
      "104\n",
      "4 ** o\n",
      "111\n",
      "5 ** n\n",
      "110\n"
     ]
    }
   ],
   "source": [
    "str1 = 'python'\n",
    "for i in range(len(str1)):\n",
    "    print(i,str1[i],sep=' ** ')\n",
    "    print(ord(str1[i]))"
   ]
  },
  {
   "cell_type": "code",
   "execution_count": null,
   "id": "48aabcbd-e808-4134-a146-289829f6c578",
   "metadata": {},
   "outputs": [],
   "source": []
  },
  {
   "cell_type": "code",
   "execution_count": null,
   "id": "fa95d0c6-8a7a-4187-aeae-c726599476a9",
   "metadata": {},
   "outputs": [],
   "source": []
  }
 ],
 "metadata": {
  "kernelspec": {
   "display_name": "Python 3 (ipykernel)",
   "language": "python",
   "name": "python3"
  },
  "language_info": {
   "codemirror_mode": {
    "name": "ipython",
    "version": 3
   },
   "file_extension": ".py",
   "mimetype": "text/x-python",
   "name": "python",
   "nbconvert_exporter": "python",
   "pygments_lexer": "ipython3",
   "version": "3.12.7"
  }
 },
 "nbformat": 4,
 "nbformat_minor": 5
}
