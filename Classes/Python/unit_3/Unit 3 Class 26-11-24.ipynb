{
 "cells": [
  {
   "cell_type": "code",
   "execution_count": 2,
   "id": "9a89a291-9a99-42b3-815e-72628e2aa914",
   "metadata": {},
   "outputs": [
    {
     "name": "stdout",
     "output_type": "stream",
     "text": [
      "Value of n:  3\n",
      "Value of n:  2\n",
      "Value of n:  1\n",
      "Inside fact function of  0\n",
      "Inside fact function of  1\n",
      "Inside fact function of  2\n",
      "Inside fact function of  3\n",
      "6\n"
     ]
    }
   ],
   "source": [
    "#def fact(n): #Recursive function\n",
    "#\tif n == 0: # terminating function\n",
    "#\t\tres = 1\n",
    "#\telse:\n",
    "#\t\tres = n * fact(n-1)\n",
    "#\treturn res\n",
    "\n",
    "def fact(n):\n",
    "\tif n == 0:\n",
    "\t\tres = 1\n",
    "\telse:\n",
    "\t\tprint(\"Value of n: \",n)\n",
    "\t\tres = n*fact(n-1)\n",
    "\tprint(\"Inside fact function of \",n)\n",
    "\treturn res\n",
    "print(fact(3))"
   ]
  },
  {
   "cell_type": "code",
   "execution_count": 4,
   "id": "d4be3de0-12d9-49b3-ac58-f753410ace45",
   "metadata": {},
   "outputs": [
    {
     "name": "stdout",
     "output_type": "stream",
     "text": [
      "5\n",
      "5\n"
     ]
    }
   ],
   "source": [
    "def gcd(m,n): #GCD = Greatest common divisor is basically known as HCF.\n",
    "    if m == n:\n",
    "        res = m\n",
    "    elif m > n:\n",
    "        res = gcd(m-n,n) #return gcd (m-n,n)\n",
    "    else:\n",
    "        res = gcd(m,n-m) #return gcd(m,n-m)\n",
    "    return res\n",
    "print(gcd(15,20))\n",
    "print(gcd(25,10))"
   ]
  },
  {
   "cell_type": "code",
   "execution_count": 5,
   "id": "60dc7815-8912-44f9-bdd2-4e6c8ab56a9c",
   "metadata": {},
   "outputs": [
    {
     "name": "stdout",
     "output_type": "stream",
     "text": [
      "5\n",
      "5\n"
     ]
    }
   ],
   "source": [
    "def gcd(m,n): #GCD = Greatest common divisor is basically known as HCF.\n",
    "    if m == n:\n",
    "        res = m\n",
    "    elif m > n:\n",
    "        return gcd (m-n,n)\n",
    "    else:\n",
    "        return gcd(m,n-m)\n",
    "    return res\n",
    "print(gcd(15,20))\n",
    "print(gcd(25,10))"
   ]
  },
  {
   "cell_type": "code",
   "execution_count": 3,
   "id": "59b56c32-35b5-4cbd-bde8-e6d9b365ba42",
   "metadata": {},
   "outputs": [
    {
     "name": "stdin",
     "output_type": "stream",
     "text": [
      "enter Number Of Disks\n",
      " 5\n"
     ]
    },
    {
     "name": "stdout",
     "output_type": "stream",
     "text": [
      "Move disk 1 from source A to destination C\n",
      "move Disk 2 from source A to destination B\n",
      "Move disk 1 from source C to destination B\n",
      "move Disk 3 from source A to destination C\n",
      "Move disk 1 from source B to destination A\n",
      "move Disk 2 from source B to destination C\n",
      "Move disk 1 from source A to destination C\n",
      "move Disk 4 from source A to destination B\n",
      "Move disk 1 from source C to destination B\n",
      "move Disk 2 from source C to destination A\n",
      "Move disk 1 from source B to destination A\n",
      "move Disk 3 from source C to destination B\n",
      "Move disk 1 from source A to destination C\n",
      "move Disk 2 from source A to destination B\n",
      "Move disk 1 from source C to destination B\n",
      "move Disk 5 from source A to destination C\n",
      "Move disk 1 from source B to destination A\n",
      "move Disk 2 from source B to destination C\n",
      "Move disk 1 from source A to destination C\n",
      "move Disk 3 from source B to destination A\n",
      "Move disk 1 from source C to destination B\n",
      "move Disk 2 from source C to destination A\n",
      "Move disk 1 from source B to destination A\n",
      "move Disk 4 from source B to destination C\n",
      "Move disk 1 from source A to destination C\n",
      "move Disk 2 from source A to destination B\n",
      "Move disk 1 from source C to destination B\n",
      "move Disk 3 from source A to destination C\n",
      "Move disk 1 from source B to destination A\n",
      "move Disk 2 from source B to destination C\n",
      "Move disk 1 from source A to destination C\n"
     ]
    }
   ],
   "source": [
    "def TowerOfHanoi(n,src,aux,dest):\n",
    "    if n==1:\n",
    "        print('Move disk 1 from source',src,'to destination',dest)\n",
    "        return\n",
    "    TowerOfHanoi(n-1,src,dest,aux)\n",
    "    print(\"move Disk\",n,\"from source\",src,\"to destination\",dest)\n",
    "    TowerOfHanoi(n-1,aux,src,dest)\n",
    "n=int(input(\"enter Number Of Disks\\n\"))\n",
    "TowerOfHanoi(n,'A','B','C')"
   ]
  },
  {
   "cell_type": "code",
   "execution_count": 4,
   "id": "c8665602-7b94-4ae3-9d5f-3ae1b0aa55f5",
   "metadata": {},
   "outputs": [
    {
     "name": "stdout",
     "output_type": "stream",
     "text": [
      "Result= -10\n"
     ]
    }
   ],
   "source": [
    "def subtract(x,y): #Recursive Function\n",
    "    if(y == 0): #Terminating Condition\n",
    "        return x\n",
    "    return subtract(x-1,y-1)\n",
    "\n",
    "print(\"Result=\",subtract(10,20))"
   ]
  },
  {
   "cell_type": "code",
   "execution_count": null,
   "id": "a7d0ef7c-e006-4956-9416-31b7e1693757",
   "metadata": {},
   "outputs": [],
   "source": []
  }
 ],
 "metadata": {
  "kernelspec": {
   "display_name": "Python 3 (ipykernel)",
   "language": "python",
   "name": "python3"
  },
  "language_info": {
   "codemirror_mode": {
    "name": "ipython",
    "version": 3
   },
   "file_extension": ".py",
   "mimetype": "text/x-python",
   "name": "python",
   "nbconvert_exporter": "python",
   "pygments_lexer": "ipython3",
   "version": "3.12.7"
  }
 },
 "nbformat": 4,
 "nbformat_minor": 5
}
