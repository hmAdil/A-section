{
 "cells": [
  {
   "cell_type": "code",
   "execution_count": 1,
   "id": "7a73983d-e942-449d-959f-8af5db0cf9a4",
   "metadata": {},
   "outputs": [],
   "source": [
    "import tkinter\n",
    "root=tkinter.Tk()\n",
    "root.mainloop()\n",
    "className="
   ]
  },
  {
   "cell_type": "code",
   "execution_count": null,
   "id": "eab817d2-64f1-48c4-aedb-8c7566a6b343",
   "metadata": {},
   "outputs": [],
   "source": []
  }
 ],
 "metadata": {
  "kernelspec": {
   "display_name": "Python 3 (ipykernel)",
   "language": "python",
   "name": "python3"
  },
  "language_info": {
   "codemirror_mode": {
    "name": "ipython",
    "version": 3
   },
   "file_extension": ".py",
   "mimetype": "text/x-python",
   "name": "python",
   "nbconvert_exporter": "python",
   "pygments_lexer": "ipython3",
   "version": "3.12.7"
  }
 },
 "nbformat": 4,
 "nbformat_minor": 5
}
