{
 "cells": [
  {
   "cell_type": "code",
   "execution_count": 4,
   "id": "3152ce1c-0c05-4746-922a-2fdddb9f2d87",
   "metadata": {},
   "outputs": [],
   "source": [
    "# import tkinter\n",
    "# root=tkinter.Tk(className=\"adarsh teli\")\n",
    "# root.mainloop()\n",
    "\n",
    "\n",
    "# 2\n",
    "\n",
    "# import tkinter\n",
    "# root=tkinter.Tk()\n",
    "# root.title(\"tkinter first window\")\n",
    "# root.geometry(400x990)\n",
    "# root.mainloop()\n",
    "import tkinter as Tk\n",
    "from tkinter import *\n",
    "win = Tk()\n",
    "win.title(\"tkinter demonstration\")\n",
    "win.geometry('300x200')\n",
    "b=Button(win, text='adarsh')\n",
    "c=Button(win, text='enter')\n",
    "b.pack()\n",
    "c.pack()\n",
    "# win.mainloop()\n",
    "# from tkinter import *\n",
    "# window=Tk()\n",
    "# l1=Label(window,text=\"adarsh collection\",bg=\"blue\",fg=\"red\",width=40)\n",
    "# l1.place(x=50,y=100)\n",
    "# window.mainloop"
   ]
  },
  {
   "cell_type": "code",
   "execution_count": null,
   "id": "7c93bf5b-e240-411d-aaca-72c81de8c881",
   "metadata": {},
   "outputs": [],
   "source": []
  }
 ],
 "metadata": {
  "kernelspec": {
   "display_name": "Python 3 (ipykernel)",
   "language": "python",
   "name": "python3"
  },
  "language_info": {
   "codemirror_mode": {
    "name": "ipython",
    "version": 3
   },
   "file_extension": ".py",
   "mimetype": "text/x-python",
   "name": "python",
   "nbconvert_exporter": "python",
   "pygments_lexer": "ipython3",
   "version": "3.13.0"
  }
 },
 "nbformat": 4,
 "nbformat_minor": 5
}
