{
 "cells": [
  {
   "cell_type": "code",
   "execution_count": null,
   "id": "818cb4c5-66a2-4d99-a11c-f4a387db7fa5",
   "metadata": {},
   "outputs": [],
   "source": [
    "'''Recursion  is  a  process  where  a  function  calls  itself  to  produce  a  result  with  a terminating condition included within it.'''\n"
   ]
  }
 ],
 "metadata": {
  "kernelspec": {
   "display_name": "Python 3 (ipykernel)",
   "language": "python",
   "name": "python3"
  },
  "language_info": {
   "codemirror_mode": {
    "name": "ipython",
    "version": 3
   },
   "file_extension": ".py",
   "mimetype": "text/x-python",
   "name": "python",
   "nbconvert_exporter": "python",
   "pygments_lexer": "ipython3",
   "version": "3.13.0"
  }
 },
 "nbformat": 4,
 "nbformat_minor": 5
}
