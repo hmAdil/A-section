{
 "cells": [
  {
   "cell_type": "code",
   "execution_count": 1,
   "id": "f4c3a33b-255f-45bb-9b8b-8a3bd4fe684f",
   "metadata": {},
   "outputs": [],
   "source": [
    "# Control Statements"
   ]
  },
  {
   "cell_type": "code",
   "execution_count": 4,
   "id": "66d16fe6-bc96-4e76-ae35-d543bde30983",
   "metadata": {},
   "outputs": [
    {
     "name": "stdin",
     "output_type": "stream",
     "text": [
      "Enter attendance 89\n",
      "Enter conduct Excellent\n"
     ]
    },
    {
     "name": "stdout",
     "output_type": "stream",
     "text": [
      "issue hall ticket\n",
      "Thats all\n"
     ]
    }
   ],
   "source": [
    "# simple if statement\n",
    "att = int(input('Enter attendance'))\n",
    "conduct = input('Enter conduct')\n",
    "if att >= 75 and conduct == 'Good':\n",
    "    print('issue hall ticket')\n",
    "print('Thats all')"
   ]
  },
  {
   "cell_type": "code",
   "execution_count": 6,
   "id": "5acdc32b-7a2d-4bde-b1a5-50ee5866455d",
   "metadata": {},
   "outputs": [
    {
     "name": "stdin",
     "output_type": "stream",
     "text": [
      "Enter attendance 76\n"
     ]
    },
    {
     "name": "stdout",
     "output_type": "stream",
     "text": [
      "issue hall ticket\n",
      "Inside if\n",
      "Thats all\n"
     ]
    }
   ],
   "source": [
    "att = int(input('Enter attendance'))\n",
    "if att >= 75:\n",
    "    print('issue hall ticket')\n",
    "    print('Inside if')\n",
    "else:\n",
    "    print('dont issue hall ticket')\n",
    "    print('Inside else')\n",
    "print('Thats all')"
   ]
  },
  {
   "cell_type": "code",
   "execution_count": 11,
   "id": "00ebd84a-6cb5-4375-8a44-162b9b379f6e",
   "metadata": {},
   "outputs": [
    {
     "name": "stdin",
     "output_type": "stream",
     "text": [
      "Enter attendance 80\n",
      "Enter year 2022\n"
     ]
    },
    {
     "name": "stdout",
     "output_type": "stream",
     "text": [
      "issue hall ticket\n",
      "Inside first if\n",
      "Golden jubilee batch\n",
      "Inside second if\n",
      "Thats all\n"
     ]
    }
   ],
   "source": [
    "# multiple if\n",
    "att = int(input('Enter attendance'))\n",
    "year = int(input('Enter year'))\n",
    "if att >= 75:\n",
    "    print('issue hall ticket')\n",
    "    print('Inside first if')\n",
    "else:\n",
    "    print('Dont issue hall ticket')\n",
    "if year == 2022:\n",
    "    print('Golden jubilee batch')\n",
    "    print('Inside second if')\n",
    "else:\n",
    "    print('inside else')\n",
    "print('Thats all')"
   ]
  },
  {
   "cell_type": "code",
   "execution_count": 16,
   "id": "194433fb-2fcc-49c4-aa49-2be44c706613",
   "metadata": {},
   "outputs": [
    {
     "name": "stdin",
     "output_type": "stream",
     "text": [
      "Enter attendance 69\n",
      "Enter year 2023\n"
     ]
    },
    {
     "name": "stdout",
     "output_type": "stream",
     "text": [
      "inside outer else\n",
      "Thats all\n"
     ]
    }
   ],
   "source": [
    "# nested if\n",
    "att = int(input('Enter attendance'))\n",
    "year = int(input('Enter year'))\n",
    "if att >= 75:\n",
    "    if year == 2022:\n",
    "        print('Golden jubilee batch')\n",
    "        print('inside inner if')\n",
    "    else:\n",
    "        print('inside inner else')\n",
    "    print('inside outer if')\n",
    "else:\n",
    "    print('inside outer else')\n",
    "print('Thats all')"
   ]
  },
  {
   "cell_type": "code",
   "execution_count": 17,
   "id": "adc97f90-d1a7-4477-97ee-e3a624e79c94",
   "metadata": {},
   "outputs": [
    {
     "name": "stdin",
     "output_type": "stream",
     "text": [
      "Enter attendance 56\n",
      "Enter year 2023\n"
     ]
    },
    {
     "name": "stdout",
     "output_type": "stream",
     "text": [
      "Inside else\n"
     ]
    }
   ],
   "source": [
    "# if elif else\n",
    "att = int(input('Enter attendance'))\n",
    "year = int(input('Enter year'))\n",
    "if att >= 75:\n",
    "    print('issue hall ticket')\n",
    "    print('inside firat if')\n",
    "elif year == 2022:\n",
    "    print('Golden jubilee batch')\n",
    "    print('Insie second elif')\n",
    "else:\n",
    "    print('Inside else')\n",
    "    "
   ]
  },
  {
   "cell_type": "code",
   "execution_count": 18,
   "id": "beb237fc-9a0f-4f17-8cbf-aa2ec7870696",
   "metadata": {},
   "outputs": [],
   "source": [
    "# Write a program to check number is positive, neagtive or zero\n",
    "# using if elif else and nested"
   ]
  },
  {
   "cell_type": "code",
   "execution_count": 21,
   "id": "f32666ab-0f80-4b56-b0c5-58095453789c",
   "metadata": {},
   "outputs": [
    {
     "name": "stdin",
     "output_type": "stream",
     "text": [
      "Enter a number 0\n"
     ]
    },
    {
     "name": "stdout",
     "output_type": "stream",
     "text": [
      "The number is zero\n"
     ]
    }
   ],
   "source": [
    "# if elif else\n",
    "num = int(input('Enter a number'))\n",
    "if num > 0:\n",
    "    print('The number is positive')\n",
    "elif num < 0:\n",
    "    print('The number is negative')\n",
    "else:\n",
    "    print('The number is zero')"
   ]
  },
  {
   "cell_type": "code",
   "execution_count": 24,
   "id": "a1dbdd67-301d-4727-86e1-5c483a89489b",
   "metadata": {},
   "outputs": [
    {
     "name": "stdin",
     "output_type": "stream",
     "text": [
      "Enter a number 0\n"
     ]
    },
    {
     "name": "stdout",
     "output_type": "stream",
     "text": [
      "it is zero\n"
     ]
    }
   ],
   "source": [
    "# nested if\n",
    "num = int(input('Enter a number'))\n",
    "if num >= 0:\n",
    "    if num > 0:\n",
    "        print('it is positive')\n",
    "    else:\n",
    "        print('it is zero')\n",
    "else:\n",
    "    print('it is negative')"
   ]
  },
  {
   "cell_type": "code",
   "execution_count": 27,
   "id": "3373eefb-5b0e-4f64-be98-92f3d25a0799",
   "metadata": {},
   "outputs": [
    {
     "name": "stdin",
     "output_type": "stream",
     "text": [
      "Enter quantity :  5\n"
     ]
    },
    {
     "name": "stdout",
     "output_type": "stream",
     "text": [
      "Total cost is 500\n"
     ]
    }
   ],
   "source": [
    "# A shop gives discount of 10%. If the cost of quantity purchase is more than Rs 1000. the cost for 1 unit is 100. Find total cost\n",
    "q = int(input('Enter quantity : '))\n",
    "total_cost = q*100\n",
    "if total_cost > 1000:\n",
    "    total_discount_cost = total_cost - (total_cost*0.1)\n",
    "    print('Discounted total cost', total_discount_cost)\n",
    "else:\n",
    "    print('Total cost is', total_cost)"
   ]
  },
  {
   "cell_type": "code",
   "execution_count": 29,
   "id": "b8590d57-c09b-4aae-9e4f-112cfa02f660",
   "metadata": {},
   "outputs": [
    {
     "name": "stdin",
     "output_type": "stream",
     "text": [
      "Enter unit 121\n"
     ]
    },
    {
     "name": "stdout",
     "output_type": "stream",
     "text": [
      "Amount -290\n"
     ]
    }
   ],
   "source": [
    "# Find electricity bill\n",
    "# unit            amount/bill\n",
    "# first 100        0\n",
    "# next 100         5\n",
    "# more than 200    10\n",
    "\n",
    "unit = int(input('Enter unit'))\n",
    "if unit <= 100:\n",
    "    amt = 0\n",
    "elif unit > 100 and unit <= 100:\n",
    "    amt = (unit-100)*5\n",
    "else:\n",
    "    amt = (unit-200)*10 + (100*5)\n",
    "print('Amount',amt)\n"
   ]
  },
  {
   "cell_type": "code",
   "execution_count": null,
   "id": "584e9eba-b9a2-4955-81ab-b60eb5858ccb",
   "metadata": {},
   "outputs": [],
   "source": []
  }
 ],
 "metadata": {
  "kernelspec": {
   "display_name": "Python 3 (ipykernel)",
   "language": "python",
   "name": "python3"
  },
  "language_info": {
   "codemirror_mode": {
    "name": "ipython",
    "version": 3
   },
   "file_extension": ".py",
   "mimetype": "text/x-python",
   "name": "python",
   "nbconvert_exporter": "python",
   "pygments_lexer": "ipython3",
   "version": "3.12.7"
  }
 },
 "nbformat": 4,
 "nbformat_minor": 5
}
