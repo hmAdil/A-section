{
 "cells": [
  {
   "cell_type": "code",
   "execution_count": 1,
   "id": "6abf63b7-95d5-464c-9cfa-3295fe55304d",
   "metadata": {},
   "outputs": [
    {
     "name": "stdout",
     "output_type": "stream",
     "text": [
      "Area of the rectangle:  56\n"
     ]
    }
   ],
   "source": [
    "def area_rect(x,y):\n",
    "    a=x*y\n",
    "    return a\n",
    "a=area_rect(7,8)\n",
    "#a=area_rect(7) won't run because function asks for 2 parameters and only one is provided\n",
    "print(\"Area of the rectangle: \",a)"
   ]
  },
  {
   "cell_type": "code",
   "execution_count": 2,
   "id": "300c627c-bb0b-4f4d-bf27-14f66737c6d7",
   "metadata": {},
   "outputs": [
    {
     "name": "stdin",
     "output_type": "stream",
     "text": [
      "Enter the raidus of the circle whose area you want to get:  1\n"
     ]
    },
    {
     "name": "stdout",
     "output_type": "stream",
     "text": [
      "The area of the circle with radius as 1 units is:  3.14\n"
     ]
    }
   ],
   "source": [
    "def a_circle(x):\n",
    "    a=3.14*x*x\n",
    "    return a\n",
    "x=int(input(\"Enter the raidus of the circle whose area you want to get: \"))\n",
    "a=a_circle(x)\n",
    "print(f\"The area of the circle with radius as {x} units is: \", a)"
   ]
  },
  {
   "cell_type": "code",
   "execution_count": 3,
   "id": "9b6cfa1c-8424-483b-bdf1-13d9ff8cb8cc",
   "metadata": {},
   "outputs": [
    {
     "data": {
      "text/plain": [
       "'python does not support function overloading, this is because when we define multiple functions with same variables \\nthe newer function will always override the older function\\n\\nassignment to functions as variables works well but del function wont work with original function.\\n\\nprint(id(anything)) will always print the memory address of \"anything\"'"
      ]
     },
     "execution_count": 3,
     "metadata": {},
     "output_type": "execute_result"
    }
   ],
   "source": [
    "'''python does not support function overloading, this is because when we define multiple functions with same variables \n",
    "the newer function will always override the older function\n",
    "\n",
    "assignment to functions as variables works well but del function wont work with original function.\n",
    "\n",
    "print(id(anything)) will always print the memory address of \"anything\"'''"
   ]
  },
  {
   "cell_type": "code",
   "execution_count": 4,
   "id": "10474177-aa0b-4976-92c8-e629e12ad064",
   "metadata": {},
   "outputs": [
    {
     "name": "stdout",
     "output_type": "stream",
     "text": [
      "Hello.\n",
      "None \n",
      " 126287448410528\n"
     ]
    }
   ],
   "source": [
    "def f1():\n",
    "    print(\"Hello.\")\n",
    "    return #\"No Shit sherlock!\"\n",
    "print(f1(),'\\n',id(f1))"
   ]
  },
  {
   "cell_type": "code",
   "execution_count": 8,
   "id": "04278c41-6b90-4b96-a38d-dd9d91fe896c",
   "metadata": {},
   "outputs": [],
   "source": [
    "def add(a,b):\n",
    "    print(a+b)\n",
    "def add(a,b,c):\n",
    "    print(a+b+c)\n",
    "#add(3,4)\n",
    "\n",
    "\n",
    "\n",
    "#             ---------------------------------------------------------------------------\n",
    "#             TypeError                                 Traceback (most recent call last)\n",
    "#             Cell In[22], line 5\n",
    "#                 3 def add(a,b,c):\n",
    "#                 4     print(a+b+c)\n",
    "#           ----> 5 add(3,4)\n",
    "#\n",
    "#             TypeError: add() missing 1 required positional argument: 'c'\n",
    "#\n",
    "#\n",
    "# It clearly means you cannot use overriding in python\n"
   ]
  },
  {
   "cell_type": "code",
   "execution_count": 22,
   "id": "4e9c1779-57b3-411f-b21a-c1ec73692137",
   "metadata": {},
   "outputs": [
    {
     "name": "stdout",
     "output_type": "stream",
     "text": [
      "Hello!\n"
     ]
    }
   ],
   "source": [
    "def f1():\n",
    "    print(\"Hello!\")\n",
    "f2=f1\n",
    "del f1\n",
    "f2()\n",
    "#f1() \n",
    "#---------------------------------------------------------------------------\n",
    "#NameError                                 Traceback (most recent call last)\n",
    "#Cell In[20], line 6\n",
    "#      4 del f1\n",
    "#      5 f2()\n",
    "#----> 6 f1()\n",
    "\n",
    "#NameError: name 'f1' is not defined"
   ]
  },
  {
   "cell_type": "code",
   "execution_count": null,
   "id": "d75d570c-904c-480c-b526-54529f89a78b",
   "metadata": {},
   "outputs": [],
   "source": []
  }
 ],
 "metadata": {
  "kernelspec": {
   "display_name": "Python 3 (ipykernel)",
   "language": "python",
   "name": "python3"
  },
  "language_info": {
   "codemirror_mode": {
    "name": "ipython",
    "version": 3
   },
   "file_extension": ".py",
   "mimetype": "text/x-python",
   "name": "python",
   "nbconvert_exporter": "python",
   "pygments_lexer": "ipython3",
   "version": "3.12.7"
  }
 },
 "nbformat": 4,
 "nbformat_minor": 5
}
