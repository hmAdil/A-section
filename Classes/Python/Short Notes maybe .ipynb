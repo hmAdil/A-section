{
 "cells": [
  {
   "cell_type": "code",
   "execution_count": 1,
   "metadata": {},
   "outputs": [
    {
     "data": {
      "text/plain": [
       "'\\n1. Computational Problem Solving\\n        Definition:\\n            The process of solving a problem by breaking it into smaller, logically solvable parts using computational tools such as algorithms and programming.\\n\\n        Limits of Computational Problem Solving:\\n            Some problems are undecidable, e.g., the Halting Problem.\\n            Resource limitations (time, memory, energy).\\n            Precision issues in numerical computation.\\n\\n\\n2. Computer Algorithm\\n        Definition:\\n            A step-by-step procedure to solve a problem in a finite number of steps.\\n\\n        Example Algorithm:\\n            Find the largest number in a list.\\n                Start with the first element as the largest.\\n                Compare with each element in the list.\\n                Update the largest if a greater element is found.\\n                Return the largest.\\n\\n\\n3. Computer Hardware\\n        Components:\\n            Input devices: Mouse, keyboard.\\n            Processing unit: CPU (performs calculations).\\n            Memory: RAM (temporary) and storage (permanent).\\n            Output devices: Monitor, printer.\\n\\n\\n4. Digital Computer\\n        Works with binary numbers (0 and 1).\\n        Performs data processing using digital circuits.\\n        Example: Modern laptops and smartphones are digital computers.\\n\\n5. Operating System (OS)\\n        Definition:\\n            Software that acts as a bridge between hardware and applications, managing resources like memory and processors.\\n\\n        Functions:\\n            Process management.\\n            File management.\\n            Resource allocation.\\n            Example: When you open a file, the OS ensures the file is read from the hard drive and displayed on the screen.\\n\\n6. Limits of IC Technology\\n        Miniaturization limits: As circuits become smaller, quantum effects interfere.\\n        Heat dissipation: Dense ICs generate heat.\\n        Cost and materials: Advanced manufacturing increases costs.\\n7. Computer Software\\n        System Software: Includes OS like Windows and Linux.\\n        Application Software: Programs like MS Word or Chrome.\\n8. Syntax and Semantics\\n        Syntax: Rules for writing code.\\n            Example: print(Hello) is invalid because quotes are missing.\\n        Semantics: Meaning of code.\\n            Example: print(\"Hello\") displays \"Hello\".\\n'"
      ]
     },
     "execution_count": 1,
     "metadata": {},
     "output_type": "execute_result"
    }
   ],
   "source": [
    "\"\"\"\n",
    "1. Computational Problem Solving\n",
    "        Definition:\n",
    "            The process of solving a problem by breaking it into smaller, logically solvable parts using computational tools such as algorithms and programming.\n",
    "\n",
    "        Limits of Computational Problem Solving:\n",
    "            Some problems are undecidable, e.g., the Halting Problem.\n",
    "            Resource limitations (time, memory, energy).\n",
    "            Precision issues in numerical computation.\n",
    "\n",
    "\n",
    "2. Computer Algorithm\n",
    "        Definition:\n",
    "            A step-by-step procedure to solve a problem in a finite number of steps.\n",
    "\n",
    "        Example Algorithm:\n",
    "            Find the largest number in a list.\n",
    "                Start with the first element as the largest.\n",
    "                Compare with each element in the list.\n",
    "                Update the largest if a greater element is found.\n",
    "                Return the largest.\n",
    "\n",
    "\n",
    "3. Computer Hardware\n",
    "        Components:\n",
    "            Input devices: Mouse, keyboard.\n",
    "            Processing unit: CPU (performs calculations).\n",
    "            Memory: RAM (temporary) and storage (permanent).\n",
    "            Output devices: Monitor, printer.\n",
    "\n",
    "\n",
    "4. Digital Computer\n",
    "        Works with binary numbers (0 and 1).\n",
    "        Performs data processing using digital circuits.\n",
    "        Example: Modern laptops and smartphones are digital computers.\n",
    "\n",
    "5. Operating System (OS)\n",
    "        Definition:\n",
    "            Software that acts as a bridge between hardware and applications, managing resources like memory and processors.\n",
    "\n",
    "        Functions:\n",
    "            Process management.\n",
    "            File management.\n",
    "            Resource allocation.\n",
    "            Example: When you open a file, the OS ensures the file is read from the hard drive and displayed on the screen.\n",
    "\n",
    "6. Limits of IC Technology\n",
    "        Miniaturization limits: As circuits become smaller, quantum effects interfere.\n",
    "        Heat dissipation: Dense ICs generate heat.\n",
    "        Cost and materials: Advanced manufacturing increases costs.\n",
    "7. Computer Software\n",
    "        System Software: Includes OS like Windows and Linux.\n",
    "        Application Software: Programs like MS Word or Chrome.\n",
    "8. Syntax and Semantics\n",
    "        Syntax: Rules for writing code.\n",
    "            Example: print(Hello) is invalid because quotes are missing.\n",
    "        Semantics: Meaning of code.\n",
    "            Example: print(\"Hello\") displays \"Hello\".\n",
    "\"\"\""
   ]
  },
  {
   "cell_type": "code",
   "execution_count": 2,
   "metadata": {},
   "outputs": [
    {
     "name": "stdout",
     "output_type": "stream",
     "text": [
      "Hello, World!\n"
     ]
    }
   ],
   "source": [
    "# 9. Introduction to Python Programming\n",
    "# Example of simple python code\n",
    "print(\"Hello, World!\")  # Output: Hello, World!\n",
    "\n",
    "# Variables and Types\n",
    "x = 10\n",
    "y = 3.5\n",
    "z = \"Python\"\n",
    "\n",
    "# Input Function\n",
    "# name = input(\"Enter your name: \")\n",
    "# print(\"Hello, \" + name)"
   ]
  },
  {
   "cell_type": "markdown",
   "metadata": {},
   "source": [
    "# Control Structures"
   ]
  },
  {
   "cell_type": "code",
   "execution_count": 3,
   "metadata": {},
   "outputs": [
    {
     "name": "stdout",
     "output_type": "stream",
     "text": [
      "Positive\n"
     ]
    }
   ],
   "source": [
    "# If-Else\n",
    "x = 5\n",
    "if x > 0:\n",
    "    print(\"Positive\")\n",
    "else:\n",
    "    print(\"Non-positive\")"
   ]
  },
  {
   "cell_type": "code",
   "execution_count": 4,
   "metadata": {},
   "outputs": [
    {
     "name": "stdout",
     "output_type": "stream",
     "text": [
      "0 1 2 3 4 "
     ]
    }
   ],
   "source": [
    "# For loops\n",
    "for i in range(5):\n",
    "    print(i, end = ' ')"
   ]
  },
  {
   "cell_type": "code",
   "execution_count": 5,
   "metadata": {},
   "outputs": [
    {
     "name": "stdout",
     "output_type": "stream",
     "text": [
      "0 1 2 3 4 5 6 7 8 9 "
     ]
    }
   ],
   "source": [
    "# While loops\n",
    "n = 0\n",
    "while n < 10:\n",
    "    print(n, end = ' ')\n",
    "    n += 1"
   ]
  },
  {
   "cell_type": "markdown",
   "metadata": {},
   "source": [
    "# Unit 2\n"
   ]
  },
  {
   "cell_type": "markdown",
   "metadata": {},
   "source": [
    "# Lists\n"
   ]
  },
  {
   "cell_type": "code",
   "execution_count": 6,
   "metadata": {},
   "outputs": [
    {
     "name": "stdout",
     "output_type": "stream",
     "text": [
      "2\n",
      "[1, 2, 'apple', 6.9]\n",
      "[1, 2, 50, 6.9]\n",
      "[1, 2, 50, 6.9, 90]\n",
      "[1, 2, 50, 6.9, 90, 70, 80]\n",
      "[1, 'apple', 2, 50, 6.9, 90, 70, 80]\n",
      "[1, 'apple', 50, 6.9, 90, 70, 80]\n",
      "[1, 'apple', 6.9, 90, 70, 80]\n",
      "[10, 70, 20, 33, 2, 3.9]\n",
      "[2, 3.9, 10, 20, 33, 70]\n",
      "[70, 33, 20, 10, 3.9, 2]\n"
     ]
    }
   ],
   "source": [
    "# They are ordered and mutable that allows duplicate elements\n",
    "# A list with only one datatype is a homogeneous list while one with more than one datatype is a hetrogenous list\n",
    "\n",
    "\n",
    "l = [1, 2, 'apple', 6.9]                                            # Define list\n",
    "print(l[1])                                                         # Access list\n",
    "print(l)                                                            # Prints the whole list\n",
    "\n",
    "# Updating list elements\n",
    "l[2] = 50\n",
    "print(l)\n",
    "\n",
    "# Adding elements\n",
    "l.append(90)\n",
    "print(l)\n",
    "\n",
    "# Extending a list (adding multiple variables at once)\n",
    "l.extend([70, 80])\n",
    "print(l)\n",
    "\n",
    "# Inserting an element (adding an element into a specific postion)\n",
    "l.insert(1, 'apple')\n",
    "print(l)\n",
    "\n",
    "\n",
    "# Removing elements\n",
    "l.pop(2)                                                            # Removes element from given postion\n",
    "print(l)\n",
    "\n",
    "l.remove(50)                                                        # Removes element specified\n",
    "print(l)\n",
    "\n",
    "\n",
    "# Sorting a homogenous list containing only numbers\n",
    "l1 = [10, 70, 20, 33, 2, 3.9]\n",
    "print(l1)\n",
    "l1.sort()\n",
    "print(l1)\n",
    "\n",
    "# Reversing the order of the list\n",
    "l1.reverse()\n",
    "print(l1)"
   ]
  },
  {
   "cell_type": "markdown",
   "metadata": {},
   "source": [
    "# Tuples\n"
   ]
  },
  {
   "cell_type": "code",
   "execution_count": 7,
   "metadata": {},
   "outputs": [
    {
     "name": "stdout",
     "output_type": "stream",
     "text": [
      "(1, 2, 'apple', 4.5)\n",
      "apple\n",
      "(1, 2, 'apple', 4.5, 5, 6)\n",
      "5\n",
      "4\n"
     ]
    }
   ],
   "source": [
    "# It is an ordered, immutable collection that allows duplicate elements\n",
    "# Immutable = tuple can't be modified\n",
    "\n",
    "\n",
    "t = (1, 2, 'apple', 4.5)                                            # Define a tuple\n",
    "print(t)\n",
    "print(t[2])                                                         # Access a specific element\n",
    "\n",
    "\n",
    "# Concatenation\n",
    "t1 = t + (5, 6)                                                     # Two tuples can be added to eachother\n",
    "print(t1)\n",
    "\n",
    "\n",
    "# Count() = returns the count of a given value from the tuple\n",
    "t2 = (1, 1, 1, 2, 0, 1, 7, 1, 3, 2)\n",
    "print(t2.count(1))\n",
    "\n",
    "\n",
    "# Index() = retuns the index / postion (starts counting from 0) of a given value from the tuple\n",
    "print(t2.index(0))"
   ]
  },
  {
   "cell_type": "markdown",
   "metadata": {},
   "source": [
    "# Dictionaries\n"
   ]
  },
  {
   "cell_type": "code",
   "execution_count": 8,
   "metadata": {},
   "outputs": [
    {
     "name": "stdout",
     "output_type": "stream",
     "text": [
      "{'Name': 'IDK', 'Age': 25, 'City': 'Tokyo'}\n",
      "IDK\n",
      "{'Name': 'IDK', 'Age': 26, 'City': 'Tokyo', 'Country': 'Japan'}\n",
      "{'Name': 'IDK', 'Age': 26, 'City': 'Tokyo'}\n",
      "Name: IDK\n",
      "Age: 26\n",
      "City: Tokyo\n"
     ]
    }
   ],
   "source": [
    "# A dictionary is an unordered collection of key value pairs where the keys need to be unique but values can be reccurent\n",
    "\n",
    "# Syntax\n",
    "d = {'Name': 'IDK', 'Age': 25, 'City': 'Tokyo'}\n",
    "print(d)\n",
    "print(d['Name'])                                                    # Accesses the given key\n",
    "d['Age'] = 26                                                       # Upates the dict to change the value for given key\n",
    "d['Country'] = 'Japan'                                              # Adds a key and a value\n",
    "print(d)\n",
    "\n",
    "\n",
    "# Removing keys from a dict\n",
    "d.pop('Country')\n",
    "# d.clear()                                                         # Clears the whole list\n",
    "print(d)\n",
    "\n",
    "\n",
    "# Iterating over keys and values\n",
    "for key, value in d.items():\n",
    "    print(f'{key}: {value}')"
   ]
  },
  {
   "cell_type": "markdown",
   "metadata": {},
   "source": [
    "# Sets"
   ]
  },
  {
   "cell_type": "code",
   "execution_count": 9,
   "metadata": {},
   "outputs": [
    {
     "name": "stdout",
     "output_type": "stream",
     "text": [
      "{1, 2, 3, 4}\n",
      "{1, 2, 3, 4}\n",
      "{1, 2, 3, 4, 5}\n",
      "{1, 2, 4, 5}\n",
      "Union: {1, 2, 3, 4, 5, 6, 7, 9}\n",
      "Intersection: {3, 4}\n",
      "Difference: {1, 2, 5}\n",
      "Symmetric Difference: {1, 2, 5, 6, 7, 9}\n"
     ]
    }
   ],
   "source": [
    "# A set is an unordered collection of unique elements\n",
    "\n",
    "# Syntax\n",
    "s = {1, 2, 3, 4}\n",
    "print(s)\n",
    "print(s)\n",
    "\n",
    "# Adding elements\n",
    "s.add(5)\n",
    "print(s)\n",
    "\n",
    "# Remove elements\n",
    "s.remove(3)\n",
    "print(s)\n",
    "\n",
    "# Operatitions on sets\n",
    "s1 = {1, 2, 3, 4, 5}\n",
    "s2 = {6, 7, 3, 9, 4}\n",
    "print(f'Union: {s1 | s2}')\n",
    "print(f'Intersection: {s1 & s2}')\n",
    "print(f'Difference: {s1 - s2}')\n",
    "print(f'Symmetric Difference: {s1 ^ s2}')"
   ]
  },
  {
   "cell_type": "markdown",
   "metadata": {},
   "source": [
    "# Strings"
   ]
  },
  {
   "cell_type": "code",
   "execution_count": 10,
   "metadata": {},
   "outputs": [
    {
     "name": "stdout",
     "output_type": "stream",
     "text": [
      "W\n",
      "Hello Wo\n",
      "HELLO WORLD\n",
      "hello world\n",
      "Heidk World\n"
     ]
    }
   ],
   "source": [
    "# Strings are immutable sequences of characters.\n",
    "\n",
    "# Syntax\n",
    "z = 'Hello World'\n",
    "\n",
    "# Accessing Characters\n",
    "print(z[6])\n",
    "\n",
    "# Slicing\n",
    "print(z[0:8])\n",
    "\n",
    "print(z.upper())                                                        # Converts everything to uppercase\n",
    "print(z.lower())                                                        # Converts everything to lowercase\n",
    "print(z.replace('llo', 'idk'))                                          # Replaces an old substring with a new substring"
   ]
  },
  {
   "cell_type": "markdown",
   "metadata": {},
   "source": [
    "# File Manipulation"
   ]
  },
  {
   "cell_type": "code",
   "execution_count": 11,
   "metadata": {},
   "outputs": [
    {
     "name": "stdout",
     "output_type": "stream",
     "text": [
      "no.,name,job\n",
      "1,bakchodi,person\n",
      "2,is,cook\n",
      "3,real,cleaner\n",
      "['no.,name,job\\n', '1,bakchodi,person\\n', '2,is,cook\\n', '3,real,cleaner\\n', '4,Hello,World idkatp']\n"
     ]
    }
   ],
   "source": [
    "# Reading files\n",
    "with open('example.csv', 'r') as f:\n",
    "    content = f.read()\n",
    "    print(content)\n",
    "\n",
    "\n",
    "# Writing files (this will rewrite the whole file)\n",
    "# with open('example.csv', 'w') as f:\n",
    "#    f.write('Hello, World')\n",
    "#    print(f)\n",
    "\n",
    "\n",
    "# Appending files\n",
    "with open('example.csv', 'a') as f:\n",
    "    f.writelines('\\n4,Hello,World idkatp')\n",
    "with open('example.csv', 'r') as f:\n",
    "    content = f.readlines()\n",
    "    print(content)\n",
    "\n",
    "\n",
    "# Files are automatically closed when opened using \"with\" but if opened any other way we can use file.close()"
   ]
  },
  {
   "cell_type": "markdown",
   "metadata": {},
   "source": [
    "# File modes"
   ]
  },
  {
   "cell_type": "code",
   "execution_count": null,
   "metadata": {},
   "outputs": [],
   "source": []
  },
  {
   "cell_type": "code",
   "execution_count": 12,
   "metadata": {},
   "outputs": [
    {
     "name": "stdout",
     "output_type": "stream",
     "text": [
      "+--------+--------------------------------------------------------------------------------------+\n",
      "| Mode   | Operation                                                                            |\n",
      "+========+======================================================================================+\n",
      "| r      | Opens a file for reading. Fails if the file does not exist.                          |\n",
      "+--------+--------------------------------------------------------------------------------------+\n",
      "| w      | Opens a file for writing. Creates a new file or truncates existing content.          |\n",
      "+--------+--------------------------------------------------------------------------------------+\n",
      "| a      | Opens a file for appending. Creates a file if it doesn’t exist.                      |\n",
      "+--------+--------------------------------------------------------------------------------------+\n",
      "| r+     | Opens a file for both reading and writing.                                           |\n",
      "+--------+--------------------------------------------------------------------------------------+\n",
      "| w+     | Opens a file for both reading and writing. Overwrites the file if it exists.         |\n",
      "+--------+--------------------------------------------------------------------------------------+\n",
      "| a+     | Opens a file for both reading and appending. Creates a new file if it doesn’t exist. |\n",
      "+--------+--------------------------------------------------------------------------------------+\n",
      "| b      | Opens the file in binary mode, e.g., 'rb', 'wb', 'ab'.                               |\n",
      "+--------+--------------------------------------------------------------------------------------+\n"
     ]
    }
   ],
   "source": [
    "from tabulate import tabulate\n",
    "\n",
    "# Data for the table\n",
    "data = [\n",
    "    [\"r\", \"Opens a file for reading. Fails if the file does not exist.\"],\n",
    "    [\"w\", \"Opens a file for writing. Creates a new file or truncates existing content.\"],\n",
    "    [\"a\", \"Opens a file for appending. Creates a file if it doesn’t exist.\"],\n",
    "    [\"r+\", \"Opens a file for both reading and writing.\"],\n",
    "    [\"w+\", \"Opens a file for both reading and writing. Overwrites the file if it exists.\"],\n",
    "    [\"a+\", \"Opens a file for both reading and appending. Creates a new file if it doesn’t exist.\"],\n",
    "    [\"b\", \"Opens the file in binary mode, e.g., 'rb', 'wb', 'ab'.\"]\n",
    "]\n",
    "\n",
    "# Column headers\n",
    "headers = [\"Mode\", \"Operation\"]\n",
    "\n",
    "# Generate and print the table\n",
    "print(tabulate(data, headers=headers, tablefmt=\"grid\"))"
   ]
  },
  {
   "cell_type": "markdown",
   "metadata": {},
   "source": [
    "# File methods"
   ]
  },
  {
   "cell_type": "code",
   "execution_count": 13,
   "metadata": {},
   "outputs": [
    {
     "name": "stdout",
     "output_type": "stream",
     "text": [
      "+-----------------------+-----------------------------------------------------------------+\n",
      "| Method                | Description                                                     |\n",
      "+=======================+=================================================================+\n",
      "| file.read(size)       | Reads up to size characters. If omitted, reads the entire file. |\n",
      "+-----------------------+-----------------------------------------------------------------+\n",
      "| file.readline()       | Reads the next line from the file.                              |\n",
      "+-----------------------+-----------------------------------------------------------------+\n",
      "| file.readlines()      | Reads all lines and returns them as a list.                     |\n",
      "+-----------------------+-----------------------------------------------------------------+\n",
      "| file.write(string)    | Writes a string to the file.                                    |\n",
      "+-----------------------+-----------------------------------------------------------------+\n",
      "| file.writelines(list) | Writes a list of strings to the file.                           |\n",
      "+-----------------------+-----------------------------------------------------------------+\n",
      "| file.seek(offset)     | Moves the file pointer to a specified position.                 |\n",
      "+-----------------------+-----------------------------------------------------------------+\n",
      "| file.tell()           | Returns the current position of the file pointer.               |\n",
      "+-----------------------+-----------------------------------------------------------------+\n",
      "| file.close()          | Closes the file.                                                |\n",
      "+-----------------------+-----------------------------------------------------------------+\n"
     ]
    }
   ],
   "source": [
    "from tabulate import tabulate\n",
    "\n",
    "# Data for the table\n",
    "data = [\n",
    "    [\"file.read(size)\", \"Reads up to size characters. If omitted, reads the entire file.\"],\n",
    "    [\"file.readline()\", \"Reads the next line from the file.\"],\n",
    "    [\"file.readlines()\", \"Reads all lines and returns them as a list.\"],\n",
    "    [\"file.write(string)\", \"Writes a string to the file.\"],\n",
    "    [\"file.writelines(list)\", \"Writes a list of strings to the file.\"],\n",
    "    [\"file.seek(offset)\", \"Moves the file pointer to a specified position.\"],\n",
    "    [\"file.tell()\", \"Returns the current position of the file pointer.\"],\n",
    "    [\"file.close()\", \"Closes the file.\"]\n",
    "]\n",
    "\n",
    "# Column headers\n",
    "headers = [\"Method\", \"Description\"]\n",
    "\n",
    "# Generate and print the table\n",
    "print(tabulate(data, headers=headers, tablefmt=\"grid\"))"
   ]
  },
  {
   "cell_type": "code",
   "execution_count": 14,
   "metadata": {},
   "outputs": [
    {
     "name": "stdout",
     "output_type": "stream",
     "text": [
      "The file does not exist.\n"
     ]
    }
   ],
   "source": [
    "# File handling exceptions\n",
    "try:\n",
    "    with open(\"nonexistent.txt\", \"r\") as file:\n",
    "        content = file.read()\n",
    "except FileNotFoundError:\n",
    "    print(\"The file does not exist.\")"
   ]
  },
  {
   "cell_type": "markdown",
   "metadata": {},
   "source": [
    "# File pointer management"
   ]
  },
  {
   "cell_type": "markdown",
   "metadata": {},
   "source": [
    "# tell()"
   ]
  },
  {
   "cell_type": "code",
   "execution_count": 15,
   "metadata": {},
   "outputs": [
    {
     "name": "stdout",
     "output_type": "stream",
     "text": [
      "2\n"
     ]
    }
   ],
   "source": [
    "# Returns the file pointer's current position\n",
    "with open(\"example.csv\", \"r\") as file:\n",
    "    file.read(2)\n",
    "    print(file.tell())  # Output: 2"
   ]
  },
  {
   "cell_type": "markdown",
   "metadata": {},
   "source": [
    "# seek()"
   ]
  },
  {
   "cell_type": "code",
   "execution_count": 16,
   "metadata": {},
   "outputs": [
    {
     "name": "stdout",
     "output_type": "stream",
     "text": [
      "no.,name,job\n",
      "1,bakchodi,person\n",
      "2,is,cook\n",
      "3,real,cleaner\n",
      "4,Hello,World idkatp\n"
     ]
    }
   ],
   "source": [
    "# Syntax\n",
    "# file.seek(offset, whence)\n",
    "# offset: number of bytes to move\n",
    "# whence: reference point (0: beginning of the file(default), 1: current position, 2: end of the life)\n",
    "\n",
    "with open(\"example.csv\", \"r\") as file:\n",
    "    file.seek(0)  # Move to the start\n",
    "    print(file.read())"
   ]
  },
  {
   "cell_type": "markdown",
   "metadata": {},
   "source": [
    "# Reading and writing binary files"
   ]
  },
  {
   "cell_type": "code",
   "execution_count": 17,
   "metadata": {},
   "outputs": [
    {
     "data": {
      "text/plain": [
       "'\\n# Writing a binary file\\nwith open(\"binary_file.bin\", \"wb\") as file:\\n    file.write(b\"This is binary data\")\\n\\n# Reading a binary file\\nwith open(\"binary_file.bin\", \"rb\") as file:\\n    data = file.read()\\n    print(data)  # Output: b\\'This is binary data\\'\\n'"
      ]
     },
     "execution_count": 17,
     "metadata": {},
     "output_type": "execute_result"
    }
   ],
   "source": [
    "# Binary files are used for images, videos, etc\n",
    "\n",
    "\"\"\"\n",
    "# Writing a binary file\n",
    "with open(\"binary_file.bin\", \"wb\") as file:\n",
    "    file.write(b\"This is binary data\")\n",
    "\n",
    "# Reading a binary file\n",
    "with open(\"binary_file.bin\", \"rb\") as file:\n",
    "    data = file.read()\n",
    "    print(data)  # Output: b'This is binary data'\n",
    "\"\"\""
   ]
  },
  {
   "cell_type": "markdown",
   "metadata": {},
   "source": [
    "# Working with text files"
   ]
  },
  {
   "cell_type": "code",
   "execution_count": 18,
   "metadata": {},
   "outputs": [
    {
     "name": "stdout",
     "output_type": "stream",
     "text": [
      "Hello, World!\n",
      "This is a sample file.\n",
      "Appended text here.\n"
     ]
    }
   ],
   "source": [
    "# Reading\n",
    "with open(\"text_file.txt\", \"r\") as file:\n",
    "    lines = file.readlines()\n",
    "    for line in lines:\n",
    "        print(line.strip())\n",
    "\n",
    "\n",
    "# Writing\n",
    "with open(\"text_file.txt\", \"w\") as file:\n",
    "    file.write(\"This is the first line.\\nThis is the second line.\")"
   ]
  },
  {
   "cell_type": "markdown",
   "metadata": {},
   "source": [
    "# File iteration"
   ]
  },
  {
   "cell_type": "code",
   "execution_count": 19,
   "metadata": {},
   "outputs": [
    {
     "name": "stdout",
     "output_type": "stream",
     "text": [
      "This is the first line.\n",
      "This is the second line.\n"
     ]
    }
   ],
   "source": [
    "# Files can be iterated line by line\n",
    "with open(\"text_file.txt\", \"r\") as file:\n",
    "    for line in file:\n",
    "        print(line.strip())"
   ]
  },
  {
   "cell_type": "markdown",
   "metadata": {},
   "source": [
    "# Full file handling workflow example"
   ]
  },
  {
   "cell_type": "code",
   "execution_count": 20,
   "metadata": {},
   "outputs": [
    {
     "name": "stdout",
     "output_type": "stream",
     "text": [
      "Hello, World!\n",
      "This is a sample file.\n",
      "Hello, World!\n",
      "This is a sample file.\n",
      "Appended text here.\n"
     ]
    }
   ],
   "source": [
    "# Writing to a file\n",
    "with open(\"text_file.txt\", \"w\") as file:\n",
    "    file.write(\"Hello, World!\\nThis is a sample file.\")\n",
    "\n",
    "# Reading from a file\n",
    "with open(\"text_file.txt\", \"r\") as file:\n",
    "    content = file.read()\n",
    "    print(content)\n",
    "\n",
    "# Appending to a file\n",
    "with open(\"text_file.txt\", \"a\") as file:\n",
    "    file.write(\"\\nAppended text here.\")\n",
    "\n",
    "# Reading from a file again\n",
    "with open(\"text_file.txt\", \"r\") as file:\n",
    "    content = file.read()\n",
    "    print(content)"
   ]
  },
  {
   "cell_type": "markdown",
   "metadata": {},
   "source": [
    "# Functions"
   ]
  },
  {
   "cell_type": "code",
   "execution_count": 21,
   "metadata": {},
   "outputs": [
    {
     "name": "stdout",
     "output_type": "stream",
     "text": [
      "8\n",
      "Hello, Alice!\n",
      "Hi, Alice!\n"
     ]
    }
   ],
   "source": [
    "# Postional Parameters\n",
    "def add(x, y):\n",
    "    return x + y\n",
    "\n",
    "print(add(3, 5))  # Output: 8\n",
    "\n",
    "\n",
    "# Keyword Parameters\n",
    "def greet(name, msg):\n",
    "    print(f\"{msg}, {name}!\")\n",
    "\n",
    "greet(name=\"Alice\", msg=\"Hello\")  # Output: Hello, Alice!\n",
    "\n",
    "\n",
    "# Default Parameters\n",
    "def greet(name, msg=\"Hi\"):\n",
    "    print(f\"{msg}, {name}!\")\n",
    "\n",
    "greet(\"Alice\")  # Output: Hi, Alice!"
   ]
  },
  {
   "cell_type": "code",
   "execution_count": 22,
   "metadata": {},
   "outputs": [
    {
     "name": "stdout",
     "output_type": "stream",
     "text": [
      "10\n",
      "name: Alice\n",
      "age: 25\n"
     ]
    }
   ],
   "source": [
    "# *args: for multiple postional arguments\n",
    "def add_all(*numbers):\n",
    "    return sum(numbers)\n",
    "\n",
    "print(add_all(1, 2, 3, 4))  # Output: 10\n",
    "\n",
    "\n",
    "# **kwargs: for multiple keyword arguments\n",
    "def print_details(**details):\n",
    "    for key, value in details.items():\n",
    "        print(f\"{key}: {value}\")\n",
    "\n",
    "print_details(name=\"Alice\", age=25)\n",
    "# Output:\n",
    "# name: Alice\n",
    "# age: 25"
   ]
  },
  {
   "cell_type": "markdown",
   "metadata": {},
   "source": [
    "# Summary table of collections"
   ]
  },
  {
   "cell_type": "code",
   "execution_count": 23,
   "metadata": {},
   "outputs": [
    {
     "name": "stdout",
     "output_type": "stream",
     "text": [
      "+--------------+-----------+-----------+---------------------+----------------------------+\n",
      "| Collection   | Mutable   | Ordered   | Allows Duplicates   | Example Syntax             |\n",
      "+==============+===========+===========+=====================+============================+\n",
      "| List         | Yes       | Yes       | Yes                 | my_list = [1, 2, 3]        |\n",
      "+--------------+-----------+-----------+---------------------+----------------------------+\n",
      "| Tuple        | No        | Yes       | Yes                 | my_tuple = (1, 2, 3)       |\n",
      "+--------------+-----------+-----------+---------------------+----------------------------+\n",
      "| Dictionary   | Yes       | No        | No (for keys)       | my_dict = {'key': 'value'} |\n",
      "+--------------+-----------+-----------+---------------------+----------------------------+\n",
      "| Set          | Yes       | No        | No                  | my_set = {1, 2, 3}         |\n",
      "+--------------+-----------+-----------+---------------------+----------------------------+\n",
      "| String       | No        | Yes       | Yes                 | my_str = 'Hello'           |\n",
      "+--------------+-----------+-----------+---------------------+----------------------------+\n"
     ]
    }
   ],
   "source": [
    "from tabulate import tabulate\n",
    "\n",
    "# Data for the table\n",
    "data = [\n",
    "    [\"List\", \"Yes\", \"Yes\", \"Yes\", \"my_list = [1, 2, 3]\"],\n",
    "    [\"Tuple\", \"No\", \"Yes\", \"Yes\", \"my_tuple = (1, 2, 3)\"],\n",
    "    [\"Dictionary\", \"Yes\", \"No\", \"No (for keys)\", \"my_dict = {'key': 'value'}\"],\n",
    "    [\"Set\", \"Yes\", \"No\", \"No\", \"my_set = {1, 2, 3}\"],\n",
    "    [\"String\", \"No\", \"Yes\", \"Yes\", \"my_str = 'Hello'\"]\n",
    "]\n",
    "\n",
    "# Define column headers\n",
    "headers = [\"Collection\", \"Mutable\", \"Ordered\", \"Allows Duplicates\", \"Example Syntax\"]\n",
    "\n",
    "# Create a table using tabulate\n",
    "print(tabulate(data, headers=headers, tablefmt=\"grid\"))"
   ]
  }
 ],
 "metadata": {
  "kernelspec": {
   "display_name": "Python 3 (ipykernel)",
   "language": "python",
   "name": "python3"
  },
  "language_info": {
   "codemirror_mode": {
    "name": "ipython",
    "version": 3
   },
   "file_extension": ".py",
   "mimetype": "text/x-python",
   "name": "python",
   "nbconvert_exporter": "python",
   "pygments_lexer": "ipython3",
   "version": "3.12.4"
  }
 },
 "nbformat": 4,
 "nbformat_minor": 4
}
