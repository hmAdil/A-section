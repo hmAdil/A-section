{
 "cells": [
  {
   "cell_type": "code",
   "execution_count": 2,
   "id": "1873ac2c-883d-4a3b-a261-d84de899bce4",
   "metadata": {},
   "outputs": [],
   "source": [
    "#append,insert,pop,remove\n",
    "# append is used to insert an element in list at end"
   ]
  },
  {
   "cell_type": "code",
   "execution_count": 6,
   "id": "931001cb-0758-4b08-b573-3edf57549387",
   "metadata": {},
   "outputs": [
    {
     "name": "stdout",
     "output_type": "stream",
     "text": [
      "[34, 89.5, 'python', 56]\n"
     ]
    }
   ],
   "source": [
    "lst4 = [34, 89.5, 'python']\n",
    "lst4.append(56)\n",
    "print(lst4)"
   ]
  },
  {
   "cell_type": "code",
   "execution_count": 8,
   "id": "b3bb599b-03ce-4dcc-ae38-9af75c186c1b",
   "metadata": {},
   "outputs": [
    {
     "name": "stdout",
     "output_type": "stream",
     "text": [
      "[12, [2, 3, 4, 'a'], 67]\n"
     ]
    }
   ],
   "source": [
    "lst5 = [12, [2,3,4], 67]\n",
    "lst5[1].append('a')\n",
    "print(lst5)"
   ]
  },
  {
   "cell_type": "code",
   "execution_count": 10,
   "id": "560eac8b-b05e-4471-b879-460bbafc603b",
   "metadata": {},
   "outputs": [],
   "source": [
    "# insert function insert an element at index position\n",
    "# insert(index,val)"
   ]
  },
  {
   "cell_type": "code",
   "execution_count": 3,
   "id": "31e31086-c439-40b1-bf24-e900aa725ded",
   "metadata": {},
   "outputs": [
    {
     "name": "stdout",
     "output_type": "stream",
     "text": [
      "[34, 89.5, 67, 'python']\n"
     ]
    }
   ],
   "source": [
    "lst4 = [34, 89.5, 'python']\n",
    "lst4.insert(2,67)\n",
    "print(lst4)"
   ]
  },
  {
   "cell_type": "code",
   "execution_count": 5,
   "id": "3f079259-f8f7-4a68-abea-869765c683f4",
   "metadata": {},
   "outputs": [
    {
     "name": "stdout",
     "output_type": "stream",
     "text": [
      "[34, 89.5, 67, 'python', 31]\n"
     ]
    }
   ],
   "source": [
    "lst4.insert(5,31)\n",
    "print(lst4)"
   ]
  },
  {
   "cell_type": "code",
   "execution_count": 7,
   "id": "f465eba2-ce23-42bc-9beb-21a435811c1f",
   "metadata": {},
   "outputs": [],
   "source": [
    "# pop(index) it removes element at index"
   ]
  },
  {
   "cell_type": "code",
   "execution_count": 9,
   "id": "cb63fcd4-b742-483f-a9c4-88a8c628bd76",
   "metadata": {},
   "outputs": [
    {
     "name": "stdout",
     "output_type": "stream",
     "text": [
      "[34, 89.5, 'python', 31]\n"
     ]
    }
   ],
   "source": [
    "lst4.pop(2)\n",
    "print(lst4)"
   ]
  },
  {
   "cell_type": "code",
   "execution_count": 15,
   "id": "03bf9fa2-91a0-4007-aed3-c2b3e6979ee6",
   "metadata": {},
   "outputs": [
    {
     "name": "stdout",
     "output_type": "stream",
     "text": [
      "[34, 'python', 31]\n"
     ]
    }
   ],
   "source": [
    "lst4.remove(89.5)\n",
    "print(lst4)"
   ]
  },
  {
   "cell_type": "code",
   "execution_count": 17,
   "id": "bd9f6213-8bb9-4599-9dbd-1917694e64de",
   "metadata": {},
   "outputs": [],
   "source": [
    "# concatenation + and repetatio * operator on list"
   ]
  },
  {
   "cell_type": "code",
   "execution_count": 19,
   "id": "a63e2857-0bb9-42ed-858c-aef6680c6ccb",
   "metadata": {},
   "outputs": [
    {
     "name": "stdout",
     "output_type": "stream",
     "text": [
      "[1, 2, 3, 'a', 'b', 'c']\n",
      "[1, 2, 3, 1, 2, 3]\n"
     ]
    }
   ],
   "source": [
    "l4 = [1,2,3]\n",
    "l5 = ['a','b','c']\n",
    "print(l4+l5)\n",
    "print(l4*2)"
   ]
  },
  {
   "cell_type": "code",
   "execution_count": 21,
   "id": "f3310017-af06-49f0-876b-0f7333f255d3",
   "metadata": {},
   "outputs": [],
   "source": [
    "# extend which add sequence at end"
   ]
  },
  {
   "cell_type": "code",
   "execution_count": 3,
   "id": "215f546c-3514-4e45-821f-f8e836657b0b",
   "metadata": {},
   "outputs": [
    {
     "name": "stdout",
     "output_type": "stream",
     "text": [
      "[1, 2, 3, 6, 7]\n"
     ]
    }
   ],
   "source": [
    "l4 = [1,2,3]\n",
    "l4.extend([6,7])\n",
    "print(l4)"
   ]
  },
  {
   "cell_type": "code",
   "execution_count": 11,
   "id": "fb2226b5-61fd-4364-b8e4-f67c380352da",
   "metadata": {},
   "outputs": [],
   "source": [
    "l4 = [1,2,3]\n",
    "l4.append([6,7])"
   ]
  }
 ],
 "metadata": {
  "kernelspec": {
   "display_name": "Python 3 (ipykernel)",
   "language": "python",
   "name": "python3"
  },
  "language_info": {
   "codemirror_mode": {
    "name": "ipython",
    "version": 3
   },
   "file_extension": ".py",
   "mimetype": "text/x-python",
   "name": "python",
   "nbconvert_exporter": "python",
   "pygments_lexer": "ipython3",
   "version": "3.12.4"
  }
 },
 "nbformat": 4,
 "nbformat_minor": 5
}
